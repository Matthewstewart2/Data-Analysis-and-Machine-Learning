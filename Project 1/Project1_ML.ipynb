{
 "cells": [
  {
   "cell_type": "markdown",
   "id": "5043e359",
   "metadata": {},
   "source": [
    "# Project1: Particle identification in Liquid Argon Time Projection Chambers\n",
    "\n",
    "<img src=\"http://deeplearnphysics.org/DataChallenge/static/images/Entry078_data.png\" alt=\"TPC3D\" style=\"width: 400px;\"/>\n",
    "\n",
    "## Introduction\n",
    "\n",
    "---\n",
    "\n",
    "<blockquote class=\"twitter-tweet\"><p lang=\"en\" dir=\"ltr\">Data Scientist (n.): Person who is better at statistics than any software engineer and better at software engineering than any statistician.</p>&mdash; Josh Wills (@josh_wills) <a href=\"https://twitter.com/josh_wills/status/198093512149958656?ref_src=twsrc%5Etfw\">May 3, 2012</a></blockquote> <script async src=\"https://platform.twitter.com/widgets.js\" charset=\"utf-8\"></script> \n",
    "\n",
    "---\n",
    "### Time Projection Chambers (TPC)\n",
    "Liquid argon TPCs are a type of neutrino detector which aims at providing high-resolution 3D track reconstruction which can in principle provide unprecedented detail in neutrino event reconstruction.\n",
    "\n",
    "Charged particles in liquid argon produce ionization electrons, which drift to the readout wire planes in an electric field of 273 V/cm. It takes 2.3 ms for an ionization electron to drift across the full width of the detector.\n",
    "One such LArTPC detector is found in the MicroBooNE experiment. MicroBoone has been recording data since 2015, and continuously records charge drifted and its arrival time on each wire. \n",
    "As a charged particle passes through a medium, it will create ionisation. In a TPC, an electric field causes the produced electrons to drift to anode wires at the end of the vessel. The drift time and the position of the hit wire are combined to provide a 3D reconstruction of the event.\n",
    "\n",
    "Wire and time data can be converted into an image format (charge on each wire versus drift time) while maintaining high resolution in wire, time and charge amplitude space. These information-rich\n",
    "LArTPC images are suitable for applying deep learning tools.\n",
    "\n",
    "\n",
    "### Example of first images from MicroBooNE experiment\n",
    "Liquid argon TPCs are ideal for neutrino experiments because they provide a relatively large target mass (unlike gas TPCs, which by their nature have relatively low densities). Neutrino interactions with LAr nuclei can result in several distinc signatures, such as a proton (p) and electron (e) being produced at a vertex point ([images from 2010.08653 [hep-ex]](https://inspirehep.net/literature/1823841)):\n",
    "\n",
    "<img src=\"https://inspirehep.net/files/cba430719ebf8bcb922cda5f98cb9824\" alt=\"MicroBooNE\" style=\"width: 300px;\"/> \n",
    "\n",
    "a proton, electron and photon (y) being produced from a vertex point. The photon flies through the material undetected and converts to a electron and positron pair ([pair production](https://en.wikipedia.org/wiki/Pair_production)) creating an electromagnetic shower.\n",
    "\n",
    "<img src=\"https://inspirehep.net/files/619950f112f0d77089e97134025c6d4e\" alt=\"MicroBooNE\" style=\"width: 300px;\"/> \n",
    "\n",
    "a proton and muon:\n",
    "\n",
    "<img src=\"https://inspirehep.net/files/9fe207573f051203a98987930e7a56c1\" alt=\"MicroBooNE\" style=\"width: 300px;\"/> \n",
    "\n",
    "and many other topologies. Classification of particles within the detector volume is therefore vital to being able to detect and measure neutrino collisions. You can read up on how MicroBooNE designed a convolutional neural network to identify images at [2010.08653 [hep-ex]](https://inspirehep.net/literature/1823841), which may serve as inpiration for your own CNNs.\n",
    "\n",
    "## TPC DATASET\n",
    "We will be using the open dataset from [deeplearningphysics.org](http://deeplearnphysics.org/DataChallenge/), which consists of liquid argon time projection chamber (LArTPC) simulated data. There are some great resources in terms of [Tutorials](http://deeplearnphysics.org/Blog/tutorial_summary.html#tutorial_summary) which describe the data, though the code that is used there is not applicable here directly.\n",
    "\n",
    "The subset of the dataset used are 90K in total simulated events for the purpouse of particle classification. Unlike the images we see above, the events here only have one particle in them, for the purpouse of doing particle by particle classification.\n",
    "\n",
    "Each event contains 3 projected images on the XY, YZ, and ZX planes.\n",
    "Each 2D image spans 128cm x 128cm space with 256 x 256 pixels, meaning each pixel corresponds to 0.5 cm in vertical and horizontal size. \n",
    "\n",
    "### Example \n",
    "Three 2D projected images from an event of a simulated electron. Blue colors are lower pixel intensity, meaning little to no ionisation capture, while red pixels are hot, meaning high ionisation. The point where the true particle is produced is marked with an X is taken from the truth information.\n",
    "\n",
    "![panes](https://cernbox.cern.ch/index.php/s/ulFmgU3nAjw9X8i/download)"
   ]
  },
  {
   "cell_type": "code",
   "execution_count": 20,
   "id": "e89b8d02",
   "metadata": {},
   "outputs": [],
   "source": [
    "# Standard import(s)\n",
    "import numpy as np\n",
    "import tensorflow as tf\n",
    "import matplotlib.pyplot as plt"
   ]
  },
  {
   "cell_type": "code",
   "execution_count": 28,
   "id": "58b293ab",
   "metadata": {},
   "outputs": [],
   "source": [
    "# Keras import(s)\n",
    "from tensorflow.python.keras.utils.vis_utils import plot_model\n",
    "from tensorflow.python.keras.models import Model, Sequential, load_model, save_model\n",
    "from tensorflow.python.keras.layers import Input, Dense, Dropout, Flatten, Reshape, Conv2D,RepeatVector, Conv2DTranspose, MaxPooling2D, Concatenate, Lambda,BatchNormalization, UpSampling2D\n",
    "from tensorflow.python.keras import backend as K\n",
    "from tensorflow.python.keras.losses import binary_crossentropy\n",
    "from tensorflow.python.keras.layers.advanced_activations import LeakyReLU\n",
    "from tensorflow.python.keras.backend import set_image_data_format\n",
    "from tensorflow.keras.optimizers import Adam\n",
    "from tensorflow.python.keras.wrappers.scikit_learn import KerasClassifier\n",
    "from sklearn.model_selection import GridSearchCV, cross_val_score\n",
    "from tensorflow.python.framework.ops import disable_eager_execution\n",
    "disable_eager_execution()\n",
    "set_image_data_format('channels_last')  # Images are formatted as (N, N, 1), with colour-channels last\n",
    "import scipy.sparse as sparse\n",
    "\n"
   ]
  },
  {
   "cell_type": "markdown",
   "id": "472d9f17",
   "metadata": {},
   "source": [
    "---\n",
    "### The image dataset"
   ]
  },
  {
   "cell_type": "markdown",
   "id": "3a8f492a",
   "metadata": {},
   "source": [
    "You can download the datasets from [this folder](https://cernbox.cern.ch/index.php/s/qk8uZgYlg7VubRi). You need both `LArTPC_images_90k.npz` and `LArTPC_truth_90k.npy`"
   ]
  },
  {
   "cell_type": "code",
   "execution_count": 22,
   "id": "094ff8a2",
   "metadata": {
    "scrolled": true
   },
   "outputs": [
    {
     "name": "stdout",
     "output_type": "stream",
     "text": [
      "<class 'scipy.sparse.csr.csr_matrix'> (90000, 196608) 17694720000\n"
     ]
    }
   ],
   "source": [
    "images = sparse.load_npz(\"LArTPC_images_90k.npz\")\n",
    "print(type(images),images.shape,np.prod(images.shape))"
   ]
  },
  {
   "cell_type": "markdown",
   "id": "48fa941f",
   "metadata": {},
   "source": [
    "**Note on image data**\n",
    "\n",
    "The data has been pre-prepared and loaded as **sparse matrices**. We use this special format since each image has `(256x256x3)= ` 197 thousand pixels. Loading the entire 90'000 images in a **dense matrix** (every value filled) to RAM would be **17 billion pixels and over 30GB** of nessesary RAM!\n",
    "\n",
    "However, since we have lots and lots of 0s in the images, which are largely empty except for pixels with particle activity, we can ignore the 0s with a sparce representation of the data, by keeping track of the index of the active pixels.\n"
   ]
  },
  {
   "cell_type": "code",
   "execution_count": 23,
   "id": "9ce8b04b",
   "metadata": {},
   "outputs": [
    {
     "data": {
      "text/plain": [
       "<90000x196608 sparse matrix of type '<class 'numpy.float64'>'\n",
       "\twith 66286812 stored elements in Compressed Sparse Row format>"
      ]
     },
     "execution_count": 23,
     "metadata": {},
     "output_type": "execute_result"
    }
   ],
   "source": [
    "images"
   ]
  },
  {
   "cell_type": "markdown",
   "id": "f4da6fae",
   "metadata": {},
   "source": [
    "With our sparse representation we only load **66 million active pixels** and their indexes (positions), which only take up around **500 MB**! \n",
    "\n",
    "Notice that our data images are flattened to 196608 pixels from the original (256,256,3). This is because sparce matrices only support two dimensional matrices. To get back our original image we need to reshape the image back.\n",
    "\n",
    "Here is a function to retrive the original 3 images in the XY, YZ and ZX planes\n",
    "\n",
    "**IMPORTANT:** Converting the images this way requires conversion to dense matrix, meaning the zeros are reintreduced. Hece we should only do this on a few events! "
   ]
  },
  {
   "cell_type": "code",
   "execution_count": 12,
   "id": "e47d470c",
   "metadata": {},
   "outputs": [],
   "source": [
    "def toimage(sparsearray):\n",
    "    #Convert to dense array, and reshape to three 2D images\n",
    "    reshape = sparsearray.toarray().reshape((256,256,3))\n",
    "    return reshape[:,:,0], reshape[:,:,1], reshape[:,:,2]"
   ]
  },
  {
   "cell_type": "markdown",
   "id": "8a2e0e23",
   "metadata": {},
   "source": [
    "Lets grab the 1st particle and retrieve the images using the `jet` color map.\n",
    "\n"
   ]
  },
  {
   "cell_type": "code",
   "execution_count": 13,
   "id": "ba235ceb",
   "metadata": {},
   "outputs": [],
   "source": [
    "XY,YZ,ZX = toimage(images[0])"
   ]
  },
  {
   "cell_type": "code",
   "execution_count": 19,
   "id": "bb280158",
   "metadata": {},
   "outputs": [
    {
     "data": {
      "image/png": "[encoded data removed]",
      "text/plain": [
       "<Figure size 2160x720 with 3 Axes>"
      ]
     },
     "metadata": {
      "needs_background": "light"
     },
     "output_type": "display_data"
    }
   ],
   "source": [
    "labels=[\"X-Y\",\"Y-Z\",\"Z-X\"]\n",
    "ilist= toimage(images[0])\n",
    "fig = plt.figure(figsize=(30,10))\n",
    "\n",
    "for index, image in enumerate(ilist):\n",
    "\n",
    "    plt.subplot(1,3,index+1)\n",
    "    #Show the image with imshow:\n",
    "    plt.imshow(image, interpolation='none',cmap='jet')\n",
    "    plt.xlabel('{}-plane (pix)'.format(labels[index].split(\"-\")[0]))\n",
    "    plt.ylabel('{}-plane (pix)'.format(labels[index].split(\"-\")[1]))\n",
    "    plt.title(labels[index])\n",
    "fig.savefig(\"lar_planes.png\")"
   ]
  },
  {
   "cell_type": "markdown",
   "id": "c3a66d72",
   "metadata": {},
   "source": [
    "---\n",
    "### Truth information\n",
    "\n",
    "Real data in a neutrino experiment does not come with labels, but since our dataset is simulated, we have the **truth level information** of the particles. We load the truth dataset here."
   ]
  },
  {
   "cell_type": "code",
   "execution_count": 24,
   "id": "3457f915",
   "metadata": {},
   "outputs": [],
   "source": [
    "truth = np.load(\"LArTPC_truth_90k.npy\")"
   ]
  },
  {
   "cell_type": "markdown",
   "id": "ae38ff37",
   "metadata": {},
   "source": [
    "We have eight truth arrays present in the dataset\n",
    "\n",
    "- The particle ID (particle type ID as defined by the [particle data group](https://pdg.lbl.gov/2007/reviews/montecarlorpp.pdf))\n",
    "    - 11   : 'electron',\n",
    "    - 22   : 'photon',\n",
    "    - 13   : 'muon',\n",
    "    - 211  : 'pion',\n",
    "    - 2212 : 'proton'\n",
    "- The total momentum (p) of the initial particle in MeV\n",
    "- The x component (px) of momentum in MEV\n",
    "- The y component (py) of momentum in MEV\n",
    "- The x component (pz) of momentum in MEV\n",
    "- The x position of the production of the particle in cm\n",
    "- The y position of the production of the particle in cm\n",
    "- The z position of the production of the particle in cm\n"
   ]
  },
  {
   "cell_type": "code",
   "execution_count": 25,
   "id": "4fad38af",
   "metadata": {},
   "outputs": [],
   "source": [
    "p_id , p_ptot, p_px, p_py, p_pz, p_x, p_y, p_z= (truth[:,i] for i in range(truth.shape[1]))"
   ]
  },
  {
   "cell_type": "code",
   "execution_count": 26,
   "id": "d190dc7f",
   "metadata": {},
   "outputs": [
    {
     "data": {
      "text/plain": [
       "(90000, 8)"
      ]
     },
     "execution_count": 26,
     "metadata": {},
     "output_type": "execute_result"
    }
   ],
   "source": [
    "truth.shape"
   ]
  },
  {
   "cell_type": "markdown",
   "id": "beb2debf",
   "metadata": {},
   "source": [
    "# Project\n",
    "\n",
    "For the project are required to perform an in depth investigation of the image dataset, and design **two** machine learning techniques from the dataset. The first tasks are **compulsary** where you are required explore the data and create an algorithm to identify/classify the particle in each event.  \n",
    "\n",
    "## Task 0: Data exploration\n",
    "* Explore a few images from each particle type, trying to identify how the particles are different between categories. Explore how the images change with different initial momenta. Remember that each event has three 2D images which should be veiwed simultaneously to get the full picture.\n",
    "* Explore the truth information to get an idea of the dataset composition.\n",
    "\n",
    "## Task 1: Image classification\n",
    "* Create an algorithm to identify each event as being from one of five types of particles present in the datase\n",
    "* You are strongly encouraged to use a convolutional neural network (CNN) classifier on the images, though this is not compulsary.\n",
    "* Explore different architectures for the model, and explain in detail your choice of model, and the final parameters chosen. Consider doing a robust hyperparameter search.\n",
    "* Explore the results and documents your findings. Ask as many questions about your model as you can, and document your findings.\n",
    "    * Which particles are easy to identify, and which are not? \n",
    "    * What are the physics reasons for why some particles are similar?\n",
    "    * Is there a dependence on particle position or momentum in your classifier for certain particle types?\n",
    "    * Can you come up with a selection which gives good paricle purity?\n",
    "\n",
    "## Task 2: Choose from one (or several) of these\n",
    "Pick an additional task from this set, or come up with your own study that is not listed here. You should follow a similar approach as to **Task 1** above, but without as much detail needed. Consider *Task0 and Task 1* to be with 70% and *Task 2* to be worth the remaining *30%*.\n",
    "\n",
    "* Create a regression algorithm which predicts the particle momentum for electrons, either the total momentum, or the px, py and pz. Determine the quality of the regression trained on electrons on photons. Explain the performace.\n",
    "* Create a regression algorithm which predicts the x, y and z position of protons\n",
    "* Create an autoencoder (AE) to reduce noise in the detector images. Do injection tests of random noise with different intensities to check your results. Some code to generate noise can be found in the [Keras AE tutorial](https://blog.keras.io/building-autoencoders-in-keras.html)\n",
    "* Create a variable autoencoder (VAE) on the images for image generation of a paricular type. Try and make it conditional on momentum and position.\n",
    "* _Etc._\n",
    "\n",
    "To complete this project, you should:\n",
    "* Perform **Task 0 and 1** and an additional task from **Task 2** (but not necessarily restricted to just these), label/number your studies, discuss the results, and compare their relative merits.\n",
    "    * If you do any neat studies that don't result in a classification variable, _e.g._ image generation, that still very much counts!\n",
    "* **Submit your Jupyter notebook** as a \"report.\" See the comments below on documentation,\n",
    "    \n",
    "When doing each of your studies, you should try to follow the below steps (where it makes sense; rough weight in marking indicated in parentheses):\n",
    "\n",
    "1. **Data exploration and preprocessing (10%):** Inspect the datasets; visualise the data in an appropriate way; study the composition of the dataset; perform any necessary preprocessing.\n",
    "2. **Model selection (30%):** Choose a promising approach; construct the machine learning model; optimise the relevant hyperparameters; train your chosen model.\n",
    "3. **Performance evaluation (20%):** Evaluate the model in a way that gauges its ability to generalise to unseen data; compare to other approaches; identify the best approach. \n",
    "4. **Discussion, style throughout (40%):** Discuss the reasoning or intuition behind your choices; the results you obtain through your studies; the relative merits of the methods you have developed, _etc._ Similarly, make sure that you write efficient code, document your work, clearly convey your results, and convince us that you have mastered the material.\n",
    "\n",
    "\n",
    "That is, **you should submit, by Friday 3rd December 2020 at 4pm:**\n",
    "* your report notebook via Turnitin.\n",
    "    \n",
    "\n",
    "For all task we're not looking for exceptional performace and high scores (although those are nice too), **we're mostly concerned with _best practices:_** If you are careful and deliberate in your work, and show us that you can use the tools introduced in the course so far, we're happy!\n",
    "\n",
    "Training all of these models in sequence takes a very long time so **don't spend hours on training hundreds of epochs.** Be conservative on epoch numbers (30 is more than enough) and use appropiate techniques like EarlyStopping to speed things up.\n",
    "\n",
    "\n",
    "\n",
    "### Documentation\n",
    "\n",
    "Your reportnotebook should run without errors and give (mostly) reproducible results. It is important that **all** code is annotated and that you provide brief commentary **at each step** to explain your approach. Explain *why* you chose a given approach and *discuss* the results. You can also include any failed approaches if you provide reasonable explanation; we care more about you making an effort and showing that you understand the core concepts.\n",
    "\n",
    "This is not in the form of a written report so do not provide pages of background material, but do try to clearly present your work so that the markers can easily follow your reasoning and can reproduce each of the steps through your analysis. Aim to convince us that you have understood the material covered in the course.\n",
    "\n",
    "To add commentary above (or below) a code snippet create a new cell and add your text in \"Markdown\" format. Do not add any substantial commentary as a code comment in the same cell as the code. To change the new cell into markdown select from the drop down menu on the bar above the main window (the default is code)"
   ]
  },
  {
   "cell_type": "markdown",
   "id": "7103a013",
   "metadata": {},
   "source": [
    "---\n",
    "# Lets get started\n",
    "\n",
    "We need to define a few more things as we get started, but lets first split the data into 50K for training, and 40K reserved for testing"
   ]
  },
  {
   "cell_type": "code",
   "execution_count": 27,
   "id": "e96aa228",
   "metadata": {},
   "outputs": [],
   "source": [
    "from sklearn.model_selection import train_test_split "
   ]
  },
  {
   "cell_type": "code",
   "execution_count": 10,
   "id": "657bc9c6",
   "metadata": {},
   "outputs": [],
   "source": [
    "x_train, x_test, truth_train, truth_test = train_test_split(images,truth,train_size=50000,random_state=11)"
   ]
  },
  {
   "cell_type": "markdown",
   "id": "76edd149",
   "metadata": {},
   "source": [
    "## Special notes for traning on sparse matrices\n",
    "\n",
    "Since we are using sparce matrices instead of dense ones, we need to tweak the way we **train**, **evaluate**, and **predict** from our model. This is because each of these steps requires the data to be **dense**, and we will run into the previous mentioned memory issues very quickly.\n",
    "\n",
    "\n",
    "The solution for this is by using a **data generator** which will only load the dense data in batches. I give the function below.\n",
    "\n",
    "The `nn_batch_generator` takes in the input data `X_data`, labels `y_data` and `batch_size` and creates a mini dense batch based on the `batch_size`. The `yield` keyword is a type of `return` function but which allows the method to keep running. Since we usually train on small batches (e.g. `32` events per batch) the data should be able to fit in memory."
   ]
  },
  {
   "cell_type": "code",
   "execution_count": 19,
   "id": "d46f8892",
   "metadata": {},
   "outputs": [],
   "source": [
    "def nn_batch_generator(X_data, y_data, batch_size):\n",
    "    samples_per_epoch = X_data.shape[0]\n",
    "    number_of_batches = samples_per_epoch/batch_size\n",
    "    counter=0\n",
    "    index = np.arange(np.shape(y_data)[0])\n",
    "    while 1:\n",
    "        index_batch = index[batch_size*counter:batch_size*(counter+1)]\n",
    "        X_batch = X_data[index_batch,:].todense()\n",
    "        y_batch = y_data[index_batch]\n",
    "        counter += 1\n",
    "        yield np.array(X_batch),y_batch\n",
    "        if (counter > number_of_batches):\n",
    "            counter=0\n"
   ]
  },
  {
   "cell_type": "markdown",
   "id": "4f41e09b",
   "metadata": {},
   "source": [
    "Below is an example of passing the generator itself into the fit method. Because the generator would run forever, we need to use the `steps_per_epoch` parameter to tell the training when to stop (i.e, it reached the end of the data). We therefore set `steps_per_epoch` to the number of training entries divided by the batch size. In this case I set 5000 entries aside for the validation set.\n",
    "\n",
    "**Note these are just examples taken from my own notebooks so don't expect to just work out the box for you**\n",
    "```\n",
    "validation_slice=5000\n",
    "batch_size=32\n",
    "history_cnn = cnn.fit(nn_batch_generator(x_train[:-validation_slice],y_labels[:-validation_slice],batch_size=batch_size),\n",
    "                      epochs=20,\n",
    "                      steps_per_epoch=int((50000-validation_slice)/batch_size),\n",
    "                      validation_data=(x_train[-valdation_slice:], y_labels[-validation_slice:]))\n",
    "\n",
    "```\n",
    "\n",
    "\n",
    "Similarly predict and evaluate methods take generators with the `steps` parameter to end the evalutation\n",
    "\n",
    "```\n",
    "cnn.predict(nn_batch_generator(x_train[-5000:], y_train_labels[-5000:],batch_size=50),steps=5000/50)\n",
    "```\n",
    "\n",
    "```\n",
    "cnn.evaluate(nn_batch_generator(x_test, y_train_labels,batch_size=50),steps=len(cc)/50)\n",
    "```\n",
    "\n",
    "\n",
    "\n",
    "### Finally a note on training \n",
    "We are training on a huge amount of data in practice, so expect the training to be **very very slow!!!**. I was clocking a single CNN training with 30 epochs at around 90 minutes on my CPU. I would recommend trying to run hyperparemer tests at night while you are sleeping, or alternatively if you must run from the CP labs, run them on a smaller set of 5K samples, with 500 validation. However, note that although the smaller trainings may allow you to explore different parameters more quickly, it won't nessesarily translate to the big dataset as easily, so at some point you will want to launch some big trainings on networks you find promissing. Remember to document your process as much as possible!\n",
    "\n",
    "It is absolutely **essential** that you use callbacks to reduce the training time\n",
    "* Use ReduceLROnPlateau if the training has not improved after a number of epochs\n",
    "* Use EarlyStopping to exit the training if it has not improved after a number of epochs (should be a larger number than what is used on ReduceLROnPlateau)\n",
    "* Use ModelCheckpoint to save the *best* model to a unique file. You can then use keras `load_model` (already imported for you) to load the saved model and not have to retrain if you close the notebook. Alternatively you can save any model with `save_model`."
   ]
  },
  {
   "cell_type": "code",
   "execution_count": null,
   "id": "374154b4",
   "metadata": {},
   "outputs": [],
   "source": [
    "from tensorflow.python.keras.callbacks import EarlyStopping,ModelCheckpoint,ReduceLROnPlateau"
   ]
  },
  {
   "cell_type": "markdown",
   "id": "e5a2f91d",
   "metadata": {},
   "source": [
    "\n",
    "\n",
    "**If the project description is unclear, or if you experience any technical issues, please do let me know as quickly as possible. I can send around clarifications if I think it would be to the benefit of the entire class.**\n",
    "\n",
    "---\n",
    "\n",
    "**Your code below**\n",
    "\n",
    "---"
   ]
  }
 ],
 "metadata": {
  "kernelspec": {
   "display_name": "Python 3",
   "language": "python",
   "name": "python3"
  },
  "language_info": {
   "codemirror_mode": {
    "name": "ipython",
    "version": 3
   },
   "file_extension": ".py",
   "mimetype": "text/x-python",
   "name": "python",
   "nbconvert_exporter": "python",
   "pygments_lexer": "ipython3",
   "version": "3.9.6"
  }
 },
 "nbformat": 4,
 "nbformat_minor": 5
}
