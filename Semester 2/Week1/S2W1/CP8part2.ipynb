{
 "cells": [
  {
   "cell_type": "markdown",
   "id": "2e28e12b",
   "metadata": {},
   "source": [
    "# CP8 Intro to Geant4"
   ]
  },
  {
   "cell_type": "markdown",
   "id": "335666a7",
   "metadata": {},
   "source": [
    "The 'test' object behind the shield was a copper sphere of radius 50 cm just like the example in the lecture slides. The events were 200 default events each time with seed 1234."
   ]
  },
  {
   "cell_type": "code",
   "execution_count": 1,
   "id": "61abb89e",
   "metadata": {},
   "outputs": [],
   "source": [
    "import numpy as np"
   ]
  },
  {
   "cell_type": "code",
   "execution_count": 15,
   "id": "cac0eda5",
   "metadata": {},
   "outputs": [],
   "source": [
    "# Read data from csv files with first 5 rows skipped as they don't contain data\n",
    "\n",
    "# For original shield thickness of 2cm\n",
    "shield_data1 = np.loadtxt(\"output_nt_Shield.csv\", dtype=float, skiprows=5)\n",
    "test_data1 = np.loadtxt(\"output_nt_test.csv\", dtype=float, skiprows=5)\n",
    "\n",
    "# For new shield thickness of 3cm\n",
    "shield_data2 = np.loadtxt(\"output2_nt_Shield.csv\", dtype=float, skiprows=5)\n",
    "test_data2 = np.loadtxt(\"output2_nt_test.csv\", dtype=float, skiprows=5)"
   ]
  },
  {
   "cell_type": "code",
   "execution_count": 16,
   "id": "ffff97b5",
   "metadata": {},
   "outputs": [],
   "source": [
    "# averages of ratios of deposited energies in shield and test for each of 200 events\n",
    "avg_energy_ratio1 = np.mean(shield_data1 / test_data1)\n",
    "avg_energy_ratio2 = np.mean(shield_data2 / test_data2)"
   ]
  },
  {
   "cell_type": "code",
   "execution_count": 18,
   "id": "3ee5bfb7",
   "metadata": {},
   "outputs": [
    {
     "name": "stdout",
     "output_type": "stream",
     "text": [
      "For shield thickness 2cm, average ratio (shield/test) was:  6.627977423644653\n",
      "For shield thickness 3cm, average ratio (shield/test) was:  24.6764830590948\n"
     ]
    }
   ],
   "source": [
    "print('For shield thickness 2cm, average ratio (shield/test) was: ', str(avg_energy_ratio1))\n",
    "print('For shield thickness 3cm, average ratio (shield/test) was: ', str(avg_energy_ratio2))"
   ]
  },
  {
   "cell_type": "markdown",
   "id": "8434f11e",
   "metadata": {},
   "source": [
    "As expected, the thicker shield typically absorbs a greater fraction of the incoming particle's energy than the thinner shield so on average the ratio of $\\frac{\\text{energy deposited in shield}}{\\text{energy deposited in test material}}$ increases when the shield thickness is increased."
   ]
  }
 ],
 "metadata": {
  "kernelspec": {
   "display_name": "Python 3 (ipykernel)",
   "language": "python",
   "name": "python3"
  },
  "language_info": {
   "codemirror_mode": {
    "name": "ipython",
    "version": 3
   },
   "file_extension": ".py",
   "mimetype": "text/x-python",
   "name": "python",
   "nbconvert_exporter": "python",
   "pygments_lexer": "ipython3",
   "version": "3.8.10"
  }
 },
 "nbformat": 4,
 "nbformat_minor": 5
}
