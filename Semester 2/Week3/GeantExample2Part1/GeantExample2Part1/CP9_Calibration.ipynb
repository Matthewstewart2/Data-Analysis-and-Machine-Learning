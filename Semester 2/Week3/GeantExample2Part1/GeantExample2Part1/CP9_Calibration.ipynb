{
 "cells": [
  {
   "cell_type": "markdown",
   "id": "2eab3858",
   "metadata": {},
   "source": [
    "# PDAML CP9 Geant4 Exercises 2"
   ]
  },
  {
   "cell_type": "code",
   "execution_count": 1,
   "id": "392deb8d",
   "metadata": {},
   "outputs": [],
   "source": [
    "import numpy as np\n",
    "import pandas as pd\n",
    "import pylab as pl"
   ]
  },
  {
   "cell_type": "markdown",
   "id": "111973a2",
   "metadata": {},
   "source": [
    "## Write a Python program to calibrate your energy data. Plot a 1D histogram of the calibrated energy as shown, and find the resolution by taking the standard deviation of this data."
   ]
  },
  {
   "cell_type": "code",
   "execution_count": 2,
   "id": "1ecb720d",
   "metadata": {},
   "outputs": [],
   "source": [
    "# Read data from ntuple output file\n",
    "inputData = pd.read_csv( 'output_nt_Energy_500electrons.csv', comment='#', \\\n",
    "names=['TrueEnergy', 'Layer1', 'Layer2', 'Layer3', 'Layer4', 'Layer5'] )"
   ]
  },
  {
   "cell_type": "code",
   "execution_count": 3,
   "id": "7a30d9ad",
   "metadata": {},
   "outputs": [
    {
     "data": {
      "text/html": [
       "<div>\n",
       "<style scoped>\n",
       "    .dataframe tbody tr th:only-of-type {\n",
       "        vertical-align: middle;\n",
       "    }\n",
       "\n",
       "    .dataframe tbody tr th {\n",
       "        vertical-align: top;\n",
       "    }\n",
       "\n",
       "    .dataframe thead th {\n",
       "        text-align: right;\n",
       "    }\n",
       "</style>\n",
       "<table border=\"1\" class=\"dataframe\">\n",
       "  <thead>\n",
       "    <tr style=\"text-align: right;\">\n",
       "      <th></th>\n",
       "      <th>TrueEnergy</th>\n",
       "      <th>Layer1</th>\n",
       "      <th>Layer2</th>\n",
       "      <th>Layer3</th>\n",
       "      <th>Layer4</th>\n",
       "      <th>Layer5</th>\n",
       "    </tr>\n",
       "  </thead>\n",
       "  <tbody>\n",
       "    <tr>\n",
       "      <th>0</th>\n",
       "      <td>300</td>\n",
       "      <td>159.2330</td>\n",
       "      <td>9.07324</td>\n",
       "      <td>2.86212</td>\n",
       "      <td>0.102833</td>\n",
       "      <td>0.000000</td>\n",
       "    </tr>\n",
       "    <tr>\n",
       "      <th>1</th>\n",
       "      <td>300</td>\n",
       "      <td>156.9670</td>\n",
       "      <td>45.30870</td>\n",
       "      <td>19.45710</td>\n",
       "      <td>1.462070</td>\n",
       "      <td>0.000000</td>\n",
       "    </tr>\n",
       "    <tr>\n",
       "      <th>2</th>\n",
       "      <td>300</td>\n",
       "      <td>103.5770</td>\n",
       "      <td>29.54130</td>\n",
       "      <td>29.80570</td>\n",
       "      <td>6.092090</td>\n",
       "      <td>0.858629</td>\n",
       "    </tr>\n",
       "    <tr>\n",
       "      <th>3</th>\n",
       "      <td>300</td>\n",
       "      <td>18.7011</td>\n",
       "      <td>103.87300</td>\n",
       "      <td>35.89570</td>\n",
       "      <td>9.958900</td>\n",
       "      <td>2.742700</td>\n",
       "    </tr>\n",
       "    <tr>\n",
       "      <th>4</th>\n",
       "      <td>300</td>\n",
       "      <td>91.0581</td>\n",
       "      <td>57.72540</td>\n",
       "      <td>1.01131</td>\n",
       "      <td>1.911060</td>\n",
       "      <td>12.226800</td>\n",
       "    </tr>\n",
       "  </tbody>\n",
       "</table>\n",
       "</div>"
      ],
      "text/plain": [
       "   TrueEnergy    Layer1     Layer2    Layer3    Layer4     Layer5\n",
       "0         300  159.2330    9.07324   2.86212  0.102833   0.000000\n",
       "1         300  156.9670   45.30870  19.45710  1.462070   0.000000\n",
       "2         300  103.5770   29.54130  29.80570  6.092090   0.858629\n",
       "3         300   18.7011  103.87300  35.89570  9.958900   2.742700\n",
       "4         300   91.0581   57.72540   1.01131  1.911060  12.226800"
      ]
     },
     "execution_count": 3,
     "metadata": {},
     "output_type": "execute_result"
    }
   ],
   "source": [
    "inputData.head()"
   ]
  },
  {
   "cell_type": "code",
   "execution_count": 4,
   "id": "5c838f00",
   "metadata": {},
   "outputs": [],
   "source": [
    "# Returns array of (E_calib - E_true) / E_true values one for each event\n",
    "def calibrate(df):\n",
    "    E_true = df['TrueEnergy']\n",
    "    # Ignore TrueEnergy column when summing over layers to get total detected energy for each event\n",
    "    E_detect = df.iloc[:, 1:].sum(axis=1)\n",
    "    calib = np.mean(E_true / E_detect)\n",
    "    # Calibrate data by multiplying by calibration factor\n",
    "    E_calib = E_detect * calib\n",
    "    return (E_calib - E_true) / E_true"
   ]
  },
  {
   "cell_type": "code",
   "execution_count": 5,
   "id": "a02d6c50",
   "metadata": {},
   "outputs": [],
   "source": [
    "# Get distribution of calibrated energy deviation from true energy\n",
    "calib_data = calibrate(inputData)\n",
    "# Resolution is standard deviation, ddof=1 for N-1 in denominator\n",
    "resolution = np.std(calib_data, ddof=1)"
   ]
  },
  {
   "cell_type": "code",
   "execution_count": 6,
   "id": "f86fae6f",
   "metadata": {},
   "outputs": [
    {
     "data": {
      "image/png": "[encoded data removed]",
      "text/plain": [
       "<Figure size 720x720 with 1 Axes>"
      ]
     },
     "metadata": {
      "needs_background": "light"
     },
     "output_type": "display_data"
    }
   ],
   "source": [
    "pl.figure(figsize=(10, 10))\n",
    "pl.hist(calib_data, bins='auto')\n",
    "pl.xlabel(r'$\\frac{E_{calibrated}-E_{true}}{E_{true}}$', fontsize=20)\n",
    "pl.show()"
   ]
  },
  {
   "cell_type": "code",
   "execution_count": 7,
   "id": "f92e39e7",
   "metadata": {},
   "outputs": [
    {
     "name": "stdout",
     "output_type": "stream",
     "text": [
      "resolution:  0.15735010766427907\n"
     ]
    }
   ],
   "source": [
    "print('resolution: ', resolution)"
   ]
  },
  {
   "cell_type": "markdown",
   "id": "ad1ba806",
   "metadata": {},
   "source": [
    "## Make a 2D histogram showing how your calibrated energy varies with beam energy. Describe what beam energy values you used."
   ]
  },
  {
   "cell_type": "code",
   "execution_count": 8,
   "id": "41d854ca",
   "metadata": {},
   "outputs": [],
   "source": [
    "# New data to make 2D histogram\n",
    "# Contains True energies from 100 MeV to 1900 MeV in increments of 200 MeV\n",
    "# 500 events for each value of TrueEnergy\n",
    "twoDhist_df = pd.read_csv( 'output_nt_Energy_2Dhist.csv', comment='#', \\\n",
    "names=['TrueEnergy', 'Layer1', 'Layer2', 'Layer3', 'Layer4', 'Layer5'] )"
   ]
  },
  {
   "cell_type": "code",
   "execution_count": 9,
   "id": "561d5b72",
   "metadata": {},
   "outputs": [],
   "source": [
    "dfs = []\n",
    "# Split into mini dataframes by TrueEnergy\n",
    "for true_E in twoDhist_df['TrueEnergy'].unique():\n",
    "    df = twoDhist_df[twoDhist_df['TrueEnergy'] == true_E]\n",
    "    dfs.append(df)\n",
    "\n",
    "true_energies = []\n",
    "calibs = []\n",
    "# Calibrate each individually based on its TrueEnergy\n",
    "for df in dfs:\n",
    "    true_energies += list(df['TrueEnergy'].values)\n",
    "    calibs += list(calibrate(df))"
   ]
  },
  {
   "cell_type": "code",
   "execution_count": 12,
   "id": "bff08b04",
   "metadata": {},
   "outputs": [
    {
     "data": {
      "image/png": "[encoded data removed]",
      "text/plain": [
       "<Figure size 720x720 with 2 Axes>"
      ]
     },
     "metadata": {
      "needs_background": "light"
     },
     "output_type": "display_data"
    }
   ],
   "source": [
    "pl.figure(figsize=(10, 10))\n",
    "pl.hist2d( x=true_energies, y=calibs, bins=(10, 20) )\n",
    "pl.xlabel('True energy / MeV', fontsize=15)\n",
    "pl.ylabel(r'$\\frac{E_{calibrated}-E_{true}}{E_{true}}$', fontsize=20, rotation=0, labelpad=40)\n",
    "pl.colorbar()\n",
    "pl.show()"
   ]
  },
  {
   "cell_type": "markdown",
   "id": "f1b37de6",
   "metadata": {},
   "source": [
    "By visual inspection, using greater beam energy means calibrated energies are relatively closer to the true energy ie. resolution improves with increasing beam energy as expected due to there being more interactions happening."
   ]
  }
 ],
 "metadata": {
  "kernelspec": {
   "display_name": "Python 3 (ipykernel)",
   "language": "python",
   "name": "python3"
  },
  "language_info": {
   "codemirror_mode": {
    "name": "ipython",
    "version": 3
   },
   "file_extension": ".py",
   "mimetype": "text/x-python",
   "name": "python",
   "nbconvert_exporter": "python",
   "pygments_lexer": "ipython3",
   "version": "3.7.11"
  }
 },
 "nbformat": 4,
 "nbformat_minor": 5
}
