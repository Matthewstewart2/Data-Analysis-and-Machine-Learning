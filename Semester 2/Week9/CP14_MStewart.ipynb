{
 "cells": [
  {
   "cell_type": "markdown",
   "id": "e0863cef",
   "metadata": {},
   "source": [
    "# DAML Sem 2, Week 9, CP14: Lepton energy reconstruction in water Cerenkov detectors: NN Regression and Gradient Boosted Regression Trees"
   ]
  },
  {
   "cell_type": "code",
   "execution_count": 23,
   "id": "6ce03a74",
   "metadata": {},
   "outputs": [],
   "source": [
    "# Standard imports\n",
    "import numpy as np\n",
    "import pandas as pd\n",
    "import matplotlib.pyplot as plt\n",
    "from sklearn import model_selection "
   ]
  },
  {
   "cell_type": "markdown",
   "id": "63d4d2e7",
   "metadata": {},
   "source": [
    "## Data inspection and variable plotting"
   ]
  },
  {
   "cell_type": "markdown",
   "id": "f97f521f",
   "metadata": {},
   "source": [
    "### Exercise \\#1"
   ]
  },
  {
   "cell_type": "markdown",
   "id": "553fc799",
   "metadata": {},
   "source": [
    "data from https://cernbox.cern.ch/index.php/s/BYbIDPZY3bSRKJC"
   ]
  },
  {
   "cell_type": "code",
   "execution_count": 4,
   "id": "98b14fdb",
   "metadata": {},
   "outputs": [],
   "source": [
    "# Read csv data form file\n",
    "file_data = pd.read_csv('numu_energy_studies.csv').iloc[:, 1:]"
   ]
  },
  {
   "cell_type": "code",
   "execution_count": 5,
   "id": "1313cf2d",
   "metadata": {},
   "outputs": [
    {
     "data": {
      "text/html": [
       "<div>\n",
       "<style scoped>\n",
       "    .dataframe tbody tr th:only-of-type {\n",
       "        vertical-align: middle;\n",
       "    }\n",
       "\n",
       "    .dataframe tbody tr th {\n",
       "        vertical-align: top;\n",
       "    }\n",
       "\n",
       "    .dataframe thead th {\n",
       "        text-align: right;\n",
       "    }\n",
       "</style>\n",
       "<table border=\"1\" class=\"dataframe\">\n",
       "  <thead>\n",
       "    <tr style=\"text-align: right;\">\n",
       "      <th></th>\n",
       "      <th>i</th>\n",
       "      <th>neutrinoE</th>\n",
       "      <th>trueKE</th>\n",
       "      <th>recoE_lookup</th>\n",
       "      <th>total_PMTs_hits2</th>\n",
       "      <th>total_hits2</th>\n",
       "      <th>total_ring_PEs2</th>\n",
       "      <th>pot_length2</th>\n",
       "      <th>hits_pot_length2</th>\n",
       "      <th>recoDWallR2</th>\n",
       "      <th>recoDWallZ2</th>\n",
       "      <th>lambda_max_2</th>\n",
       "      <th>recoDWall_2</th>\n",
       "      <th>recoToWall_2</th>\n",
       "      <th>vtxTrackBias_2</th>\n",
       "    </tr>\n",
       "  </thead>\n",
       "  <tbody>\n",
       "    <tr>\n",
       "      <th>0</th>\n",
       "      <td>0</td>\n",
       "      <td>664.541</td>\n",
       "      <td>236.327</td>\n",
       "      <td>22.35380</td>\n",
       "      <td>0.000000</td>\n",
       "      <td>0.023325</td>\n",
       "      <td>0.00000</td>\n",
       "      <td>0.662787</td>\n",
       "      <td>0.003754</td>\n",
       "      <td>0.003389</td>\n",
       "      <td>0.458415</td>\n",
       "      <td>0.650854</td>\n",
       "      <td>0.003389</td>\n",
       "      <td>0.220977</td>\n",
       "      <td>-0.011905</td>\n",
       "    </tr>\n",
       "    <tr>\n",
       "      <th>1</th>\n",
       "      <td>3</td>\n",
       "      <td>400.551</td>\n",
       "      <td>186.765</td>\n",
       "      <td>2.46971</td>\n",
       "      <td>0.000000</td>\n",
       "      <td>0.010075</td>\n",
       "      <td>0.00000</td>\n",
       "      <td>0.662787</td>\n",
       "      <td>0.001621</td>\n",
       "      <td>0.003389</td>\n",
       "      <td>0.458415</td>\n",
       "      <td>0.405903</td>\n",
       "      <td>0.003389</td>\n",
       "      <td>0.220977</td>\n",
       "      <td>-2.269040</td>\n",
       "    </tr>\n",
       "    <tr>\n",
       "      <th>2</th>\n",
       "      <td>4</td>\n",
       "      <td>633.353</td>\n",
       "      <td>448.481</td>\n",
       "      <td>409.95400</td>\n",
       "      <td>0.308444</td>\n",
       "      <td>0.080400</td>\n",
       "      <td>0.13070</td>\n",
       "      <td>0.531171</td>\n",
       "      <td>0.016146</td>\n",
       "      <td>0.035389</td>\n",
       "      <td>0.753969</td>\n",
       "      <td>0.537975</td>\n",
       "      <td>0.035389</td>\n",
       "      <td>0.494926</td>\n",
       "      <td>0.024453</td>\n",
       "    </tr>\n",
       "    <tr>\n",
       "      <th>3</th>\n",
       "      <td>7</td>\n",
       "      <td>845.921</td>\n",
       "      <td>586.647</td>\n",
       "      <td>37.83740</td>\n",
       "      <td>0.000000</td>\n",
       "      <td>0.011950</td>\n",
       "      <td>0.00000</td>\n",
       "      <td>0.918554</td>\n",
       "      <td>0.001388</td>\n",
       "      <td>0.042498</td>\n",
       "      <td>0.083664</td>\n",
       "      <td>0.830098</td>\n",
       "      <td>0.042498</td>\n",
       "      <td>0.805578</td>\n",
       "      <td>-0.007114</td>\n",
       "    </tr>\n",
       "    <tr>\n",
       "      <th>4</th>\n",
       "      <td>9</td>\n",
       "      <td>1323.140</td>\n",
       "      <td>963.822</td>\n",
       "      <td>1408.07000</td>\n",
       "      <td>0.111333</td>\n",
       "      <td>0.142300</td>\n",
       "      <td>0.26265</td>\n",
       "      <td>0.093641</td>\n",
       "      <td>0.162093</td>\n",
       "      <td>0.616305</td>\n",
       "      <td>0.164307</td>\n",
       "      <td>0.092105</td>\n",
       "      <td>0.358487</td>\n",
       "      <td>0.135845</td>\n",
       "      <td>-0.004307</td>\n",
       "    </tr>\n",
       "    <tr>\n",
       "      <th>...</th>\n",
       "      <td>...</td>\n",
       "      <td>...</td>\n",
       "      <td>...</td>\n",
       "      <td>...</td>\n",
       "      <td>...</td>\n",
       "      <td>...</td>\n",
       "      <td>...</td>\n",
       "      <td>...</td>\n",
       "      <td>...</td>\n",
       "      <td>...</td>\n",
       "      <td>...</td>\n",
       "      <td>...</td>\n",
       "      <td>...</td>\n",
       "      <td>...</td>\n",
       "      <td>...</td>\n",
       "    </tr>\n",
       "    <tr>\n",
       "      <th>166181</th>\n",
       "      <td>4992</td>\n",
       "      <td>667.212</td>\n",
       "      <td>356.525</td>\n",
       "      <td>327.70500</td>\n",
       "      <td>0.179556</td>\n",
       "      <td>0.056000</td>\n",
       "      <td>0.07730</td>\n",
       "      <td>0.299882</td>\n",
       "      <td>0.019919</td>\n",
       "      <td>0.524681</td>\n",
       "      <td>0.094948</td>\n",
       "      <td>0.293151</td>\n",
       "      <td>0.207160</td>\n",
       "      <td>0.299882</td>\n",
       "      <td>0.010166</td>\n",
       "    </tr>\n",
       "    <tr>\n",
       "      <th>166182</th>\n",
       "      <td>4994</td>\n",
       "      <td>298.731</td>\n",
       "      <td>92.382</td>\n",
       "      <td>11.75980</td>\n",
       "      <td>0.000000</td>\n",
       "      <td>0.009150</td>\n",
       "      <td>0.00000</td>\n",
       "      <td>0.237723</td>\n",
       "      <td>0.004106</td>\n",
       "      <td>0.435005</td>\n",
       "      <td>0.604201</td>\n",
       "      <td>0.264387</td>\n",
       "      <td>0.435005</td>\n",
       "      <td>0.237723</td>\n",
       "      <td>-0.034267</td>\n",
       "    </tr>\n",
       "    <tr>\n",
       "      <th>166183</th>\n",
       "      <td>4998</td>\n",
       "      <td>2847.440</td>\n",
       "      <td>2464.460</td>\n",
       "      <td>1159.19000</td>\n",
       "      <td>0.142222</td>\n",
       "      <td>0.147675</td>\n",
       "      <td>0.23995</td>\n",
       "      <td>0.012261</td>\n",
       "      <td>1.284710</td>\n",
       "      <td>-0.046764</td>\n",
       "      <td>0.413032</td>\n",
       "      <td>0.402720</td>\n",
       "      <td>-0.046764</td>\n",
       "      <td>0.314218</td>\n",
       "      <td>-0.001124</td>\n",
       "    </tr>\n",
       "    <tr>\n",
       "      <th>166184</th>\n",
       "      <td>4999</td>\n",
       "      <td>754.128</td>\n",
       "      <td>480.235</td>\n",
       "      <td>447.62300</td>\n",
       "      <td>0.144444</td>\n",
       "      <td>0.081425</td>\n",
       "      <td>0.13985</td>\n",
       "      <td>0.080920</td>\n",
       "      <td>0.107332</td>\n",
       "      <td>0.157146</td>\n",
       "      <td>0.330336</td>\n",
       "      <td>0.175398</td>\n",
       "      <td>0.157146</td>\n",
       "      <td>0.080920</td>\n",
       "      <td>0.043704</td>\n",
       "    </tr>\n",
       "    <tr>\n",
       "      <th>166185</th>\n",
       "      <td>5000</td>\n",
       "      <td>754.128</td>\n",
       "      <td>480.235</td>\n",
       "      <td>447.63800</td>\n",
       "      <td>0.144444</td>\n",
       "      <td>0.081425</td>\n",
       "      <td>0.13985</td>\n",
       "      <td>0.080964</td>\n",
       "      <td>0.107274</td>\n",
       "      <td>0.156677</td>\n",
       "      <td>0.330284</td>\n",
       "      <td>0.176352</td>\n",
       "      <td>0.156677</td>\n",
       "      <td>0.080964</td>\n",
       "      <td>0.043706</td>\n",
       "    </tr>\n",
       "  </tbody>\n",
       "</table>\n",
       "<p>166186 rows × 15 columns</p>\n",
       "</div>"
      ],
      "text/plain": [
       "           i  neutrinoE    trueKE  recoE_lookup  total_PMTs_hits2  \\\n",
       "0          0    664.541   236.327      22.35380          0.000000   \n",
       "1          3    400.551   186.765       2.46971          0.000000   \n",
       "2          4    633.353   448.481     409.95400          0.308444   \n",
       "3          7    845.921   586.647      37.83740          0.000000   \n",
       "4          9   1323.140   963.822    1408.07000          0.111333   \n",
       "...      ...        ...       ...           ...               ...   \n",
       "166181  4992    667.212   356.525     327.70500          0.179556   \n",
       "166182  4994    298.731    92.382      11.75980          0.000000   \n",
       "166183  4998   2847.440  2464.460    1159.19000          0.142222   \n",
       "166184  4999    754.128   480.235     447.62300          0.144444   \n",
       "166185  5000    754.128   480.235     447.63800          0.144444   \n",
       "\n",
       "        total_hits2  total_ring_PEs2  pot_length2  hits_pot_length2  \\\n",
       "0          0.023325          0.00000     0.662787          0.003754   \n",
       "1          0.010075          0.00000     0.662787          0.001621   \n",
       "2          0.080400          0.13070     0.531171          0.016146   \n",
       "3          0.011950          0.00000     0.918554          0.001388   \n",
       "4          0.142300          0.26265     0.093641          0.162093   \n",
       "...             ...              ...          ...               ...   \n",
       "166181     0.056000          0.07730     0.299882          0.019919   \n",
       "166182     0.009150          0.00000     0.237723          0.004106   \n",
       "166183     0.147675          0.23995     0.012261          1.284710   \n",
       "166184     0.081425          0.13985     0.080920          0.107332   \n",
       "166185     0.081425          0.13985     0.080964          0.107274   \n",
       "\n",
       "        recoDWallR2  recoDWallZ2  lambda_max_2  recoDWall_2  recoToWall_2  \\\n",
       "0          0.003389     0.458415      0.650854     0.003389      0.220977   \n",
       "1          0.003389     0.458415      0.405903     0.003389      0.220977   \n",
       "2          0.035389     0.753969      0.537975     0.035389      0.494926   \n",
       "3          0.042498     0.083664      0.830098     0.042498      0.805578   \n",
       "4          0.616305     0.164307      0.092105     0.358487      0.135845   \n",
       "...             ...          ...           ...          ...           ...   \n",
       "166181     0.524681     0.094948      0.293151     0.207160      0.299882   \n",
       "166182     0.435005     0.604201      0.264387     0.435005      0.237723   \n",
       "166183    -0.046764     0.413032      0.402720    -0.046764      0.314218   \n",
       "166184     0.157146     0.330336      0.175398     0.157146      0.080920   \n",
       "166185     0.156677     0.330284      0.176352     0.156677      0.080964   \n",
       "\n",
       "        vtxTrackBias_2  \n",
       "0            -0.011905  \n",
       "1            -2.269040  \n",
       "2             0.024453  \n",
       "3            -0.007114  \n",
       "4            -0.004307  \n",
       "...                ...  \n",
       "166181        0.010166  \n",
       "166182       -0.034267  \n",
       "166183       -0.001124  \n",
       "166184        0.043704  \n",
       "166185        0.043706  \n",
       "\n",
       "[166186 rows x 15 columns]"
      ]
     },
     "execution_count": 5,
     "metadata": {},
     "output_type": "execute_result"
    }
   ],
   "source": [
    "# Check dataframe looks as expected\n",
    "file_data"
   ]
  },
  {
   "cell_type": "markdown",
   "id": "930b977e",
   "metadata": {},
   "source": [
    "Looks alright."
   ]
  },
  {
   "cell_type": "code",
   "execution_count": 8,
   "id": "480bb446",
   "metadata": {},
   "outputs": [],
   "source": [
    "# The features we're interested in given in notes\n",
    "features_interest = ['total_hits2', 'total_ring_PEs2', 'recoDWallR2', 'recoDWallZ2', 'lambda_max_2',\n",
    "                     'trueKE']"
   ]
  },
  {
   "cell_type": "code",
   "execution_count": 9,
   "id": "97f37b87",
   "metadata": {},
   "outputs": [],
   "source": [
    "# New DataFrame with just features of interest\n",
    "fileDF = file_data[features_interest]"
   ]
  },
  {
   "cell_type": "code",
   "execution_count": 12,
   "id": "494014f9",
   "metadata": {},
   "outputs": [
    {
     "data": {
      "text/html": [
       "<div>\n",
       "<style scoped>\n",
       "    .dataframe tbody tr th:only-of-type {\n",
       "        vertical-align: middle;\n",
       "    }\n",
       "\n",
       "    .dataframe tbody tr th {\n",
       "        vertical-align: top;\n",
       "    }\n",
       "\n",
       "    .dataframe thead th {\n",
       "        text-align: right;\n",
       "    }\n",
       "</style>\n",
       "<table border=\"1\" class=\"dataframe\">\n",
       "  <thead>\n",
       "    <tr style=\"text-align: right;\">\n",
       "      <th></th>\n",
       "      <th>total_hits2</th>\n",
       "      <th>total_ring_PEs2</th>\n",
       "      <th>recoDWallR2</th>\n",
       "      <th>recoDWallZ2</th>\n",
       "      <th>lambda_max_2</th>\n",
       "      <th>trueKE</th>\n",
       "    </tr>\n",
       "  </thead>\n",
       "  <tbody>\n",
       "    <tr>\n",
       "      <th>0</th>\n",
       "      <td>0.023325</td>\n",
       "      <td>0.00000</td>\n",
       "      <td>0.003389</td>\n",
       "      <td>0.458415</td>\n",
       "      <td>0.650854</td>\n",
       "      <td>236.327</td>\n",
       "    </tr>\n",
       "    <tr>\n",
       "      <th>1</th>\n",
       "      <td>0.010075</td>\n",
       "      <td>0.00000</td>\n",
       "      <td>0.003389</td>\n",
       "      <td>0.458415</td>\n",
       "      <td>0.405903</td>\n",
       "      <td>186.765</td>\n",
       "    </tr>\n",
       "    <tr>\n",
       "      <th>2</th>\n",
       "      <td>0.080400</td>\n",
       "      <td>0.13070</td>\n",
       "      <td>0.035389</td>\n",
       "      <td>0.753969</td>\n",
       "      <td>0.537975</td>\n",
       "      <td>448.481</td>\n",
       "    </tr>\n",
       "    <tr>\n",
       "      <th>3</th>\n",
       "      <td>0.011950</td>\n",
       "      <td>0.00000</td>\n",
       "      <td>0.042498</td>\n",
       "      <td>0.083664</td>\n",
       "      <td>0.830098</td>\n",
       "      <td>586.647</td>\n",
       "    </tr>\n",
       "    <tr>\n",
       "      <th>4</th>\n",
       "      <td>0.142300</td>\n",
       "      <td>0.26265</td>\n",
       "      <td>0.616305</td>\n",
       "      <td>0.164307</td>\n",
       "      <td>0.092105</td>\n",
       "      <td>963.822</td>\n",
       "    </tr>\n",
       "    <tr>\n",
       "      <th>...</th>\n",
       "      <td>...</td>\n",
       "      <td>...</td>\n",
       "      <td>...</td>\n",
       "      <td>...</td>\n",
       "      <td>...</td>\n",
       "      <td>...</td>\n",
       "    </tr>\n",
       "    <tr>\n",
       "      <th>166181</th>\n",
       "      <td>0.056000</td>\n",
       "      <td>0.07730</td>\n",
       "      <td>0.524681</td>\n",
       "      <td>0.094948</td>\n",
       "      <td>0.293151</td>\n",
       "      <td>356.525</td>\n",
       "    </tr>\n",
       "    <tr>\n",
       "      <th>166182</th>\n",
       "      <td>0.009150</td>\n",
       "      <td>0.00000</td>\n",
       "      <td>0.435005</td>\n",
       "      <td>0.604201</td>\n",
       "      <td>0.264387</td>\n",
       "      <td>92.382</td>\n",
       "    </tr>\n",
       "    <tr>\n",
       "      <th>166183</th>\n",
       "      <td>0.147675</td>\n",
       "      <td>0.23995</td>\n",
       "      <td>-0.046764</td>\n",
       "      <td>0.413032</td>\n",
       "      <td>0.402720</td>\n",
       "      <td>2464.460</td>\n",
       "    </tr>\n",
       "    <tr>\n",
       "      <th>166184</th>\n",
       "      <td>0.081425</td>\n",
       "      <td>0.13985</td>\n",
       "      <td>0.157146</td>\n",
       "      <td>0.330336</td>\n",
       "      <td>0.175398</td>\n",
       "      <td>480.235</td>\n",
       "    </tr>\n",
       "    <tr>\n",
       "      <th>166185</th>\n",
       "      <td>0.081425</td>\n",
       "      <td>0.13985</td>\n",
       "      <td>0.156677</td>\n",
       "      <td>0.330284</td>\n",
       "      <td>0.176352</td>\n",
       "      <td>480.235</td>\n",
       "    </tr>\n",
       "  </tbody>\n",
       "</table>\n",
       "<p>166186 rows × 6 columns</p>\n",
       "</div>"
      ],
      "text/plain": [
       "        total_hits2  total_ring_PEs2  recoDWallR2  recoDWallZ2  lambda_max_2  \\\n",
       "0          0.023325          0.00000     0.003389     0.458415      0.650854   \n",
       "1          0.010075          0.00000     0.003389     0.458415      0.405903   \n",
       "2          0.080400          0.13070     0.035389     0.753969      0.537975   \n",
       "3          0.011950          0.00000     0.042498     0.083664      0.830098   \n",
       "4          0.142300          0.26265     0.616305     0.164307      0.092105   \n",
       "...             ...              ...          ...          ...           ...   \n",
       "166181     0.056000          0.07730     0.524681     0.094948      0.293151   \n",
       "166182     0.009150          0.00000     0.435005     0.604201      0.264387   \n",
       "166183     0.147675          0.23995    -0.046764     0.413032      0.402720   \n",
       "166184     0.081425          0.13985     0.157146     0.330336      0.175398   \n",
       "166185     0.081425          0.13985     0.156677     0.330284      0.176352   \n",
       "\n",
       "          trueKE  \n",
       "0        236.327  \n",
       "1        186.765  \n",
       "2        448.481  \n",
       "3        586.647  \n",
       "4        963.822  \n",
       "...          ...  \n",
       "166181   356.525  \n",
       "166182    92.382  \n",
       "166183  2464.460  \n",
       "166184   480.235  \n",
       "166185   480.235  \n",
       "\n",
       "[166186 rows x 6 columns]"
      ]
     },
     "execution_count": 12,
     "metadata": {},
     "output_type": "execute_result"
    }
   ],
   "source": [
    "fileDF"
   ]
  },
  {
   "cell_type": "code",
   "execution_count": 11,
   "id": "ecb87c89",
   "metadata": {},
   "outputs": [
    {
     "name": "stdout",
     "output_type": "stream",
     "text": [
      "<class 'pandas.core.frame.DataFrame'>\n",
      "RangeIndex: 166186 entries, 0 to 166185\n",
      "Data columns (total 6 columns):\n",
      " #   Column           Non-Null Count   Dtype  \n",
      "---  ------           --------------   -----  \n",
      " 0   total_hits2      166186 non-null  float64\n",
      " 1   total_ring_PEs2  166186 non-null  float64\n",
      " 2   recoDWallR2      166186 non-null  float64\n",
      " 3   recoDWallZ2      166186 non-null  float64\n",
      " 4   lambda_max_2     166186 non-null  float64\n",
      " 5   trueKE           166186 non-null  float64\n",
      "dtypes: float64(6)\n",
      "memory usage: 7.6 MB\n"
     ]
    }
   ],
   "source": [
    "fileDF.info()"
   ]
  },
  {
   "cell_type": "markdown",
   "id": "c806f40b",
   "metadata": {},
   "source": [
    "No columns have any null values so no cleaning required."
   ]
  },
  {
   "cell_type": "code",
   "execution_count": 18,
   "id": "24a82bfb",
   "metadata": {},
   "outputs": [
    {
     "data": {
      "image/png": "[encoded data removed]",
      "text/plain": [
       "<Figure size 720x720 with 6 Axes>"
      ]
     },
     "metadata": {
      "needs_background": "light"
     },
     "output_type": "display_data"
    }
   ],
   "source": [
    "# Plot feature distributions\n",
    "fig, axs = plt.subplots(3, 2, figsize=(10, 10))\n",
    "fig.supylabel('Counts', fontsize=16)\n",
    "n_bins = 100\n",
    "feat = 0\n",
    "for i in range(len(axs)):\n",
    "    for j in range(len(axs[0])):  \n",
    "        axs[i, j].hist(fileDF[features_interest[feat]],\n",
    "                       bins=n_bins, density=False, alpha=1.0, log=True)\n",
    "        axs[i, j].set_title(features_interest[feat])\n",
    "        feat += 1\n",
    "plt.show()"
   ]
  },
  {
   "cell_type": "markdown",
   "id": "337dfe18",
   "metadata": {},
   "source": [
    "## NN regression"
   ]
  },
  {
   "cell_type": "markdown",
   "id": "0fc551e1",
   "metadata": {},
   "source": [
    "### Exercise \\#2"
   ]
  },
  {
   "cell_type": "code",
   "execution_count": 25,
   "id": "4bcabca4",
   "metadata": {},
   "outputs": [
    {
     "name": "stdout",
     "output_type": "stream",
     "text": [
      "(116330, 5) (116330,) (49856, 5) (49856,)\n"
     ]
    }
   ],
   "source": [
    "# Sort into features and target\n",
    "input_data = fileDF.iloc[:, :-1]\n",
    "target = fileDF.iloc[:, -1]\n",
    "\n",
    "Answer_to_all_questions = 42\n",
    "# train - test split of dataset\n",
    "train_data, test_data, train_target, test_target = model_selection.train_test_split(\\\n",
    "    input_data, target, test_size = 0.3, random_state = Answer_to_all_questions)\n",
    "print(train_data.shape, train_target.shape, test_data.shape, test_target.shape)"
   ]
  },
  {
   "cell_type": "code",
   "execution_count": 2,
   "id": "9dc4c7f9",
   "metadata": {},
   "outputs": [
    {
     "ename": "ModuleNotFoundError",
     "evalue": "No module named 'sklearn.externals.six'",
     "output_type": "error",
     "traceback": [
      "\u001b[1;31m---------------------------------------------------------------------------\u001b[0m",
      "\u001b[1;31mModuleNotFoundError\u001b[0m                       Traceback (most recent call last)",
      "\u001b[1;32m~\\AppData\\Local\\Temp/ipykernel_3700/3806744409.py\u001b[0m in \u001b[0;36m<module>\u001b[1;34m\u001b[0m\n\u001b[0;32m      3\u001b[0m \u001b[1;32mfrom\u001b[0m \u001b[0msklearn\u001b[0m\u001b[1;33m.\u001b[0m\u001b[0mmodel_selection\u001b[0m \u001b[1;32mimport\u001b[0m \u001b[0mcross_val_score\u001b[0m\u001b[1;33m\u001b[0m\u001b[1;33m\u001b[0m\u001b[0m\n\u001b[0;32m      4\u001b[0m \u001b[1;32mfrom\u001b[0m \u001b[0msklearn\u001b[0m\u001b[1;33m.\u001b[0m\u001b[0mmodel_selection\u001b[0m \u001b[1;32mimport\u001b[0m \u001b[0mKFold\u001b[0m\u001b[1;33m\u001b[0m\u001b[1;33m\u001b[0m\u001b[0m\n\u001b[1;32m----> 5\u001b[1;33m \u001b[1;32mimport\u001b[0m \u001b[0mdt_utils\u001b[0m\u001b[1;33m\u001b[0m\u001b[1;33m\u001b[0m\u001b[0m\n\u001b[0m\u001b[0;32m      6\u001b[0m \u001b[1;32mimport\u001b[0m \u001b[0mnn_utils\u001b[0m\u001b[1;33m\u001b[0m\u001b[1;33m\u001b[0m\u001b[0m\n",
      "\u001b[1;32m~\\Documents\\University\\Year 5\\DAML\\Semester2\\Week9\\dt_utils.py\u001b[0m in \u001b[0;36m<module>\u001b[1;34m\u001b[0m\n\u001b[0;32m      3\u001b[0m \u001b[1;32mimport\u001b[0m \u001b[0mnumpy\u001b[0m \u001b[1;32mas\u001b[0m \u001b[0mnp\u001b[0m\u001b[1;33m\u001b[0m\u001b[1;33m\u001b[0m\u001b[0m\n\u001b[0;32m      4\u001b[0m \u001b[1;32mfrom\u001b[0m \u001b[0msklearn\u001b[0m \u001b[1;32mimport\u001b[0m \u001b[0mdatasets\u001b[0m\u001b[1;33m,\u001b[0m \u001b[0mtree\u001b[0m\u001b[1;33m,\u001b[0m \u001b[0mmetrics\u001b[0m\u001b[1;33m,\u001b[0m \u001b[0mmodel_selection\u001b[0m\u001b[1;33m,\u001b[0m \u001b[0mensemble\u001b[0m\u001b[1;33m\u001b[0m\u001b[1;33m\u001b[0m\u001b[0m\n\u001b[1;32m----> 5\u001b[1;33m \u001b[1;32mfrom\u001b[0m \u001b[0msklearn\u001b[0m\u001b[1;33m.\u001b[0m\u001b[0mexternals\u001b[0m\u001b[1;33m.\u001b[0m\u001b[0msix\u001b[0m \u001b[1;32mimport\u001b[0m \u001b[0mStringIO\u001b[0m\u001b[1;33m\u001b[0m\u001b[1;33m\u001b[0m\u001b[0m\n\u001b[0m\u001b[0;32m      6\u001b[0m \u001b[1;32mimport\u001b[0m \u001b[0mmatplotlib\u001b[0m\u001b[1;33m.\u001b[0m\u001b[0mpyplot\u001b[0m \u001b[1;32mas\u001b[0m \u001b[0mplt\u001b[0m\u001b[1;33m\u001b[0m\u001b[1;33m\u001b[0m\u001b[0m\n\u001b[0;32m      7\u001b[0m \u001b[1;32mimport\u001b[0m \u001b[0mmatplotlib\u001b[0m\u001b[1;33m.\u001b[0m\u001b[0mcolors\u001b[0m \u001b[1;32mas\u001b[0m \u001b[0mcolors\u001b[0m\u001b[1;33m\u001b[0m\u001b[1;33m\u001b[0m\u001b[0m\n",
      "\u001b[1;31mModuleNotFoundError\u001b[0m: No module named 'sklearn.externals.six'"
     ]
    }
   ],
   "source": [
    "from tensorflow.keras.callbacks import EarlyStopping, ModelCheckpoint\n",
    "from tensorflow.keras.wrappers.scikit_learn import KerasRegressor\n",
    "from sklearn.model_selection import cross_val_score\n",
    "from sklearn.model_selection import KFold\n",
    "import dt_utils\n",
    "import nn_utils"
   ]
  },
  {
   "cell_type": "code",
   "execution_count": 39,
   "id": "cec03c03",
   "metadata": {},
   "outputs": [],
   "source": [
    "num_inputs = 5; num_outputs = 1\n",
    "num_nodes = num_inputs"
   ]
  },
  {
   "cell_type": "code",
   "execution_count": 47,
   "id": "ba3e268e",
   "metadata": {},
   "outputs": [],
   "source": [
    "# A simple NN\n",
    "def my_model():\n",
    "    # create model\n",
    "    model = Sequential()\n",
    "    model.add(Dense(4*num_nodes, input_dim = num_inputs, kernel_initializer = 'normal' , \\\n",
    "    activation = 'relu'))\n",
    "    model.add(Dense(2*num_nodes, input_dim = 4*num_nodes, kernel_initializer = 'normal' , \\\n",
    "    activation = 'relu'))\n",
    "    # Dropout layer to try to discourage overfitting to training data\n",
    "    model.add(Dropout(0.2))\n",
    "    model.add(Dense(num_outputs, kernel_initializer = 'normal'))\n",
    "    # Compile model\n",
    "    model.compile(loss = 'mean_squared_error', optimizer = 'adam')\n",
    "    return model"
   ]
  },
  {
   "cell_type": "code",
   "execution_count": 48,
   "id": "2547e02f",
   "metadata": {},
   "outputs": [],
   "source": [
    "callbacks_ = [\n",
    "# if we don ’t have an increase of the accuracy for 10 epochs , terminate training .\n",
    "EarlyStopping(verbose = True, patience =10, monitor = 'loss'),\n",
    "# Always make sure that we ’ re saving the model weights with the best accuracy .\n",
    "ModelCheckpoint('model.h5', monitor = 'loss' , verbose =0 , save_best_only = True , mode = 'max')]"
   ]
  },
  {
   "cell_type": "code",
   "execution_count": 49,
   "id": "f871a0b5",
   "metadata": {},
   "outputs": [
    {
     "name": "stdout",
     "output_type": "stream",
     "text": [
      "Result: 0.72 ± 0.01\n"
     ]
    }
   ],
   "source": [
    "# Same pipeline method as a revious CP\n",
    "batchSize = 100\n",
    "N_epochs = 20\n",
    "np.random.seed(Answer_to_all_questions)\n",
    "from sklearn.pipeline import Pipeline\n",
    "estimators = []\n",
    "estimators.append(('mlp', KerasRegressor(build_fn = my_model , epochs = N_epochs,\n",
    "batch_size = batchSize , verbose =0)))\n",
    "pipeline = Pipeline(estimators)\n",
    "kfold = KFold(n_splits =10, random_state = Answer_to_all_questions , shuffle = True )\n",
    "results = cross_val_score(pipeline , input_data , target , cv = kfold ,\n",
    "fit_params = { 'mlp__callbacks': callbacks_ } , scoring = 'r2')\n",
    "print( \"Result: %.2f %s %.2f\" % (results.mean(), u\"\\u00B1\", results.std()))"
   ]
  },
  {
   "cell_type": "markdown",
   "id": "b210a78f",
   "metadata": {},
   "source": [
    "R^2 score is acceptable."
   ]
  },
  {
   "cell_type": "code",
   "execution_count": 51,
   "id": "7c962815",
   "metadata": {},
   "outputs": [],
   "source": [
    "model1 = my_model() "
   ]
  },
  {
   "cell_type": "code",
   "execution_count": 52,
   "id": "d3e6b628",
   "metadata": {},
   "outputs": [
    {
     "name": "stdout",
     "output_type": "stream",
     "text": [
      "Epoch 1/20\n",
      "1164/1164 [==============================] - 3s 2ms/step - loss: 463350.2500 - val_loss: 296186.2500\n",
      "Epoch 2/20\n",
      "1164/1164 [==============================] - 2s 2ms/step - loss: 249242.2188 - val_loss: 167444.5781\n",
      "Epoch 3/20\n",
      "1164/1164 [==============================] - 3s 2ms/step - loss: 150153.0625 - val_loss: 114370.6172\n",
      "Epoch 4/20\n",
      "1164/1164 [==============================] - 2s 2ms/step - loss: 134796.5625 - val_loss: 110737.2188\n",
      "Epoch 5/20\n",
      "1164/1164 [==============================] - 2s 2ms/step - loss: 133510.4062 - val_loss: 110766.6328\n",
      "Epoch 6/20\n",
      "1164/1164 [==============================] - 3s 2ms/step - loss: 134620.7344 - val_loss: 110901.7812\n",
      "Epoch 7/20\n",
      "1164/1164 [==============================] - 3s 2ms/step - loss: 133705.4062 - val_loss: 110609.7266\n",
      "Epoch 8/20\n",
      "1164/1164 [==============================] - 3s 2ms/step - loss: 133471.8750 - val_loss: 110952.8906\n",
      "Epoch 9/20\n",
      "1164/1164 [==============================] - 3s 2ms/step - loss: 132889.6562 - val_loss: 110441.3281\n",
      "Epoch 10/20\n",
      "1164/1164 [==============================] - 2s 2ms/step - loss: 132516.0156 - val_loss: 110348.8672\n",
      "Epoch 11/20\n",
      "1164/1164 [==============================] - 2s 2ms/step - loss: 132667.4219 - val_loss: 110865.6250\n",
      "Epoch 12/20\n",
      "1164/1164 [==============================] - 2s 2ms/step - loss: 133603.2188 - val_loss: 110635.0000\n",
      "Epoch 13/20\n",
      "1164/1164 [==============================] - 2s 2ms/step - loss: 132240.7812 - val_loss: 110251.0469\n",
      "Epoch 14/20\n",
      "1164/1164 [==============================] - 2s 2ms/step - loss: 133027.6562 - val_loss: 110460.7734\n",
      "Epoch 15/20\n",
      "1164/1164 [==============================] - 2s 2ms/step - loss: 133037.5938 - val_loss: 110769.1484\n",
      "Epoch 16/20\n",
      "1164/1164 [==============================] - 3s 2ms/step - loss: 131504.6875 - val_loss: 110572.0859\n",
      "Epoch 17/20\n",
      "1164/1164 [==============================] - 3s 2ms/step - loss: 133386.0469 - val_loss: 111014.3750\n",
      "Epoch 18/20\n",
      "1164/1164 [==============================] - 2s 2ms/step - loss: 133172.7500 - val_loss: 111237.2812\n",
      "Epoch 19/20\n",
      "1164/1164 [==============================] - 2s 2ms/step - loss: 132846.9688 - val_loss: 110270.7812\n",
      "Epoch 20/20\n",
      "1164/1164 [==============================] - 2s 2ms/step - loss: 134327.9531 - val_loss: 110384.8516\n"
     ]
    }
   ],
   "source": [
    "history = model1.fit(train_data, train_target, batch_size = batchSize, epochs = N_epochs, \\\n",
    "    verbose =1, validation_data =(test_data, test_target))"
   ]
  },
  {
   "cell_type": "code",
   "execution_count": 79,
   "id": "c8b8309c",
   "metadata": {},
   "outputs": [
    {
     "data": {
      "image/png": "[encoded data removed]",
      "text/plain": [
       "<Figure size 720x360 with 1 Axes>"
      ]
     },
     "metadata": {
      "needs_background": "light"
     },
     "output_type": "display_data"
    }
   ],
   "source": [
    "nn_utils.lossplot(history.history['loss'], scale='log')"
   ]
  },
  {
   "cell_type": "markdown",
   "id": "6dd16f6b",
   "metadata": {},
   "source": [
    "Loss curve plateaus as we expect."
   ]
  },
  {
   "cell_type": "code",
   "execution_count": 54,
   "id": "69d8584c",
   "metadata": {},
   "outputs": [],
   "source": [
    "predicted = model1.predict(test_data)"
   ]
  },
  {
   "cell_type": "code",
   "execution_count": 55,
   "id": "5cfad1bf",
   "metadata": {},
   "outputs": [
    {
     "data": {
      "image/png": "[encoded data removed]",
      "text/plain": [
       "<Figure size 576x576 with 1 Axes>"
      ]
     },
     "metadata": {
      "needs_background": "light"
     },
     "output_type": "display_data"
    }
   ],
   "source": [
    "# \n",
    "fig, ax = plt.subplots(figsize=(8, 8))\n",
    "ax.plot(test_target, predicted, ',b')\n",
    "# Lay on top ideal line of true = predicted\n",
    "ax.plot(test_target, test_target, '-r')\n",
    "ax.set_xlabel('actual')\n",
    "ax.set_ylabel('predicted')\n",
    "plt.show()"
   ]
  },
  {
   "cell_type": "markdown",
   "id": "1b21978c",
   "metadata": {},
   "source": [
    "Most points are scattered around the ideal red line. A dense group just above red line where the model slightly overestimates the energies and a less dense cloud below red line means model often underestimates the energies."
   ]
  },
  {
   "cell_type": "markdown",
   "id": "ec2a1879",
   "metadata": {},
   "source": [
    "## Gradient Boosted Regression Trees"
   ]
  },
  {
   "cell_type": "markdown",
   "id": "ff950e97",
   "metadata": {},
   "source": [
    "### Exercise \\#3"
   ]
  },
  {
   "cell_type": "code",
   "execution_count": 66,
   "id": "930cd42f",
   "metadata": {},
   "outputs": [],
   "source": [
    "from sklearn.ensemble import GradientBoostingRegressor\n",
    "from sklearn.model_selection import GridSearchCV\n",
    "from sklearn.experimental import enable_halving_search_cv # noqa\n",
    "from sklearn.model_selection import HalvingGridSearchCV"
   ]
  },
  {
   "cell_type": "code",
   "execution_count": 59,
   "id": "0298134d",
   "metadata": {},
   "outputs": [
    {
     "data": {
      "text/plain": [
       "GradientBoostingRegressor()"
      ]
     },
     "execution_count": 59,
     "metadata": {},
     "output_type": "execute_result"
    }
   ],
   "source": [
    "# From notes\n",
    "gbr0 = GradientBoostingRegressor(n_estimators =100)\n",
    "gbr0.fit(train_data, train_target.ravel())"
   ]
  },
  {
   "cell_type": "code",
   "execution_count": 60,
   "id": "a168ea0d",
   "metadata": {},
   "outputs": [],
   "source": [
    "R2_train = gbr0.score(train_data, train_target)\n",
    "R2_test = gbr0.score(test_data, test_target)"
   ]
  },
  {
   "cell_type": "code",
   "execution_count": 61,
   "id": "f2e0ae4e",
   "metadata": {},
   "outputs": [
    {
     "name": "stdout",
     "output_type": "stream",
     "text": [
      "R^2 score (training): 0.7802986279228536\n",
      "R^2 score (test): 0.7724637579059646\n"
     ]
    }
   ],
   "source": [
    "print('R^2 score (training):', R2_train)\n",
    "print('R^2 score (test):', R2_test)"
   ]
  },
  {
   "cell_type": "markdown",
   "id": "930f024e",
   "metadata": {},
   "source": [
    "Similar scores for both training and test datasets so model generalises reasonably well to unknown data (no evidence of overfitting). Both scores are improvements over the NN regressor by ~0.05."
   ]
  },
  {
   "cell_type": "code",
   "execution_count": 69,
   "id": "787d4b88",
   "metadata": {},
   "outputs": [
    {
     "name": "stdout",
     "output_type": "stream",
     "text": [
      "n_iterations: 2\n",
      "n_required_iterations: 2\n",
      "n_possible_iterations: 2\n",
      "min_resources_: 38776\n",
      "max_resources_: 116330\n",
      "aggressive_elimination: False\n",
      "factor: 3\n",
      "----------\n",
      "iter: 0\n",
      "n_candidates: 8\n",
      "n_resources: 38776\n",
      "Fitting 10 folds for each of 8 candidates, totalling 80 fits\n",
      "----------\n",
      "iter: 1\n",
      "n_candidates: 3\n",
      "n_resources: 116328\n",
      "Fitting 10 folds for each of 3 candidates, totalling 30 fits\n",
      "Best estimator: \n",
      "GradientBoostingRegressor(learning_rate=0.05, max_depth=10, min_samples_leaf=50)\n"
     ]
    }
   ],
   "source": [
    "param_grid_ = {\n",
    "    'n_estimators' :[100] ,\n",
    "    'learning_rate' : [0.1 , 0.05] ,\n",
    "    'max_depth' :[5 , 10] ,\n",
    "    'min_samples_leaf' :[50 ,100] ,\n",
    "    }\n",
    "njobs_ =8 # jobs to run in parallel\n",
    "np.random.seed(Answer_to_all_questions)\n",
    "gbr = GradientBoostingRegressor()\n",
    "# Try the halfgridsearch for a speed up\n",
    "classifier = HalvingGridSearchCV(estimator = gbr , cv = kfold , param_grid = param_grid_ ,\n",
    "n_jobs = njobs_ , verbose =1, random_state=Answer_to_all_questions)\n",
    "classifier.fit(train_data , train_target.ravel())\n",
    "print(\"Best estimator: \")\n",
    "print(classifier.best_estimator_)"
   ]
  },
  {
   "cell_type": "code",
   "execution_count": 85,
   "id": "58dbc3fb",
   "metadata": {},
   "outputs": [],
   "source": [
    "from sklearn.model_selection import learning_curve"
   ]
  },
  {
   "cell_type": "code",
   "execution_count": 86,
   "id": "9b053e9b",
   "metadata": {},
   "outputs": [],
   "source": [
    "# Was using the nn_utils.py from a previous CP which didn't have plot_learning_curve() by mistake, so copied it here instead\n",
    "# because I think I would need to restart kernel for it to find the new file with the same name, maybe\n",
    "def plot_learning_curve(estimator, title, X, y, ylim=None, cv=None, n_jobs=1,\n",
    "                        train_sizes=np.linspace(.1, 1.0, 5)):\n",
    "    \"\"\" Generate a simple plot of the test and traning learning curve.\n",
    "    \n",
    "    Parameters\n",
    "    ----------\n",
    "    estimator : object type that implements the \"fit\" and \"predict\" methods\n",
    "    An object of that type which is cloned for each validation.\n",
    "    \n",
    "    title : string\n",
    "    Title for the chart.\n",
    "    \n",
    "    X : array-like, shape (n_samples, n_features)\n",
    "    Training vector, where n_samples is the number of samples and\n",
    "    n_features is the number of features.\n",
    "    \n",
    "    y : array-like, shape (n_samples) or (n_samples, n_features), optional\n",
    "    Target relative to X for classification or regression;\n",
    "    None for unsupervised learning.\n",
    "    \n",
    "    ylim : tuple, shape (ymin, ymax), optional\n",
    "    Defines minimum and maximum yvalues plotted.\n",
    "    \n",
    "    cv : integer, cross-validation generator, optional\n",
    "    If an integer is passed, it is the number of folds (defaults to 3).\n",
    "    Specific cross-validation objects can be passed, see\n",
    "    sklearn.cross_validation module for the list of possible objects\n",
    "    \n",
    "    n_jobs : integer, optional\n",
    "    Number of jobs to run in parallel (default 1).\n",
    "    \"\"\"\n",
    "    \n",
    "    plt.figure()\n",
    "    plt.title(title)\n",
    "    if ylim is not None:\n",
    "        plt.ylim(*ylim)\n",
    "    plt.xlabel(\"Training examples\")\n",
    "    plt.ylabel(\"Score\")\n",
    "    train_sizes, train_scores, test_scores = learning_curve( estimator, X, y, cv=cv, n_jobs=n_jobs, train_sizes=train_sizes)\n",
    "    train_scores_mean = np.mean(train_scores, axis=1)\n",
    "    train_scores_std = np.std(train_scores, axis=1)\n",
    "    test_scores_mean = np.mean(test_scores, axis=1)\n",
    "    test_scores_std = np.std(test_scores, axis=1)\n",
    "    plt.grid()\n",
    "    plt.fill_between(train_sizes, train_scores_mean - train_scores_std, train_scores_mean + train_scores_std, alpha=0.1, color=\"r\")\n",
    "    plt.fill_between(train_sizes, test_scores_mean - test_scores_std, test_scores_mean + test_scores_std, alpha=0.1, color=\"g\")\n",
    "    plt.plot(train_sizes, train_scores_mean, 'o-', color=\"r\", label=\"Training score\")\n",
    "    plt.plot(train_sizes, test_scores_mean, 'o-', color=\"g\", label=\"Cross-validation score\")\n",
    "    plt.legend(loc=\"best\")\n",
    "    return plt"
   ]
  },
  {
   "cell_type": "code",
   "execution_count": 87,
   "id": "40cb8c9f",
   "metadata": {},
   "outputs": [
    {
     "data": {
      "text/plain": [
       "<module 'matplotlib.pyplot' from 'C:\\\\Users\\\\Matthew\\\\Anaconda3\\\\envs\\\\daml2\\\\lib\\\\site-packages\\\\matplotlib\\\\pyplot.py'>"
      ]
     },
     "execution_count": 87,
     "metadata": {},
     "output_type": "execute_result"
    },
    {
     "data": {
      "image/png": "[encoded data removed]",
      "text/plain": [
       "<Figure size 432x288 with 1 Axes>"
      ]
     },
     "metadata": {
      "needs_background": "light"
     },
     "output_type": "display_data"
    }
   ],
   "source": [
    "plot_learning_curve(classifier.best_estimator_, 'Training data', train_data, train_target)"
   ]
  },
  {
   "cell_type": "markdown",
   "id": "6dcabfe7",
   "metadata": {},
   "source": [
    "Performance improves with more training examples as expected."
   ]
  },
  {
   "cell_type": "code",
   "execution_count": 88,
   "id": "964b31fb",
   "metadata": {},
   "outputs": [
    {
     "data": {
      "text/plain": [
       "<module 'matplotlib.pyplot' from 'C:\\\\Users\\\\Matthew\\\\Anaconda3\\\\envs\\\\daml2\\\\lib\\\\site-packages\\\\matplotlib\\\\pyplot.py'>"
      ]
     },
     "execution_count": 88,
     "metadata": {},
     "output_type": "execute_result"
    },
    {
     "data": {
      "image/png": "[encoded data removed]",
      "text/plain": [
       "<Figure size 432x288 with 1 Axes>"
      ]
     },
     "metadata": {
      "needs_background": "light"
     },
     "output_type": "display_data"
    }
   ],
   "source": [
    "plot_learning_curve(classifier.best_estimator_, 'Test data', test_data, test_target)"
   ]
  },
  {
   "cell_type": "markdown",
   "id": "4335fe08",
   "metadata": {},
   "source": [
    "The plot_learning_curve() function always puts 'training' in the legend and x-axis but here we are effectively training it on the test dataset."
   ]
  },
  {
   "cell_type": "code",
   "execution_count": 89,
   "id": "b15aa0e7",
   "metadata": {},
   "outputs": [],
   "source": [
    "# Read off best hyperparameters from printout above\n",
    "gbr_best = GradientBoostingRegressor(learning_rate=0.05, max_depth=10, min_samples_leaf=50)"
   ]
  },
  {
   "cell_type": "code",
   "execution_count": 90,
   "id": "f8ad431f",
   "metadata": {},
   "outputs": [
    {
     "name": "stdout",
     "output_type": "stream",
     "text": [
      "Result: 0.80 ± 0.02\n"
     ]
    }
   ],
   "source": [
    "results = cross_val_score(gbr_best, test_data , test_target , cv = kfold, scoring = 'r2')\n",
    "print( \"Result: %.2f %s %.2f\" % (results.mean(), u\"\\u00B1\", results.std()))"
   ]
  },
  {
   "cell_type": "markdown",
   "id": "3b31db87",
   "metadata": {},
   "source": [
    "A small improvement over the GBR with default parameters."
   ]
  },
  {
   "cell_type": "code",
   "execution_count": 91,
   "id": "3a7b6ad1",
   "metadata": {},
   "outputs": [
    {
     "data": {
      "text/plain": [
       "GradientBoostingRegressor(learning_rate=0.05, max_depth=10, min_samples_leaf=50)"
      ]
     },
     "execution_count": 91,
     "metadata": {},
     "output_type": "execute_result"
    }
   ],
   "source": [
    "gbr_best.fit(train_data, train_target.ravel())"
   ]
  },
  {
   "cell_type": "code",
   "execution_count": 92,
   "id": "55be437d",
   "metadata": {},
   "outputs": [],
   "source": [
    "gbr_predicted = gbr_best.predict(test_data)"
   ]
  },
  {
   "cell_type": "code",
   "execution_count": 93,
   "id": "fc4b8e34",
   "metadata": {},
   "outputs": [
    {
     "data": {
      "image/png": "[encoded data removed]",
      "text/plain": [
       "<Figure size 576x576 with 1 Axes>"
      ]
     },
     "metadata": {
      "needs_background": "light"
     },
     "output_type": "display_data"
    }
   ],
   "source": [
    "# \n",
    "fig, ax = plt.subplots(figsize=(8, 8))\n",
    "ax.plot(test_target, gbr_predicted, ',b')\n",
    "# Lay on top ideal line of true = predicted\n",
    "ax.plot(test_target, test_target, '-r')\n",
    "ax.set_xlabel('actual')\n",
    "ax.set_ylabel('predicted')\n",
    "plt.show()"
   ]
  },
  {
   "cell_type": "markdown",
   "id": "95d264b2",
   "metadata": {},
   "source": [
    "A more even scatter about the red line this time but still a few points where the energy is severely underestimated."
   ]
  },
  {
   "cell_type": "code",
   "execution_count": 95,
   "id": "3a0ce068",
   "metadata": {},
   "outputs": [
    {
     "data": {
      "text/plain": [
       "array([0.10824071, 0.76786754, 0.02610016, 0.02921087, 0.06858072])"
      ]
     },
     "execution_count": 95,
     "metadata": {},
     "output_type": "execute_result"
    }
   ],
   "source": [
    "gbr_best.feature_importances_"
   ]
  },
  {
   "cell_type": "code",
   "execution_count": 99,
   "id": "9d59d2d1",
   "metadata": {},
   "outputs": [],
   "source": [
    "# Get the indices in order from highest to lowest importance\n",
    "ranking = np.argsort(-gbr_best.feature_importances_)"
   ]
  },
  {
   "cell_type": "code",
   "execution_count": 106,
   "id": "cca44887",
   "metadata": {},
   "outputs": [],
   "source": [
    "# Reorder the values and feature names by rank\n",
    "ranked_importances = gbr_best.feature_importances_[ranking]\n",
    "ranked_features = np.array(features_interest[:-1])[ranking]"
   ]
  },
  {
   "cell_type": "code",
   "execution_count": 110,
   "id": "7ec518dd",
   "metadata": {},
   "outputs": [
    {
     "data": {
      "image/png": "[encoded data removed]",
      "text/plain": [
       "<Figure size 576x576 with 1 Axes>"
      ]
     },
     "metadata": {
      "needs_background": "light"
     },
     "output_type": "display_data"
    }
   ],
   "source": [
    "# Bar chart of feature importances\n",
    "fig, ax = plt.subplots(figsize=(8, 8))\n",
    "ax.bar(ranked_features,ranked_importances)\n",
    "ax.set_ylabel('Feature importance')\n",
    "plt.show()"
   ]
  },
  {
   "cell_type": "markdown",
   "id": "6c0a2d55",
   "metadata": {},
   "source": [
    "'total_ring_PEs2' - Number of PMT hits that have been assigned to Cerenkov rings, divided by 4,500 - has by far the greatest impact on the predictive power of the algorithm."
   ]
  }
 ],
 "metadata": {
  "kernelspec": {
   "display_name": "Python 3 (ipykernel)",
   "language": "python",
   "name": "python3"
  },
  "language_info": {
   "codemirror_mode": {
    "name": "ipython",
    "version": 3
   },
   "file_extension": ".py",
   "mimetype": "text/x-python",
   "name": "python",
   "nbconvert_exporter": "python",
   "pygments_lexer": "ipython3",
   "version": "3.7.11"
  }
 },
 "nbformat": 4,
 "nbformat_minor": 5
}
