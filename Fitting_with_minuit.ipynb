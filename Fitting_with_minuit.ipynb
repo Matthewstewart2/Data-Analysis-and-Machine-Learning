{
 "cells": [
  {
   "cell_type": "markdown",
   "id": "b80ffe8e",
   "metadata": {},
   "source": [
    "# Polynomial fit with iminuit"
   ]
  },
  {
   "cell_type": "code",
   "execution_count": 1,
   "id": "e2526e4a",
   "metadata": {},
   "outputs": [],
   "source": [
    "# Imports\n",
    "import numpy as np\n",
    "import matplotlib.pyplot as plt\n",
    "from iminuit import Minuit\n",
    "import random"
   ]
  },
  {
   "cell_type": "code",
   "execution_count": 2,
   "id": "a059495f",
   "metadata": {},
   "outputs": [],
   "source": [
    "# Vector of noise\n",
    "randoms = np.zeros(100)\n",
    "for i in range(len(randoms)):\n",
    "    randoms[i] = random.random()"
   ]
  },
  {
   "cell_type": "code",
   "execution_count": 3,
   "id": "cc4a0089",
   "metadata": {},
   "outputs": [],
   "source": [
    "# x is input data, y is noisy real output data\n",
    "x = np.linspace(0, 3, 100)\n",
    "# Make sure x and y are same length!\n",
    "y = (2*x**2 - 7*x  + 5) + randoms"
   ]
  },
  {
   "cell_type": "code",
   "execution_count": 4,
   "id": "302d216a",
   "metadata": {},
   "outputs": [],
   "source": [
    "# Define form of polynomial fit\n",
    "def model_func(x, a, b, c):\n",
    "    return a*x**2 + b*x + c\n",
    "\n",
    "# Define least squares function to be minimised\n",
    "def LSQ(a, b, c):\n",
    "    # sum of square differences between true values and model predictions\n",
    "    return np.sum((y - model_func(x, a, b, c)) ** 2)"
   ]
  },
  {
   "cell_type": "code",
   "execution_count": 5,
   "id": "f59fba9e",
   "metadata": {},
   "outputs": [
    {
     "data": {
      "text/html": [
       "<table>\n",
       "    <tr>\n",
       "        <th colspan=\"5\" style=\"text-align:center\" title=\"Minimizer\"> Migrad </th>\n",
       "    </tr>\n",
       "    <tr>\n",
       "        <td colspan=\"2\" style=\"text-align:left\" title=\"Minimum value of function\"> FCN = 7.187 </td>\n",
       "        <td colspan=\"3\" style=\"text-align:center\" title=\"No. of function evaluations in last call and total number\"> Nfcn = 54 </td>\n",
       "    </tr>\n",
       "    <tr>\n",
       "        <td colspan=\"2\" style=\"text-align:left\" title=\"Estimated distance to minimum and goal\"> EDM = 1.08e-17 (Goal: 0.0002) </td>\n",
       "        <td colspan=\"3\" style=\"text-align:center\" title=\"No. of gradient evaluations in last call and total number\">  </td>\n",
       "    </tr>\n",
       "    <tr>\n",
       "        <td colspan=\"2\" style=\"text-align:center;background-color:#92CCA6;color:black\"> Valid Minimum </td>\n",
       "        <td colspan=\"3\" style=\"text-align:center;background-color:#92CCA6;color:black\"> No Parameters at limit </td>\n",
       "    </tr>\n",
       "    <tr>\n",
       "        <td colspan=\"2\" style=\"text-align:center;background-color:#92CCA6;color:black\"> Below EDM threshold (goal x 10) </td>\n",
       "        <td colspan=\"3\" style=\"text-align:center;background-color:#92CCA6;color:black\"> Below call limit </td>\n",
       "    </tr>\n",
       "    <tr>\n",
       "        <td style=\"text-align:center;background-color:#92CCA6;color:black\"> Covariance </td>\n",
       "        <td style=\"text-align:center;background-color:#92CCA6;color:black\"> Hesse ok </td>\n",
       "        <td style=\"text-align:center;background-color:#92CCA6;color:black\" title=\"Is covariance matrix accurate?\"> Accurate </td>\n",
       "        <td style=\"text-align:center;background-color:#92CCA6;color:black\" title=\"Is covariance matrix positive definite?\"> Pos. def. </td>\n",
       "        <td style=\"text-align:center;background-color:#92CCA6;color:black\" title=\"Was positive definiteness enforced by Minuit?\"> Not forced </td>\n",
       "    </tr>\n",
       "</table><table>\n",
       "    <tr>\n",
       "        <td></td>\n",
       "        <th title=\"Variable name\"> Name </th>\n",
       "        <th title=\"Value of parameter\"> Value </th>\n",
       "        <th title=\"Hesse error\"> Hesse Error </th>\n",
       "        <th title=\"Minos lower error\"> Minos Error- </th>\n",
       "        <th title=\"Minos upper error\"> Minos Error+ </th>\n",
       "        <th title=\"Lower limit of the parameter\"> Limit- </th>\n",
       "        <th title=\"Upper limit of the parameter\"> Limit+ </th>\n",
       "        <th title=\"Is the parameter fixed in the fit\"> Fixed </th>\n",
       "    </tr>\n",
       "    <tr>\n",
       "        <th> 0 </th>\n",
       "        <td> a </td>\n",
       "        <td> 2.00 </td>\n",
       "        <td> 0.15 </td>\n",
       "        <td>  </td>\n",
       "        <td>  </td>\n",
       "        <td>  </td>\n",
       "        <td>  </td>\n",
       "        <td>  </td>\n",
       "    </tr>\n",
       "    <tr>\n",
       "        <th> 1 </th>\n",
       "        <td> b </td>\n",
       "        <td> -7.0 </td>\n",
       "        <td> 0.5 </td>\n",
       "        <td>  </td>\n",
       "        <td>  </td>\n",
       "        <td>  </td>\n",
       "        <td>  </td>\n",
       "        <td>  </td>\n",
       "    </tr>\n",
       "    <tr>\n",
       "        <th> 2 </th>\n",
       "        <td> c </td>\n",
       "        <td> 5.47 </td>\n",
       "        <td> 0.29 </td>\n",
       "        <td>  </td>\n",
       "        <td>  </td>\n",
       "        <td>  </td>\n",
       "        <td>  </td>\n",
       "        <td>  </td>\n",
       "    </tr>\n",
       "</table><table>\n",
       "    <tr>\n",
       "        <td></td>\n",
       "        <th> a </th>\n",
       "        <th> b </th>\n",
       "        <th> c </th>\n",
       "    </tr>\n",
       "    <tr>\n",
       "        <th> a </th>\n",
       "        <td> 0.0214 </td>\n",
       "        <td style=\"background-color:rgb(124,124,250);color:black\"> -0.0641 <strong>(-0.968)</strong> </td>\n",
       "        <td style=\"background-color:rgb(250,139,139);color:black\"> 0.0317 <strong>(0.738)</strong> </td>\n",
       "    </tr>\n",
       "    <tr>\n",
       "        <th> b </th>\n",
       "        <td style=\"background-color:rgb(124,124,250);color:black\"> -0.0641 <strong>(-0.968)</strong> </td>\n",
       "        <td> 0.205 </td>\n",
       "        <td style=\"background-color:rgb(138,138,250);color:black\"> -0.115 <strong>(-0.861)</strong> </td>\n",
       "    </tr>\n",
       "    <tr>\n",
       "        <th> c </th>\n",
       "        <td style=\"background-color:rgb(250,139,139);color:black\"> 0.0317 <strong>(0.738)</strong> </td>\n",
       "        <td style=\"background-color:rgb(138,138,250);color:black\"> -0.115 <strong>(-0.861)</strong> </td>\n",
       "        <td> 0.0865 </td>\n",
       "    </tr>\n",
       "</table>"
      ],
      "text/plain": [
       "┌─────────────────────────────────────────────────────────────────────────┐\n",
       "│                                Migrad                                   │\n",
       "├──────────────────────────────────┬──────────────────────────────────────┤\n",
       "│ FCN = 7.187                      │              Nfcn = 54               │\n",
       "│ EDM = 1.08e-17 (Goal: 0.0002)    │                                      │\n",
       "├──────────────────────────────────┼──────────────────────────────────────┤\n",
       "│          Valid Minimum           │        No Parameters at limit        │\n",
       "├──────────────────────────────────┼──────────────────────────────────────┤\n",
       "│ Below EDM threshold (goal x 10)  │           Below call limit           │\n",
       "├───────────────┬──────────────────┼───────────┬─────────────┬────────────┤\n",
       "│  Covariance   │     Hesse ok     │ Accurate  │  Pos. def.  │ Not forced │\n",
       "└───────────────┴──────────────────┴───────────┴─────────────┴────────────┘\n",
       "┌───┬──────┬───────────┬───────────┬────────────┬────────────┬─────────┬─────────┬───────┐\n",
       "│   │ Name │   Value   │ Hesse Err │ Minos Err- │ Minos Err+ │ Limit-  │ Limit+  │ Fixed │\n",
       "├───┼──────┼───────────┼───────────┼────────────┼────────────┼─────────┼─────────┼───────┤\n",
       "│ 0 │ a    │   2.00    │   0.15    │            │            │         │         │       │\n",
       "│ 1 │ b    │   -7.0    │    0.5    │            │            │         │         │       │\n",
       "│ 2 │ c    │   5.47    │   0.29    │            │            │         │         │       │\n",
       "└───┴──────┴───────────┴───────────┴────────────┴────────────┴─────────┴─────────┴───────┘\n",
       "┌───┬─────────────────────────┐\n",
       "│   │       a       b       c │\n",
       "├───┼─────────────────────────┤\n",
       "│ a │  0.0214 -0.0641  0.0317 │\n",
       "│ b │ -0.0641   0.205  -0.115 │\n",
       "│ c │  0.0317  -0.115  0.0865 │\n",
       "└───┴─────────────────────────┘"
      ]
     },
     "execution_count": 5,
     "metadata": {},
     "output_type": "execute_result"
    }
   ],
   "source": [
    "# Make minuit object given initial guesses at fit parameters a, b, c\n",
    "fit = Minuit(LSQ, a=1, b=-3, c=10)\n",
    "# Define uncertainty on parameter estimates by where LSQ increases from minimum by 1.0\n",
    "fit.errordef = 1.\n",
    "# Actually carry out the fit, results are 'Value' column of printout\n",
    "fit.migrad()"
   ]
  },
  {
   "cell_type": "code",
   "execution_count": 6,
   "id": "995bb5be",
   "metadata": {},
   "outputs": [],
   "source": [
    "# Store best fit estimates for a, b, c\n",
    "a_fit = fit.values[\"a\"]\n",
    "b_fit = fit.values[\"b\"]\n",
    "c_fit = fit.values[\"c\"]"
   ]
  },
  {
   "cell_type": "code",
   "execution_count": 12,
   "id": "94aa35f0",
   "metadata": {},
   "outputs": [
    {
     "data": {
      "image/png": "[encoded data removed]",
      "text/plain": [
       "<Figure size 432x288 with 1 Axes>"
      ]
     },
     "metadata": {
      "needs_background": "light"
     },
     "output_type": "display_data"
    }
   ],
   "source": [
    "# plot \n",
    "plt.scatter(x, y, s=20, label= 'real data')\n",
    "plt.plot(x, model_func(x, a_fit, b_fit, c_fit), label='polynomial fit', color='orange')\n",
    "plt.legend()\n",
    "plt.show()"
   ]
  }
 ],
 "metadata": {
  "kernelspec": {
   "display_name": "Python 3 (ipykernel)",
   "language": "python",
   "name": "python3"
  },
  "language_info": {
   "codemirror_mode": {
    "name": "ipython",
    "version": 3
   },
   "file_extension": ".py",
   "mimetype": "text/x-python",
   "name": "python",
   "nbconvert_exporter": "python",
   "pygments_lexer": "ipython3",
   "version": "3.7.11"
  }
 },
 "nbformat": 4,
 "nbformat_minor": 5
}
