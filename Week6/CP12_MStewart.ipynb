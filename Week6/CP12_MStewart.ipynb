{
 "cells": [
  {
   "cell_type": "markdown",
   "id": "54c1465a",
   "metadata": {},
   "source": [
    "# DAML Sem 2 Week 6, CP12: Determing the momentum resolution for muon tracks at LHCb with NN Regression"
   ]
  },
  {
   "cell_type": "code",
   "execution_count": 51,
   "id": "7e688d80",
   "metadata": {},
   "outputs": [],
   "source": [
    "# Standard imports\n",
    "import numpy as np\n",
    "import pandas as pd\n",
    "import matplotlib.pyplot as plt"
   ]
  },
  {
   "cell_type": "markdown",
   "id": "a6943b34",
   "metadata": {},
   "source": [
    "## Data inspection and variable plotting"
   ]
  },
  {
   "cell_type": "markdown",
   "id": "bcd3a6ac",
   "metadata": {},
   "source": [
    "### Exercise \\#1"
   ]
  },
  {
   "cell_type": "markdown",
   "id": "af8624ab",
   "metadata": {},
   "source": [
    "Data from https://cernbox.cern.ch/index.php/s/oEJHJq0fFv3KcGP"
   ]
  },
  {
   "cell_type": "code",
   "execution_count": 52,
   "id": "76f6c395",
   "metadata": {},
   "outputs": [],
   "source": [
    "# Read csv data form file\n",
    "file_data = pd.read_csv('mc-chic1.csv').iloc[:, 1:]"
   ]
  },
  {
   "cell_type": "code",
   "execution_count": 167,
   "id": "823cbbd9",
   "metadata": {},
   "outputs": [
    {
     "data": {
      "text/html": [
       "<div>\n",
       "<style scoped>\n",
       "    .dataframe tbody tr th:only-of-type {\n",
       "        vertical-align: middle;\n",
       "    }\n",
       "\n",
       "    .dataframe tbody tr th {\n",
       "        vertical-align: top;\n",
       "    }\n",
       "\n",
       "    .dataframe thead th {\n",
       "        text-align: right;\n",
       "    }\n",
       "</style>\n",
       "<table border=\"1\" class=\"dataframe\">\n",
       "  <thead>\n",
       "    <tr style=\"text-align: right;\">\n",
       "      <th></th>\n",
       "      <th>ep</th>\n",
       "      <th>eta</th>\n",
       "      <th>p</th>\n",
       "      <th>phi</th>\n",
       "      <th>pol</th>\n",
       "      <th>pt</th>\n",
       "      <th>qp</th>\n",
       "      <th>tx</th>\n",
       "      <th>ty</th>\n",
       "      <th>zV</th>\n",
       "    </tr>\n",
       "  </thead>\n",
       "  <tbody>\n",
       "    <tr>\n",
       "      <th>0</th>\n",
       "      <td>0.005459</td>\n",
       "      <td>3.210803</td>\n",
       "      <td>72.079880</td>\n",
       "      <td>0.294754</td>\n",
       "      <td>1.0</td>\n",
       "      <td>5.803692</td>\n",
       "      <td>72.079880</td>\n",
       "      <td>0.077296</td>\n",
       "      <td>0.023467</td>\n",
       "      <td>-60.3975</td>\n",
       "    </tr>\n",
       "    <tr>\n",
       "      <th>1</th>\n",
       "      <td>0.004050</td>\n",
       "      <td>4.436362</td>\n",
       "      <td>37.638340</td>\n",
       "      <td>-0.088796</td>\n",
       "      <td>1.0</td>\n",
       "      <td>0.891071</td>\n",
       "      <td>-37.638340</td>\n",
       "      <td>0.023588</td>\n",
       "      <td>-0.002100</td>\n",
       "      <td>-60.3975</td>\n",
       "    </tr>\n",
       "    <tr>\n",
       "      <th>2</th>\n",
       "      <td>0.003901</td>\n",
       "      <td>3.577396</td>\n",
       "      <td>18.565832</td>\n",
       "      <td>0.319936</td>\n",
       "      <td>1.0</td>\n",
       "      <td>1.036960</td>\n",
       "      <td>18.565832</td>\n",
       "      <td>0.053102</td>\n",
       "      <td>0.017594</td>\n",
       "      <td>-60.3975</td>\n",
       "    </tr>\n",
       "    <tr>\n",
       "      <th>3</th>\n",
       "      <td>0.003859</td>\n",
       "      <td>3.532860</td>\n",
       "      <td>8.632520</td>\n",
       "      <td>0.219504</td>\n",
       "      <td>1.0</td>\n",
       "      <td>0.504075</td>\n",
       "      <td>-8.632520</td>\n",
       "      <td>0.057089</td>\n",
       "      <td>0.012736</td>\n",
       "      <td>-60.3975</td>\n",
       "    </tr>\n",
       "    <tr>\n",
       "      <th>4</th>\n",
       "      <td>0.004975</td>\n",
       "      <td>3.300828</td>\n",
       "      <td>43.359665</td>\n",
       "      <td>-0.720869</td>\n",
       "      <td>1.0</td>\n",
       "      <td>3.191501</td>\n",
       "      <td>43.359665</td>\n",
       "      <td>0.055445</td>\n",
       "      <td>-0.048714</td>\n",
       "      <td>-8.0373</td>\n",
       "    </tr>\n",
       "    <tr>\n",
       "      <th>...</th>\n",
       "      <td>...</td>\n",
       "      <td>...</td>\n",
       "      <td>...</td>\n",
       "      <td>...</td>\n",
       "      <td>...</td>\n",
       "      <td>...</td>\n",
       "      <td>...</td>\n",
       "      <td>...</td>\n",
       "      <td>...</td>\n",
       "      <td>...</td>\n",
       "    </tr>\n",
       "    <tr>\n",
       "      <th>208979</th>\n",
       "      <td>0.007196</td>\n",
       "      <td>4.140301</td>\n",
       "      <td>7.805385</td>\n",
       "      <td>0.284841</td>\n",
       "      <td>-1.0</td>\n",
       "      <td>0.248430</td>\n",
       "      <td>-7.805385</td>\n",
       "      <td>0.030561</td>\n",
       "      <td>0.008948</td>\n",
       "      <td>-10.3122</td>\n",
       "    </tr>\n",
       "    <tr>\n",
       "      <th>208980</th>\n",
       "      <td>0.007210</td>\n",
       "      <td>3.852298</td>\n",
       "      <td>160.216980</td>\n",
       "      <td>2.341455</td>\n",
       "      <td>-1.0</td>\n",
       "      <td>6.800037</td>\n",
       "      <td>160.216980</td>\n",
       "      <td>-0.029593</td>\n",
       "      <td>0.030478</td>\n",
       "      <td>-47.0282</td>\n",
       "    </tr>\n",
       "    <tr>\n",
       "      <th>208981</th>\n",
       "      <td>0.004592</td>\n",
       "      <td>4.234431</td>\n",
       "      <td>32.691210</td>\n",
       "      <td>1.112678</td>\n",
       "      <td>-1.0</td>\n",
       "      <td>0.947065</td>\n",
       "      <td>-32.691210</td>\n",
       "      <td>0.012818</td>\n",
       "      <td>0.025994</td>\n",
       "      <td>-47.0282</td>\n",
       "    </tr>\n",
       "    <tr>\n",
       "      <th>208982</th>\n",
       "      <td>0.003816</td>\n",
       "      <td>4.122482</td>\n",
       "      <td>14.349394</td>\n",
       "      <td>2.564155</td>\n",
       "      <td>-1.0</td>\n",
       "      <td>0.464920</td>\n",
       "      <td>14.349394</td>\n",
       "      <td>-0.027161</td>\n",
       "      <td>0.017696</td>\n",
       "      <td>-47.0282</td>\n",
       "    </tr>\n",
       "    <tr>\n",
       "      <th>208983</th>\n",
       "      <td>0.004138</td>\n",
       "      <td>4.130126</td>\n",
       "      <td>12.054873</td>\n",
       "      <td>2.654359</td>\n",
       "      <td>-1.0</td>\n",
       "      <td>0.387605</td>\n",
       "      <td>-12.054873</td>\n",
       "      <td>-0.028426</td>\n",
       "      <td>0.015061</td>\n",
       "      <td>-47.0282</td>\n",
       "    </tr>\n",
       "  </tbody>\n",
       "</table>\n",
       "<p>208984 rows × 10 columns</p>\n",
       "</div>"
      ],
      "text/plain": [
       "              ep       eta           p       phi  pol        pt          qp  \\\n",
       "0       0.005459  3.210803   72.079880  0.294754  1.0  5.803692   72.079880   \n",
       "1       0.004050  4.436362   37.638340 -0.088796  1.0  0.891071  -37.638340   \n",
       "2       0.003901  3.577396   18.565832  0.319936  1.0  1.036960   18.565832   \n",
       "3       0.003859  3.532860    8.632520  0.219504  1.0  0.504075   -8.632520   \n",
       "4       0.004975  3.300828   43.359665 -0.720869  1.0  3.191501   43.359665   \n",
       "...          ...       ...         ...       ...  ...       ...         ...   \n",
       "208979  0.007196  4.140301    7.805385  0.284841 -1.0  0.248430   -7.805385   \n",
       "208980  0.007210  3.852298  160.216980  2.341455 -1.0  6.800037  160.216980   \n",
       "208981  0.004592  4.234431   32.691210  1.112678 -1.0  0.947065  -32.691210   \n",
       "208982  0.003816  4.122482   14.349394  2.564155 -1.0  0.464920   14.349394   \n",
       "208983  0.004138  4.130126   12.054873  2.654359 -1.0  0.387605  -12.054873   \n",
       "\n",
       "              tx        ty       zV  \n",
       "0       0.077296  0.023467 -60.3975  \n",
       "1       0.023588 -0.002100 -60.3975  \n",
       "2       0.053102  0.017594 -60.3975  \n",
       "3       0.057089  0.012736 -60.3975  \n",
       "4       0.055445 -0.048714  -8.0373  \n",
       "...          ...       ...      ...  \n",
       "208979  0.030561  0.008948 -10.3122  \n",
       "208980 -0.029593  0.030478 -47.0282  \n",
       "208981  0.012818  0.025994 -47.0282  \n",
       "208982 -0.027161  0.017696 -47.0282  \n",
       "208983 -0.028426  0.015061 -47.0282  \n",
       "\n",
       "[208984 rows x 10 columns]"
      ]
     },
     "execution_count": 167,
     "metadata": {},
     "output_type": "execute_result"
    }
   ],
   "source": [
    "# Check dataframe looks as expected\n",
    "file_data"
   ]
  },
  {
   "cell_type": "markdown",
   "id": "6e3715aa",
   "metadata": {},
   "source": [
    "Looks like data has been read correctly.\\\n",
    "Values appear to make sense:\n",
    "- ep is momentum fractional error so we expect to be less than 1.0.\n",
    "- pseudorapitity eta should be positive but could blow up for small $\\theta$ but about 3.0 to 4.0 look reasonable\n",
    "- total momentum p is much larger than transverse momentum pt as predicted in the notes\n",
    "- pol is $\\pm$ 1 because it's the magnet polarity\n",
    "- qp is muon charge times momentum and two out of every group of four are negative as expected\n",
    "- tx and ty are ratios of momenta to z-component which should be small as most of momentum is in z-direction\n",
    "- zV is z-component of vertex position and comes in fours for the four muons produced each time"
   ]
  },
  {
   "cell_type": "code",
   "execution_count": 54,
   "id": "746aa953",
   "metadata": {},
   "outputs": [
    {
     "name": "stdout",
     "output_type": "stream",
     "text": [
      "<class 'pandas.core.frame.DataFrame'>\n",
      "RangeIndex: 208984 entries, 0 to 208983\n",
      "Data columns (total 10 columns):\n",
      " #   Column  Non-Null Count   Dtype  \n",
      "---  ------  --------------   -----  \n",
      " 0   ep      208984 non-null  float64\n",
      " 1   eta     208984 non-null  float64\n",
      " 2   p       208984 non-null  float64\n",
      " 3   phi     208984 non-null  float64\n",
      " 4   pol     208984 non-null  float64\n",
      " 5   pt      208984 non-null  float64\n",
      " 6   qp      208984 non-null  float64\n",
      " 7   tx      208984 non-null  float64\n",
      " 8   ty      208984 non-null  float64\n",
      " 9   zV      208984 non-null  float64\n",
      "dtypes: float64(10)\n",
      "memory usage: 15.9 MB\n"
     ]
    }
   ],
   "source": [
    "file_data.info()"
   ]
  },
  {
   "cell_type": "markdown",
   "id": "e15849ce",
   "metadata": {},
   "source": [
    "No null values and each column has the same number of entries."
   ]
  },
  {
   "cell_type": "code",
   "execution_count": 155,
   "id": "772dde3e",
   "metadata": {},
   "outputs": [
    {
     "data": {
      "image/png": "[encoded data removed]",
      "text/plain": [
       "<Figure size 576x576 with 1 Axes>"
      ]
     },
     "metadata": {
      "needs_background": "light"
     },
     "output_type": "display_data"
    }
   ],
   "source": [
    "# Recteate Fig. 1\n",
    "fig, ax = plt.subplots(figsize=(8, 8))\n",
    "ax.plot(file_data['p'], file_data['ep'], ',')\n",
    "ax.set_xlabel(r'$p\\ (GeV/c)$', fontsize=16)\n",
    "# Use same axes limits as in notes\n",
    "ax.set_xlim(0, 400)\n",
    "ax.set_ylabel(r'$\\frac{\\sigma_p}{p}$', rotation=0, fontsize=20, labelpad=20)\n",
    "ax.set_ylim(0.002, 0.012)\n",
    "plt.show()"
   ]
  },
  {
   "cell_type": "markdown",
   "id": "cc0f44f7",
   "metadata": {},
   "source": [
    "We see the three different momentum resolution linear bands."
   ]
  },
  {
   "cell_type": "markdown",
   "id": "6f0b6a97",
   "metadata": {},
   "source": [
    "### Exercise \\#2"
   ]
  },
  {
   "cell_type": "code",
   "execution_count": 170,
   "id": "310817ba",
   "metadata": {},
   "outputs": [
    {
     "data": {
      "image/png": "[encoded data removed]",
      "text/plain": [
       "<Figure size 720x432 with 2 Axes>"
      ]
     },
     "metadata": {
      "needs_background": "light"
     },
     "output_type": "display_data"
    }
   ],
   "source": [
    "# Compare historgrams of p and pT\n",
    "n_bins = 100\n",
    "fig, ax = plt.subplots(2, 1, figsize=(10, 6))\n",
    "# Use log scale to make low count bins more visible\n",
    "ax[0].hist(file_data['p'], bins=n_bins, log=True, label=r'$p$')\n",
    "ax[1].hist(file_data['pt'], bins=n_bins, log=True, color='orange', label=r'$p_T$')\n",
    "fig.supxlabel(r'$momenta\\ (GeV/c)$', fontsize=16)\n",
    "fig.supylabel(r'$counts$', fontsize=16)\n",
    "ax[0].legend()\n",
    "ax[1].legend()\n",
    "plt.show()"
   ]
  },
  {
   "cell_type": "markdown",
   "id": "19eece99",
   "metadata": {},
   "source": [
    "From inspection, the pT distribution lies around 0-30 GeV/c while the p distribution extends well into the hundreds suggesting that, typically, $p_T \\ll p_z$ ie. that the vast majority of the total momenta are in the z-direction."
   ]
  },
  {
   "cell_type": "code",
   "execution_count": 57,
   "id": "50ac82ff",
   "metadata": {},
   "outputs": [],
   "source": [
    "# Create a copy of the DataFrame to be safe\n",
    "new_data = file_data.copy()"
   ]
  },
  {
   "cell_type": "code",
   "execution_count": 58,
   "id": "50f8b37b",
   "metadata": {},
   "outputs": [],
   "source": [
    "# Add new columns pz and epz defined in notes\n",
    "new_data['pz'] = np.sqrt(new_data['p']**2 - new_data['pt']**2)\n",
    "new_data['epz'] = new_data['ep'] * (new_data['p'] / new_data['pz'])"
   ]
  },
  {
   "cell_type": "code",
   "execution_count": 59,
   "id": "c7cf1fb7",
   "metadata": {
    "scrolled": true
   },
   "outputs": [
    {
     "data": {
      "text/html": [
       "<div>\n",
       "<style scoped>\n",
       "    .dataframe tbody tr th:only-of-type {\n",
       "        vertical-align: middle;\n",
       "    }\n",
       "\n",
       "    .dataframe tbody tr th {\n",
       "        vertical-align: top;\n",
       "    }\n",
       "\n",
       "    .dataframe thead th {\n",
       "        text-align: right;\n",
       "    }\n",
       "</style>\n",
       "<table border=\"1\" class=\"dataframe\">\n",
       "  <thead>\n",
       "    <tr style=\"text-align: right;\">\n",
       "      <th></th>\n",
       "      <th>ep</th>\n",
       "      <th>eta</th>\n",
       "      <th>p</th>\n",
       "      <th>phi</th>\n",
       "      <th>pol</th>\n",
       "      <th>pt</th>\n",
       "      <th>qp</th>\n",
       "      <th>tx</th>\n",
       "      <th>ty</th>\n",
       "      <th>zV</th>\n",
       "      <th>pz</th>\n",
       "      <th>epz</th>\n",
       "    </tr>\n",
       "  </thead>\n",
       "  <tbody>\n",
       "    <tr>\n",
       "      <th>0</th>\n",
       "      <td>0.005459</td>\n",
       "      <td>3.210803</td>\n",
       "      <td>72.079880</td>\n",
       "      <td>0.294754</td>\n",
       "      <td>1.0</td>\n",
       "      <td>5.803692</td>\n",
       "      <td>72.079880</td>\n",
       "      <td>0.077296</td>\n",
       "      <td>0.023467</td>\n",
       "      <td>-60.3975</td>\n",
       "      <td>71.845851</td>\n",
       "      <td>0.005477</td>\n",
       "    </tr>\n",
       "    <tr>\n",
       "      <th>1</th>\n",
       "      <td>0.004050</td>\n",
       "      <td>4.436362</td>\n",
       "      <td>37.638340</td>\n",
       "      <td>-0.088796</td>\n",
       "      <td>1.0</td>\n",
       "      <td>0.891071</td>\n",
       "      <td>-37.638340</td>\n",
       "      <td>0.023588</td>\n",
       "      <td>-0.002100</td>\n",
       "      <td>-60.3975</td>\n",
       "      <td>37.627791</td>\n",
       "      <td>0.004052</td>\n",
       "    </tr>\n",
       "    <tr>\n",
       "      <th>2</th>\n",
       "      <td>0.003901</td>\n",
       "      <td>3.577396</td>\n",
       "      <td>18.565832</td>\n",
       "      <td>0.319936</td>\n",
       "      <td>1.0</td>\n",
       "      <td>1.036960</td>\n",
       "      <td>18.565832</td>\n",
       "      <td>0.053102</td>\n",
       "      <td>0.017594</td>\n",
       "      <td>-60.3975</td>\n",
       "      <td>18.536851</td>\n",
       "      <td>0.003908</td>\n",
       "    </tr>\n",
       "    <tr>\n",
       "      <th>3</th>\n",
       "      <td>0.003859</td>\n",
       "      <td>3.532860</td>\n",
       "      <td>8.632520</td>\n",
       "      <td>0.219504</td>\n",
       "      <td>1.0</td>\n",
       "      <td>0.504075</td>\n",
       "      <td>-8.632520</td>\n",
       "      <td>0.057089</td>\n",
       "      <td>0.012736</td>\n",
       "      <td>-60.3975</td>\n",
       "      <td>8.617790</td>\n",
       "      <td>0.003866</td>\n",
       "    </tr>\n",
       "    <tr>\n",
       "      <th>4</th>\n",
       "      <td>0.004975</td>\n",
       "      <td>3.300828</td>\n",
       "      <td>43.359665</td>\n",
       "      <td>-0.720869</td>\n",
       "      <td>1.0</td>\n",
       "      <td>3.191501</td>\n",
       "      <td>43.359665</td>\n",
       "      <td>0.055445</td>\n",
       "      <td>-0.048714</td>\n",
       "      <td>-8.0373</td>\n",
       "      <td>43.242050</td>\n",
       "      <td>0.004989</td>\n",
       "    </tr>\n",
       "  </tbody>\n",
       "</table>\n",
       "</div>"
      ],
      "text/plain": [
       "         ep       eta          p       phi  pol        pt         qp  \\\n",
       "0  0.005459  3.210803  72.079880  0.294754  1.0  5.803692  72.079880   \n",
       "1  0.004050  4.436362  37.638340 -0.088796  1.0  0.891071 -37.638340   \n",
       "2  0.003901  3.577396  18.565832  0.319936  1.0  1.036960  18.565832   \n",
       "3  0.003859  3.532860   8.632520  0.219504  1.0  0.504075  -8.632520   \n",
       "4  0.004975  3.300828  43.359665 -0.720869  1.0  3.191501  43.359665   \n",
       "\n",
       "         tx        ty       zV         pz       epz  \n",
       "0  0.077296  0.023467 -60.3975  71.845851  0.005477  \n",
       "1  0.023588 -0.002100 -60.3975  37.627791  0.004052  \n",
       "2  0.053102  0.017594 -60.3975  18.536851  0.003908  \n",
       "3  0.057089  0.012736 -60.3975   8.617790  0.003866  \n",
       "4  0.055445 -0.048714  -8.0373  43.242050  0.004989  "
      ]
     },
     "execution_count": 59,
     "metadata": {},
     "output_type": "execute_result"
    }
   ],
   "source": [
    "new_data.head()"
   ]
  },
  {
   "cell_type": "markdown",
   "id": "51779d13",
   "metadata": {},
   "source": [
    "New columns look as expected."
   ]
  },
  {
   "cell_type": "code",
   "execution_count": 157,
   "id": "4450bdf4",
   "metadata": {},
   "outputs": [
    {
     "data": {
      "image/png": "[encoded data removed]",
      "text/plain": [
       "<Figure size 576x576 with 1 Axes>"
      ]
     },
     "metadata": {
      "needs_background": "light"
     },
     "output_type": "display_data"
    }
   ],
   "source": [
    "# Recreate Fig. 1 with pz instead of p\n",
    "fig, ax = plt.subplots(figsize=(8, 8))\n",
    "ax.plot(new_data['pz'], new_data['epz'], ',b')\n",
    "ax.set_xlabel(r'$p_{z}\\ (GeV/c)$', fontsize=16)\n",
    "ax.set_xlim(0, 400)\n",
    "ax.set_ylabel(r'$\\frac{\\sigma_{p_z}}{p_z}$', rotation=0, fontsize=20, labelpad=20)\n",
    "ax.set_ylim(0.002, 0.012)\n",
    "plt.show()"
   ]
  },
  {
   "cell_type": "markdown",
   "id": "880366e7",
   "metadata": {},
   "source": [
    "We see the plot is almost identical when substituting pz for p. Hence, the vast majority of the momenta are in the z-direction ie. $p_T \\ll p_z$. "
   ]
  },
  {
   "cell_type": "markdown",
   "id": "354858a5",
   "metadata": {},
   "source": [
    "## Regression with Neural Networks"
   ]
  },
  {
   "cell_type": "code",
   "execution_count": 146,
   "id": "cae18a9d",
   "metadata": {},
   "outputs": [],
   "source": [
    "# ML imports\n",
    "from tensorflow.keras.models import Sequential\n",
    "from tensorflow.keras.layers import Dense\n",
    "from tensorflow.keras.layers import Dropout\n",
    "from tensorflow.keras.wrappers.scikit_learn import KerasRegressor\n",
    "from sklearn.model_selection import cross_val_score\n",
    "from sklearn.model_selection import KFold\n",
    "from sklearn.preprocessing import StandardScaler\n",
    "from sklearn.pipeline import Pipeline\n",
    "from sklearn.model_selection import cross_val_predict"
   ]
  },
  {
   "cell_type": "markdown",
   "id": "0549e344",
   "metadata": {},
   "source": [
    "### Exercise \\#3"
   ]
  },
  {
   "cell_type": "code",
   "execution_count": 83,
   "id": "66a59d28",
   "metadata": {},
   "outputs": [],
   "source": [
    "# Reduced Dataframe for ML exercise\n",
    "ML_data = new_data[['p', 'tx', 'ty', 'eta', 'phi', 'ep']]\n",
    "# Features are first five columns\n",
    "data = new_data[['p', 'tx', 'ty', 'eta', 'phi']].values\n",
    "# Target is momentum resolution\n",
    "target = new_data['ep'].values"
   ]
  },
  {
   "cell_type": "code",
   "execution_count": 71,
   "id": "ce1f7aff",
   "metadata": {},
   "outputs": [
    {
     "data": {
      "text/html": [
       "<div>\n",
       "<style scoped>\n",
       "    .dataframe tbody tr th:only-of-type {\n",
       "        vertical-align: middle;\n",
       "    }\n",
       "\n",
       "    .dataframe tbody tr th {\n",
       "        vertical-align: top;\n",
       "    }\n",
       "\n",
       "    .dataframe thead th {\n",
       "        text-align: right;\n",
       "    }\n",
       "</style>\n",
       "<table border=\"1\" class=\"dataframe\">\n",
       "  <thead>\n",
       "    <tr style=\"text-align: right;\">\n",
       "      <th></th>\n",
       "      <th>p</th>\n",
       "      <th>tx</th>\n",
       "      <th>ty</th>\n",
       "      <th>eta</th>\n",
       "      <th>phi</th>\n",
       "      <th>ep</th>\n",
       "    </tr>\n",
       "  </thead>\n",
       "  <tbody>\n",
       "    <tr>\n",
       "      <th>0</th>\n",
       "      <td>72.079880</td>\n",
       "      <td>0.077296</td>\n",
       "      <td>0.023467</td>\n",
       "      <td>3.210803</td>\n",
       "      <td>0.294754</td>\n",
       "      <td>0.005459</td>\n",
       "    </tr>\n",
       "    <tr>\n",
       "      <th>1</th>\n",
       "      <td>37.638340</td>\n",
       "      <td>0.023588</td>\n",
       "      <td>-0.002100</td>\n",
       "      <td>4.436362</td>\n",
       "      <td>-0.088796</td>\n",
       "      <td>0.004050</td>\n",
       "    </tr>\n",
       "    <tr>\n",
       "      <th>2</th>\n",
       "      <td>18.565832</td>\n",
       "      <td>0.053102</td>\n",
       "      <td>0.017594</td>\n",
       "      <td>3.577396</td>\n",
       "      <td>0.319936</td>\n",
       "      <td>0.003901</td>\n",
       "    </tr>\n",
       "    <tr>\n",
       "      <th>3</th>\n",
       "      <td>8.632520</td>\n",
       "      <td>0.057089</td>\n",
       "      <td>0.012736</td>\n",
       "      <td>3.532860</td>\n",
       "      <td>0.219504</td>\n",
       "      <td>0.003859</td>\n",
       "    </tr>\n",
       "    <tr>\n",
       "      <th>4</th>\n",
       "      <td>43.359665</td>\n",
       "      <td>0.055445</td>\n",
       "      <td>-0.048714</td>\n",
       "      <td>3.300828</td>\n",
       "      <td>-0.720869</td>\n",
       "      <td>0.004975</td>\n",
       "    </tr>\n",
       "  </tbody>\n",
       "</table>\n",
       "</div>"
      ],
      "text/plain": [
       "           p        tx        ty       eta       phi        ep\n",
       "0  72.079880  0.077296  0.023467  3.210803  0.294754  0.005459\n",
       "1  37.638340  0.023588 -0.002100  4.436362 -0.088796  0.004050\n",
       "2  18.565832  0.053102  0.017594  3.577396  0.319936  0.003901\n",
       "3   8.632520  0.057089  0.012736  3.532860  0.219504  0.003859\n",
       "4  43.359665  0.055445 -0.048714  3.300828 -0.720869  0.004975"
      ]
     },
     "execution_count": 71,
     "metadata": {},
     "output_type": "execute_result"
    }
   ],
   "source": [
    "ML_data.head()"
   ]
  },
  {
   "cell_type": "code",
   "execution_count": 74,
   "id": "398a5bce",
   "metadata": {},
   "outputs": [],
   "source": [
    "# num of inputs = 5 (p , tx , ty , eta , phi ) , num of outputs = 1 ( ep )\n",
    "num_inputs = 5; num_outputs = 1\n",
    "\n",
    "# simple Keras model : use same # of nodes as # of inputs , single layer\n",
    "num_nodes = num_inputs"
   ]
  },
  {
   "cell_type": "code",
   "execution_count": 75,
   "id": "cac97377",
   "metadata": {},
   "outputs": [],
   "source": [
    "# Compiles simple model from notes\n",
    "def simple_model():\n",
    "    # create model\n",
    "    model = Sequential()\n",
    "    # no activation required for the output, as this is a regression problem,\n",
    "    # ie. we need a numerical prediction for any input\n",
    "    model.add(Dense(num_nodes, input_dim = num_inputs, kernel_initializer = 'normal' , \\\n",
    "    activation = 'relu'))\n",
    "    # Dropout layer to try to discourage overfitting to training data\n",
    "    model.add(Dropout(0.2))\n",
    "    model.add(Dense(num_outputs, kernel_initializer = 'normal'))\n",
    "    # Compile model\n",
    "    model.compile(loss = 'mean_squared_error', optimizer = 'adam')\n",
    "    return model"
   ]
  },
  {
   "cell_type": "code",
   "execution_count": 171,
   "id": "96e7f65c",
   "metadata": {},
   "outputs": [],
   "source": [
    "# must always set the random seed for reproducibility\n",
    "Answer_to_all_questions = 42\n",
    "np.random.seed(Answer_to_all_questions)"
   ]
  },
  {
   "cell_type": "code",
   "execution_count": 113,
   "id": "8cabd76a",
   "metadata": {},
   "outputs": [],
   "source": [
    "# Calculates mean 10-fold R^2 score with standard deviation\n",
    "def R2score(N_epochs, batchSize):\n",
    "    estimator = KerasRegressor(build_fn = simple_model, epochs = N_epochs, batch_size = batchSize, verbose=0)\n",
    "    kfold = KFold(n_splits = 10, random_state = Answer_to_all_questions, shuffle = True)\n",
    "    # data and target are 5 - column and 1 - column arrays produced with pandas.DataFrame.values\n",
    "    results = cross_val_score(estimator, data, target, cv = kfold, scoring = 'r2')\n",
    "    print('N_epochs = {}, batchSize = {}'.format(N_epochs, batchSize))\n",
    "    print(\"Standardised: %.2f %s %.2f\" % (results.mean(), u\"\\u00B1\", results.std()))\n",
    "    # Empty line before printing next model score\n",
    "    print('')"
   ]
  },
  {
   "cell_type": "code",
   "execution_count": 115,
   "id": "25df33cd",
   "metadata": {},
   "outputs": [
    {
     "name": "stdout",
     "output_type": "stream",
     "text": [
      "N_epochs = 10, batchSize = 200\n",
      "Standardised: 0.66 ± 0.07\n",
      "\n",
      "N_epochs = 10, batchSize = 400\n",
      "Standardised: 0.58 ± 0.21\n",
      "\n",
      "N_epochs = 10, batchSize = 600\n",
      "Standardised: 0.56 ± 0.12\n",
      "\n",
      "N_epochs = 20, batchSize = 200\n",
      "Standardised: 0.65 ± 0.06\n",
      "\n",
      "N_epochs = 20, batchSize = 400\n",
      "Standardised: 0.66 ± 0.04\n",
      "\n",
      "N_epochs = 20, batchSize = 600\n",
      "Standardised: 0.67 ± 0.02\n",
      "\n",
      "N_epochs = 30, batchSize = 200\n",
      "Standardised: 0.64 ± 0.08\n",
      "\n",
      "N_epochs = 30, batchSize = 400\n",
      "Standardised: 0.66 ± 0.03\n",
      "\n",
      "N_epochs = 30, batchSize = 600\n",
      "Standardised: 0.66 ± 0.03\n",
      "\n"
     ]
    }
   ],
   "source": [
    "# 100 epochs with batch size 5 would take very long, but batch size 1000 was okay\n",
    "# 'Grid' of (number of epochs, batch size) pairs with reasonable values that won't take too long\n",
    "N_epochs_list = [10, 20, 30]\n",
    "batchSize_list = [200, 400, 600]\n",
    "# Try each of the 9 pairs\n",
    "for N_epochs in N_epochs_list:\n",
    "    for batchSize in batchSize_list:"
   ]
  },
  {
   "cell_type": "code",
   "execution_count": 116,
   "id": "a453d747",
   "metadata": {},
   "outputs": [
    {
     "name": "stdout",
     "output_type": "stream",
     "text": [
      "N_epochs = 40, batchSize = 100\n",
      "Standardised: 0.53 ± 0.12\n",
      "\n"
     ]
    }
   ],
   "source": [
    "# Try a extra one with more epochs and smaller batches\n",
    "R2score(40, 100)"
   ]
  },
  {
   "cell_type": "markdown",
   "id": "b4101e2a",
   "metadata": {},
   "source": [
    "A lot of the models gave similar mean $R^2$ scores. Highest mean score and lowest standard deviation was N_epochs = 20, batchSize = 600 so will use this from now on."
   ]
  },
  {
   "cell_type": "markdown",
   "id": "d16f0385",
   "metadata": {},
   "source": [
    "### Exercise \\#4"
   ]
  },
  {
   "cell_type": "code",
   "execution_count": 117,
   "id": "3912273d",
   "metadata": {},
   "outputs": [],
   "source": [
    "N_epochs = 20\n",
    "batchSize = 600"
   ]
  },
  {
   "cell_type": "code",
   "execution_count": 121,
   "id": "b477f153",
   "metadata": {},
   "outputs": [
    {
     "name": "stdout",
     "output_type": "stream",
     "text": [
      "Scaled\n",
      "N_epochs = 20, batchSize = 600\n",
      "Standardised: 0.68 ± 0.07\n"
     ]
    }
   ],
   "source": [
    "# Pipelpine method to scale features to same numerical range so model values them all equally 'important'\n",
    "estimators = []\n",
    "estimators.append(('standardize', StandardScaler()))\n",
    "estimators.append(('mlp', KerasRegressor(build_fn = simple_model, \\\n",
    "epochs = N_epochs, batch_size = batchSize, verbose = 0)))\n",
    "pipeline = Pipeline(estimators)\n",
    "\n",
    "results_scaled = cross_val_score(pipeline, data, target, cv = kfold, scoring = 'r2')\n",
    "print('Scaled')\n",
    "print('N_epochs = {}, batchSize = {}'.format(N_epochs, batchSize))\n",
    "print(\"Standardised: %.2f %s %.2f\" % (results_scaled.mean(), u\"\\u00B1\", results_scaled.std()))"
   ]
  },
  {
   "cell_type": "markdown",
   "id": "4c7626a0",
   "metadata": {},
   "source": [
    "Marginal imporovement over the unstandardised data. Despite higher standard deviation, I will use the pipeline method from now on."
   ]
  },
  {
   "cell_type": "code",
   "execution_count": 122,
   "id": "346d54a7",
   "metadata": {},
   "outputs": [],
   "source": [
    "# The simple model with one extra dense layer\n",
    "def denser_model():\n",
    "    # create model\n",
    "    model = Sequential()\n",
    "    # no activation required for the output, as this is a regression problem,\n",
    "    # ie. we need a numerical prediction for any input\n",
    "    model.add(Dense(num_nodes, input_dim = num_inputs, kernel_initializer = 'normal' , \\\n",
    "    activation = 'relu'))\n",
    "    # Half the nodes of previous layer rounded down ie. 2\n",
    "    model.add(Dense(num_nodes // 2, input_dim = num_inputs, kernel_initializer = 'normal' , \\\n",
    "    activation = 'relu'))\n",
    "    model.add(Dropout(0.2))\n",
    "    model.add(Dense(num_outputs, kernel_initializer = 'normal'))\n",
    "    # Compile model\n",
    "    model.compile(loss = 'mean_squared_error', optimizer = 'adam')\n",
    "    return model"
   ]
  },
  {
   "cell_type": "code",
   "execution_count": 123,
   "id": "d77e0812",
   "metadata": {},
   "outputs": [
    {
     "name": "stdout",
     "output_type": "stream",
     "text": [
      "Scaled Denser Model\n",
      "N_epochs = 20, batchSize = 600\n",
      "Standardised: 0.60 ± 0.21\n"
     ]
    }
   ],
   "source": [
    "# Repeat evaluation for dense model\n",
    "estimators = []\n",
    "estimators.append(('standardize', StandardScaler()))\n",
    "estimators.append(('mlp', KerasRegressor(build_fn = denser_model, \\\n",
    "epochs = N_epochs, batch_size = batchSize, verbose = 0)))\n",
    "pipeline = Pipeline(estimators)\n",
    "\n",
    "results_scaled = cross_val_score(pipeline, data, target, cv = kfold, scoring = 'r2')\n",
    "print('Scaled Denser Model')\n",
    "print('N_epochs = {}, batchSize = {}'.format(N_epochs, batchSize))\n",
    "print(\"Standardised: %.2f %s %.2f\" % (results_scaled.mean(), u\"\\u00B1\", results_scaled.std()))"
   ]
  },
  {
   "cell_type": "markdown",
   "id": "f748b843",
   "metadata": {},
   "source": [
    "Dense model has worse mean $R^2$ score and high standard deviation. Previous simple model is preferred."
   ]
  },
  {
   "cell_type": "code",
   "execution_count": 127,
   "id": "7418c412",
   "metadata": {},
   "outputs": [],
   "source": [
    "# The simple model but with twice as many nodes in the dense layer\n",
    "def wider_model():\n",
    "    # create model\n",
    "    model = Sequential()\n",
    "    # no activation required for the output, as this is a regression problem,\n",
    "    # ie. we need a numerical prediction for any input\n",
    "    model.add(Dense(2*num_inputs, input_dim = num_inputs, kernel_initializer = 'normal' , \\\n",
    "    activation = 'relu'))\n",
    "    model.add(Dropout(0.2))\n",
    "    model.add(Dense(num_outputs, kernel_initializer = 'normal'))\n",
    "    # Compile model\n",
    "    model.compile(loss = 'mean_squared_error', optimizer = 'adam')\n",
    "    return model"
   ]
  },
  {
   "cell_type": "code",
   "execution_count": 128,
   "id": "58901f87",
   "metadata": {},
   "outputs": [
    {
     "name": "stdout",
     "output_type": "stream",
     "text": [
      "Scaled Wider Model\n",
      "N_epochs = 20, batchSize = 600\n",
      "Standardised: 0.74 ± 0.01\n"
     ]
    }
   ],
   "source": [
    "estimators = []\n",
    "estimators.append(('standardize', StandardScaler()))\n",
    "estimators.append(('mlp', KerasRegressor(build_fn = wider_model, \\\n",
    "epochs = N_epochs, batch_size = batchSize, verbose = 0)))\n",
    "pipeline = Pipeline(estimators)\n",
    "\n",
    "results_scaled = cross_val_score(pipeline, data, target, cv = kfold, scoring = 'r2')\n",
    "print('Scaled Wider Model')\n",
    "print('N_epochs = {}, batchSize = {}'.format(N_epochs, batchSize))\n",
    "print(\"Standardised: %.2f %s %.2f\" % (results_scaled.mean(), u\"\\u00B1\", results_scaled.std()))"
   ]
  },
  {
   "cell_type": "markdown",
   "id": "e4b30690",
   "metadata": {},
   "source": [
    "Wider model is best so far. Significantly improved mean score and low standard deviation."
   ]
  },
  {
   "cell_type": "code",
   "execution_count": 144,
   "id": "c44a3de6",
   "metadata": {},
   "outputs": [],
   "source": [
    "# New model with multiple wider dense layers. Still all ReLu activated with 20% dropout\n",
    "def new_model():\n",
    "    # create model\n",
    "    model = Sequential()\n",
    "    # no activation required for the output, as this is a regression problem,\n",
    "    # ie. we need a numerical prediction for any input\n",
    "    model.add(Dense(10*num_inputs, input_dim = num_inputs, kernel_initializer = 'normal' , \\\n",
    "    activation = 'relu'))\n",
    "    model.add(Dense(4*num_inputs, input_dim = 10*num_inputs, kernel_initializer = 'normal' , \\\n",
    "    activation = 'relu'))\n",
    "    model.add(Dense(3*num_inputs, input_dim = 4*num_inputs, kernel_initializer = 'normal' , \\\n",
    "    activation = 'relu'))\n",
    "    model.add(Dropout(0.2))\n",
    "    model.add(Dense(num_outputs, kernel_initializer = 'normal'))\n",
    "    # Compile model\n",
    "    model.compile(loss = 'mean_squared_error', optimizer = 'adam')\n",
    "    return model"
   ]
  },
  {
   "cell_type": "code",
   "execution_count": 145,
   "id": "fe1c19e0",
   "metadata": {},
   "outputs": [
    {
     "name": "stdout",
     "output_type": "stream",
     "text": [
      "Scaled New Model\n",
      "N_epochs = 20, batchSize = 600\n",
      "Standardised: 0.83 ± 0.01\n"
     ]
    }
   ],
   "source": [
    "estimators = []\n",
    "estimators.append(('standardize', StandardScaler()))\n",
    "estimators.append(('mlp', KerasRegressor(build_fn = new_model, \\\n",
    "epochs = N_epochs, batch_size = batchSize, verbose = 0)))\n",
    "pipeline = Pipeline(estimators)\n",
    "\n",
    "results_scaled = cross_val_score(pipeline, data, target, cv = kfold, scoring = 'r2')\n",
    "print('Scaled New Model')\n",
    "print('N_epochs = {}, batchSize = {}'.format(N_epochs, batchSize))\n",
    "print(\"Standardised: %.2f %s %.2f\" % (results_scaled.mean(), u\"\\u00B1\", results_scaled.std()))"
   ]
  },
  {
   "cell_type": "markdown",
   "id": "3279afdf",
   "metadata": {},
   "source": [
    "Trial-and-errored a few combinations of layers and a new, deeper and wider, model gives best score yet. "
   ]
  },
  {
   "cell_type": "code",
   "execution_count": 147,
   "id": "9be567f6",
   "metadata": {},
   "outputs": [],
   "source": [
    "# Get predicted values\n",
    "predicted = cross_val_predict(pipeline, data, target, cv = kfold)"
   ]
  },
  {
   "cell_type": "code",
   "execution_count": 172,
   "id": "f78dfce7",
   "metadata": {},
   "outputs": [
    {
     "data": {
      "image/png": "[encoded data removed]",
      "text/plain": [
       "<Figure size 576x576 with 1 Axes>"
      ]
     },
     "metadata": {
      "needs_background": "light"
     },
     "output_type": "display_data"
    }
   ],
   "source": [
    "# Plot true momentum resolution against predicted momentum resolution\n",
    "fig, ax = plt.subplots(figsize=(8, 8))\n",
    "ax.plot(predicted, new_data['ep'], ',b')\n",
    "# Lay on top ideal line of true = predicted\n",
    "ax.plot(new_data['ep'], new_data['ep'], '-r')\n",
    "ax.set_xlabel(r'$(\\frac{\\sigma_{p_z}}{p_z})_{pred}$', fontsize=20)\n",
    "ax.set_xlim(0.002, 0.012)\n",
    "ax.set_ylabel(r'$(\\frac{\\sigma_{p_z}}{p_z})_{true}$', rotation=0, fontsize=20, labelpad=50)\n",
    "ax.set_ylim(0.002, 0.012)\n",
    "plt.show()"
   ]
  },
  {
   "cell_type": "markdown",
   "id": "524ee367",
   "metadata": {},
   "source": [
    "Points are roughly focused around y=x so there is a strong correlation between the true momentum resolution and the prediction which means the model is relatively successful. However, there is a patchy cloud above the red line where the model tends to underestimate the momentum resolution and one clear branch at the low end below the red line where the model overestimates the momentum resolution."
   ]
  },
  {
   "cell_type": "code",
   "execution_count": 164,
   "id": "5cb4c191",
   "metadata": {},
   "outputs": [
    {
     "data": {
      "image/png": "[encoded data removed]",
      "text/plain": [
       "<Figure size 576x576 with 1 Axes>"
      ]
     },
     "metadata": {
      "needs_background": "light"
     },
     "output_type": "display_data"
    }
   ],
   "source": [
    "# Recreate Fig. 1 using the predicted momentum resolutions\n",
    "fig, ax = plt.subplots(figsize=(8, 8))\n",
    "ax.plot(new_data['p'], predicted, ',g')\n",
    "ax.set_xlabel(r'$p\\ (GeV/c)$', fontsize=16)\n",
    "ax.set_xlim(0, 400)\n",
    "ax.set_ylabel(r'$(\\frac{\\sigma_{p_z}}{p_z})_{pred}$', rotation=0, fontsize=20, labelpad=50)\n",
    "ax.set_ylim(0.002, 0.012)\n",
    "plt.show()"
   ]
  },
  {
   "cell_type": "markdown",
   "id": "d8bf17f3",
   "metadata": {},
   "source": [
    "We see the predictions almost capture the three linear branches we expect to see and overall the plot is quite similar to the true Fig. 1."
   ]
  }
 ],
 "metadata": {
  "kernelspec": {
   "display_name": "Python 3 (ipykernel)",
   "language": "python",
   "name": "python3"
  },
  "language_info": {
   "codemirror_mode": {
    "name": "ipython",
    "version": 3
   },
   "file_extension": ".py",
   "mimetype": "text/x-python",
   "name": "python",
   "nbconvert_exporter": "python",
   "pygments_lexer": "ipython3",
   "version": "3.7.11"
  }
 },
 "nbformat": 4,
 "nbformat_minor": 5
}
