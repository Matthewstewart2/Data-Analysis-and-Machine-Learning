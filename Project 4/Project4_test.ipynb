{
 "cells": [
  {
   "cell_type": "code",
   "execution_count": 1,
   "id": "30b3972d",
   "metadata": {},
   "outputs": [],
   "source": [
    "# Standard imports\n",
    "import numpy as np\n",
    "import pandas as pd\n",
    "import matplotlib.pyplot as plt\n",
    "from scipy.stats import zscore\n",
    "\n",
    "from sklearn.utils import shuffle\n",
    "import dt_utils\n",
    "import nn_utils\n",
    "import seaborn as sns\n",
    "from sklearn import model_selection, preprocessing\n",
    "\n",
    "from tensorflow.keras.models import Sequential\n",
    "from tensorflow.keras.layers import Dense\n",
    "from tensorflow.keras.layers import Dropout\n",
    "from tensorflow.keras.callbacks import EarlyStopping, ModelCheckpoint\n",
    "\n",
    "from sklearn.metrics import confusion_matrix\n",
    "from sklearn.metrics import roc_curve\n",
    "from sklearn.metrics import auc"
   ]
  },
  {
   "cell_type": "code",
   "execution_count": 2,
   "id": "a3801cb3",
   "metadata": {},
   "outputs": [],
   "source": [
    "dibosonDF = pd.read_csv('Diboson.csv')\n",
    "ggH1000DF = pd.read_csv('ggH1000.csv')\n",
    "topDF = pd.read_csv('Top.csv')\n",
    "zjetsDF = pd.read_csv('Zjets.csv')\n",
    "features_interest = ['lep1_pt', 'lep2_pt', 'fatjet_pt', 'fatjet_eta', 'fatjet_D2',\n",
    "                     'Zll_mass', 'Zll_pt', 'MET', 'reco_zv_mass', 'isSignal', 'FullEventWeight']\n",
    "dibosonDF = dibosonDF[features_interest]\n",
    "dibosonDF2 = dibosonDF[(np.abs(zscore(dibosonDF.iloc[:, :-2])) < 3).all(axis=1)]\n",
    "ggH1000DF = ggH1000DF[features_interest]\n",
    "ggH1000DF2 = ggH1000DF[(np.abs(zscore(ggH1000DF.iloc[:, :-2])) < 3).all(axis=1)]\n",
    "topDF = topDF[features_interest]\n",
    "topDF2 = topDF[(np.abs(zscore(topDF.iloc[:, :-2])) < 3).all(axis=1)]\n",
    "zjetsDF = zjetsDF[features_interest]\n",
    "zjetsDF2 = zjetsDF[(np.abs(zscore(zjetsDF.iloc[:, :-2])) < 3).all(axis=1)]"
   ]
  },
  {
   "cell_type": "code",
   "execution_count": 2,
   "id": "46667efb",
   "metadata": {},
   "outputs": [],
   "source": [
    "a = np.array([1, 2, 3])\n",
    "b = np.array([4, 5, 6])"
   ]
  },
  {
   "cell_type": "code",
   "execution_count": 113,
   "id": "cfccf80d",
   "metadata": {},
   "outputs": [
    {
     "data": {
      "text/plain": [
       "array([0.25, 0.4 , 0.5 ])"
      ]
     },
     "execution_count": 113,
     "metadata": {},
     "output_type": "execute_result"
    }
   ],
   "source": [
    "a/b"
   ]
  },
  {
   "cell_type": "code",
   "execution_count": 3,
   "id": "31b566fa",
   "metadata": {},
   "outputs": [
    {
     "data": {
      "text/plain": [
       "array([1, 2, 3, 4, 5, 6])"
      ]
     },
     "execution_count": 3,
     "metadata": {},
     "output_type": "execute_result"
    }
   ],
   "source": [
    "np.concatenate([a, b])"
   ]
  },
  {
   "cell_type": "code",
   "execution_count": 82,
   "id": "bc6df9a5",
   "metadata": {},
   "outputs": [],
   "source": [
    "x = np.array([2,9,4,8])\n",
    "weights = np.array([0.1,0.2,0.3,0.4])\n",
    "bin_edges = np.array([0, 5, 10])"
   ]
  },
  {
   "cell_type": "code",
   "execution_count": 83,
   "id": "875e5e37",
   "metadata": {},
   "outputs": [
    {
     "data": {
      "image/png": "[encoded data removed]",
      "text/plain": [
       "<Figure size 432x288 with 1 Axes>"
      ]
     },
     "metadata": {
      "needs_background": "light"
     },
     "output_type": "display_data"
    }
   ],
   "source": [
    "N, _, _ = plt.hist(x,weights=w,bins=bin_edges)"
   ]
  },
  {
   "cell_type": "code",
   "execution_count": 109,
   "id": "355d336e",
   "metadata": {},
   "outputs": [],
   "source": [
    "bin_indices = np.digitize(x, bin_edges)\n",
    "\n",
    "# access elements for first bin\n",
    "first_bin_ws = w[np.where(bin_indices==1)]\n",
    "\n",
    "# error of fist bin\n",
    "error = np.sqrt(np.sum(first_bin_ws**2.))"
   ]
  },
  {
   "cell_type": "code",
   "execution_count": 110,
   "id": "660eb19c",
   "metadata": {},
   "outputs": [
    {
     "data": {
      "text/plain": [
       "array([1, 2, 1, 2], dtype=int64)"
      ]
     },
     "execution_count": 110,
     "metadata": {},
     "output_type": "execute_result"
    }
   ],
   "source": [
    "bin_indices"
   ]
  },
  {
   "cell_type": "code",
   "execution_count": 94,
   "id": "210b9b64",
   "metadata": {},
   "outputs": [
    {
     "data": {
      "text/plain": [
       "array([ 0,  5, 10])"
      ]
     },
     "execution_count": 94,
     "metadata": {},
     "output_type": "execute_result"
    }
   ],
   "source": [
    "bin_edges"
   ]
  },
  {
   "cell_type": "code",
   "execution_count": 95,
   "id": "4546819b",
   "metadata": {},
   "outputs": [
    {
     "data": {
      "text/plain": [
       "array([1, 2, 1, 2], dtype=int64)"
      ]
     },
     "execution_count": 95,
     "metadata": {},
     "output_type": "execute_result"
    }
   ],
   "source": [
    "bins"
   ]
  },
  {
   "cell_type": "code",
   "execution_count": 96,
   "id": "959fa494",
   "metadata": {},
   "outputs": [
    {
     "data": {
      "text/plain": [
       "array([0.1, 0.3])"
      ]
     },
     "execution_count": 96,
     "metadata": {},
     "output_type": "execute_result"
    }
   ],
   "source": [
    "first_bin_ws"
   ]
  },
  {
   "cell_type": "code",
   "execution_count": 97,
   "id": "a04ba151",
   "metadata": {},
   "outputs": [],
   "source": [
    "def calc_sumsq_weights(bin_edges, weights, bin_indices):\n",
    "    sum_binned_weights = []\n",
    "    sumsq_binned_weights = []\n",
    "    for i in range(len(bin_edges)-1):\n",
    "        binned_weights_i = weights[np.where(bin_indices==i+1)]\n",
    "        sum_binned_weights.append(np.sum(binned_weights_i))\n",
    "        sumsq_binned_weights.append(np.sum(binned_weights_i**2))\n",
    "    return np.array(sum_binned_weights), np.array(sumsq_binned_weights)"
   ]
  },
  {
   "cell_type": "code",
   "execution_count": 98,
   "id": "5f249bcf",
   "metadata": {},
   "outputs": [],
   "source": [
    "sum_binned_weights, sumsq_binned_weights = calc_sumsq_weights(bin_edges, weights, bin_indices)"
   ]
  },
  {
   "cell_type": "code",
   "execution_count": 99,
   "id": "d907c52f",
   "metadata": {},
   "outputs": [
    {
     "data": {
      "text/plain": [
       "array([0.4, 0.6])"
      ]
     },
     "execution_count": 99,
     "metadata": {},
     "output_type": "execute_result"
    }
   ],
   "source": [
    "sum_binned_weights"
   ]
  },
  {
   "cell_type": "code",
   "execution_count": 100,
   "id": "08382002",
   "metadata": {},
   "outputs": [
    {
     "data": {
      "text/plain": [
       "array([0.1, 0.2])"
      ]
     },
     "execution_count": 100,
     "metadata": {},
     "output_type": "execute_result"
    }
   ],
   "source": [
    "sumsq_binned_weights"
   ]
  },
  {
   "cell_type": "code",
   "execution_count": 107,
   "id": "be653f16",
   "metadata": {},
   "outputs": [
    {
     "data": {
      "text/plain": [
       "(array([0, 1], dtype=int64),)"
      ]
     },
     "execution_count": 107,
     "metadata": {},
     "output_type": "execute_result"
    }
   ],
   "source": [
    "dr = np.array([1, 2, 3])\n",
    "np.where(dr<3)"
   ]
  },
  {
   "cell_type": "code",
   "execution_count": null,
   "id": "463977a1",
   "metadata": {},
   "outputs": [],
   "source": []
  }
 ],
 "metadata": {
  "kernelspec": {
   "display_name": "Python 3 (ipykernel)",
   "language": "python",
   "name": "python3"
  },
  "language_info": {
   "codemirror_mode": {
    "name": "ipython",
    "version": 3
   },
   "file_extension": ".py",
   "mimetype": "text/x-python",
   "name": "python",
   "nbconvert_exporter": "python",
   "pygments_lexer": "ipython3",
   "version": "3.7.11"
  }
 },
 "nbformat": 4,
 "nbformat_minor": 5
}
