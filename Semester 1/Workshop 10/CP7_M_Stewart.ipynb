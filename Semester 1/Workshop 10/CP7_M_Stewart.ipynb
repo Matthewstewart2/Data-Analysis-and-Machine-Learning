{
 "cells": [
  {
   "cell_type": "markdown",
   "id": "058cabf7",
   "metadata": {},
   "source": [
    "## CP7: Systematic Errors"
   ]
  },
  {
   "cell_type": "code",
   "execution_count": 78,
   "id": "785ccb72",
   "metadata": {},
   "outputs": [],
   "source": [
    "# imports\n",
    "import numpy as np\n",
    "import matplotlib.pyplot as plt\n",
    "from iminuit import Minuit\n",
    "from scipy.integrate import quad\n",
    "import math"
   ]
  },
  {
   "cell_type": "code",
   "execution_count": 79,
   "id": "81b66bc2",
   "metadata": {},
   "outputs": [],
   "source": [
    "# load in data from first file\n",
    "m = np.loadtxt('datafile-expresonance.txt')\n",
    "# set min and max range of mass samples taken given in notes\n",
    "mmin = 0.\n",
    "mmax = 10."
   ]
  },
  {
   "cell_type": "code",
   "execution_count": 80,
   "id": "7341cdb2",
   "metadata": {},
   "outputs": [
    {
     "data": {
      "image/png": "[encoded data removed]",
      "text/plain": [
       "<Figure size 576x432 with 1 Axes>"
      ]
     },
     "metadata": {
      "needs_background": "light"
     },
     "output_type": "display_data"
    }
   ],
   "source": [
    "# plot histogram of data\n",
    "plt.figure(figsize=(8,6))\n",
    "plt.hist(m , bins=100, color='orange')\n",
    "plt.xlabel('m')\n",
    "plt.show()"
   ]
  },
  {
   "cell_type": "markdown",
   "id": "14741f44",
   "metadata": {},
   "source": [
    "Histogram looks as expected, an exponential background with a small peak centred on a mass of ~2.5 and masses are indeed in range 0 to 10"
   ]
  },
  {
   "cell_type": "markdown",
   "id": "0dfbb282",
   "metadata": {},
   "source": [
    "# Part 1"
   ]
  },
  {
   "cell_type": "code",
   "execution_count": 81,
   "id": "3865c428",
   "metadata": {},
   "outputs": [],
   "source": [
    "def func_full(m, lifetime, mean, F):\n",
    "    # evaluates sum of normalsied exponential background and Gaussian signal for a given background 'lifetime',\n",
    "    # signal mean and background fraction F\n",
    "    \n",
    "    gaussian = np.exp(-0.5 * ((m - mean)/sigma)**2)\n",
    "    # fixing sigma to a small enough value such as 0.2 means it tails off to zero well within the range of interest\n",
    "    # so we can safely approximate our normalisation to the normalisation between +/- infinity\n",
    "    gaussian_norm = sigma*np.sqrt(2*np.pi)\n",
    "    gaussian = gaussian / gaussian_norm\n",
    "    \n",
    "    # exponential normalised analytically given mass range defined earlier, equally could do numerical integration with quad\n",
    "    expon = np.exp(-m/lifetime)\n",
    "    expon_norm = lifetime * (np.exp(-mmin/lifetime) - np.exp(-mmax/lifetime))\n",
    "    expon = expon / expon_norm\n",
    "    \n",
    "    # expecting F between 0 and 1 means summing like this preserves normalisation after summing\n",
    "    return (1-F)*gaussian + F*expon "
   ]
  },
  {
   "cell_type": "code",
   "execution_count": 82,
   "id": "85bff4b5",
   "metadata": {},
   "outputs": [],
   "source": [
    "def nll_full(lifetime, mean, F):\n",
    "    # nll (negative log likelihood) for exponential background and Gaussian signal model for fit parameters\n",
    "    # background 'lifetime', gaussian mean and background fraction F\n",
    "    pdf = func_full(m, lifetime, mean, F)\n",
    "    nll = -1 * np.sum(np.log(pdf))\n",
    "    return nll"
   ]
  },
  {
   "cell_type": "code",
   "execution_count": 83,
   "id": "91d86c47",
   "metadata": {},
   "outputs": [
    {
     "data": {
      "text/html": [
       "<table>\n",
       "    <tr>\n",
       "        <th colspan=\"5\" style=\"text-align:center\" title=\"Minimizer\"> Migrad </th>\n",
       "    </tr>\n",
       "    <tr>\n",
       "        <td colspan=\"2\" style=\"text-align:left\" title=\"Minimum value of function\"> FCN = 2.146e+05 </td>\n",
       "        <td colspan=\"3\" style=\"text-align:center\" title=\"No. of function evaluations in last call and total number\"> Nfcn = 103 </td>\n",
       "    </tr>\n",
       "    <tr>\n",
       "        <td colspan=\"2\" style=\"text-align:left\" title=\"Estimated distance to minimum and goal\"> EDM = 1.31e-06 (Goal: 0.0001) </td>\n",
       "        <td colspan=\"3\" style=\"text-align:center\" title=\"No. of gradient evaluations in last call and total number\">  </td>\n",
       "    </tr>\n",
       "    <tr>\n",
       "        <td colspan=\"2\" style=\"text-align:center;background-color:#92CCA6;color:black\"> Valid Minimum </td>\n",
       "        <td colspan=\"3\" style=\"text-align:center;background-color:#92CCA6;color:black\"> No Parameters at limit </td>\n",
       "    </tr>\n",
       "    <tr>\n",
       "        <td colspan=\"2\" style=\"text-align:center;background-color:#92CCA6;color:black\"> Below EDM threshold (goal x 10) </td>\n",
       "        <td colspan=\"3\" style=\"text-align:center;background-color:#92CCA6;color:black\"> Below call limit </td>\n",
       "    </tr>\n",
       "    <tr>\n",
       "        <td style=\"text-align:center;background-color:#92CCA6;color:black\"> Covariance </td>\n",
       "        <td style=\"text-align:center;background-color:#92CCA6;color:black\"> Hesse ok </td>\n",
       "        <td style=\"text-align:center;background-color:#92CCA6;color:black\" title=\"Is covariance matrix accurate?\"> Accurate </td>\n",
       "        <td style=\"text-align:center;background-color:#92CCA6;color:black\" title=\"Is covariance matrix positive definite?\"> Pos. def. </td>\n",
       "        <td style=\"text-align:center;background-color:#92CCA6;color:black\" title=\"Was positive definiteness enforced by Minuit?\"> Not forced </td>\n",
       "    </tr>\n",
       "</table><table>\n",
       "    <tr>\n",
       "        <td></td>\n",
       "        <th title=\"Variable name\"> Name </th>\n",
       "        <th title=\"Value of parameter\"> Value </th>\n",
       "        <th title=\"Hesse error\"> Hesse Error </th>\n",
       "        <th title=\"Minos lower error\"> Minos Error- </th>\n",
       "        <th title=\"Minos upper error\"> Minos Error+ </th>\n",
       "        <th title=\"Lower limit of the parameter\"> Limit- </th>\n",
       "        <th title=\"Upper limit of the parameter\"> Limit+ </th>\n",
       "        <th title=\"Is the parameter fixed in the fit\"> Fixed </th>\n",
       "    </tr>\n",
       "    <tr>\n",
       "        <th> 0 </th>\n",
       "        <td> lifetime </td>\n",
       "        <td> 5.008 </td>\n",
       "        <td> 0.031 </td>\n",
       "        <td>  </td>\n",
       "        <td>  </td>\n",
       "        <td>  </td>\n",
       "        <td>  </td>\n",
       "        <td>  </td>\n",
       "    </tr>\n",
       "    <tr>\n",
       "        <th> 1 </th>\n",
       "        <td> mean </td>\n",
       "        <td> 2.499 </td>\n",
       "        <td> 0.015 </td>\n",
       "        <td>  </td>\n",
       "        <td>  </td>\n",
       "        <td>  </td>\n",
       "        <td>  </td>\n",
       "        <td>  </td>\n",
       "    </tr>\n",
       "    <tr>\n",
       "        <th> 2 </th>\n",
       "        <td> F </td>\n",
       "        <td> 0.9796 </td>\n",
       "        <td> 0.0012 </td>\n",
       "        <td>  </td>\n",
       "        <td>  </td>\n",
       "        <td>  </td>\n",
       "        <td>  </td>\n",
       "        <td>  </td>\n",
       "    </tr>\n",
       "</table><table>\n",
       "    <tr>\n",
       "        <td></td>\n",
       "        <th> lifetime </th>\n",
       "        <th> mean </th>\n",
       "        <th> F </th>\n",
       "    </tr>\n",
       "    <tr>\n",
       "        <th> lifetime </th>\n",
       "        <td> 0.000945 </td>\n",
       "        <td style=\"background-color:rgb(245,245,250);color:black\"> -1.7e-05 <strong>(-0.038)</strong> </td>\n",
       "        <td style=\"background-color:rgb(235,235,250);color:black\"> -4.01e-06 <strong>(-0.113)</strong> </td>\n",
       "    </tr>\n",
       "    <tr>\n",
       "        <th> mean </th>\n",
       "        <td style=\"background-color:rgb(245,245,250);color:black\"> -1.7e-05 <strong>(-0.038)</strong> </td>\n",
       "        <td> 0.000212 </td>\n",
       "        <td style=\"background-color:rgb(250,244,244);color:black\"> 6.99e-07 <strong>(0.042)</strong> </td>\n",
       "    </tr>\n",
       "    <tr>\n",
       "        <th> F </th>\n",
       "        <td style=\"background-color:rgb(235,235,250);color:black\"> -4.01e-06 <strong>(-0.113)</strong> </td>\n",
       "        <td style=\"background-color:rgb(250,244,244);color:black\"> 6.99e-07 <strong>(0.042)</strong> </td>\n",
       "        <td> 1.33e-06 </td>\n",
       "    </tr>\n",
       "</table>"
      ],
      "text/plain": [
       "┌─────────────────────────────────────────────────────────────────────────┐\n",
       "│                                Migrad                                   │\n",
       "├──────────────────────────────────┬──────────────────────────────────────┤\n",
       "│ FCN = 2.146e+05                  │              Nfcn = 103              │\n",
       "│ EDM = 1.31e-06 (Goal: 0.0001)    │                                      │\n",
       "├──────────────────────────────────┼──────────────────────────────────────┤\n",
       "│          Valid Minimum           │        No Parameters at limit        │\n",
       "├──────────────────────────────────┼──────────────────────────────────────┤\n",
       "│ Below EDM threshold (goal x 10)  │           Below call limit           │\n",
       "├───────────────┬──────────────────┼───────────┬─────────────┬────────────┤\n",
       "│  Covariance   │     Hesse ok     │ Accurate  │  Pos. def.  │ Not forced │\n",
       "└───────────────┴──────────────────┴───────────┴─────────────┴────────────┘\n",
       "┌───┬──────────┬───────────┬───────────┬────────────┬────────────┬─────────┬─────────┬───────┐\n",
       "│   │ Name     │   Value   │ Hesse Err │ Minos Err- │ Minos Err+ │ Limit-  │ Limit+  │ Fixed │\n",
       "├───┼──────────┼───────────┼───────────┼────────────┼────────────┼─────────┼─────────┼───────┤\n",
       "│ 0 │ lifetime │   5.008   │   0.031   │            │            │         │         │       │\n",
       "│ 1 │ mean     │   2.499   │   0.015   │            │            │         │         │       │\n",
       "│ 2 │ F        │  0.9796   │  0.0012   │            │            │         │         │       │\n",
       "└───┴──────────┴───────────┴───────────┴────────────┴────────────┴─────────┴─────────┴───────┘\n",
       "┌──────────┬───────────────────────────────┐\n",
       "│          │  lifetime      mean         F │\n",
       "├──────────┼───────────────────────────────┤\n",
       "│ lifetime │  0.000945  -1.7e-05 -4.01e-06 │\n",
       "│     mean │  -1.7e-05  0.000212  6.99e-07 │\n",
       "│        F │ -4.01e-06  6.99e-07  1.33e-06 │\n",
       "└──────────┴───────────────────────────────┘"
      ]
     },
     "execution_count": 83,
     "metadata": {},
     "output_type": "execute_result"
    }
   ],
   "source": [
    "# fix sigma to 0.2 as recommended in notes\n",
    "sigma = 0.2\n",
    "# fit Minuit, with initial guesses for background lifetime, signal mean and background fraction F\n",
    "fit1 = Minuit(nll_full, lifetime=4., mean=3., F=0.9)\n",
    "# definition of error for nll given in notes\n",
    "fit1.errordef = 0.5\n",
    "fit1.migrad()"
   ]
  },
  {
   "cell_type": "markdown",
   "id": "dd55a217",
   "metadata": {},
   "source": [
    "All green so fit was successful. For one particular fit, parameter best estimates were:\n",
    "\n",
    "- lifetime (called 'A' in notes) $= 5.008\\pm0.031$\n",
    "- mean (called 'M' in notes) $= 2.499\\pm0.015$\n",
    "- signal fraction F $= 0.09796\\pm0.0012$\n",
    "\n",
    "Errors are quoted to maximum two significant figures and best estimage is quoted to same number of decimal places. "
   ]
  },
  {
   "cell_type": "code",
   "execution_count": 84,
   "id": "c5680243",
   "metadata": {},
   "outputs": [],
   "source": [
    "# get parameter best estimates\n",
    "lifetime_fit1 = fit1.values[\"lifetime\"]\n",
    "mean_fit1 = fit1.values[\"mean\"]\n",
    "F_fit1 = fit1.values[\"F\"]"
   ]
  },
  {
   "cell_type": "code",
   "execution_count": 85,
   "id": "788bb550",
   "metadata": {},
   "outputs": [
    {
     "data": {
      "image/png": "[encoded data removed]",
      "text/plain": [
       "<Figure size 576x432 with 1 Axes>"
      ]
     },
     "metadata": {
      "needs_background": "light"
     },
     "output_type": "display_data"
    }
   ],
   "source": [
    "# plot histogram to inspect fit\n",
    "plt.figure(figsize=(8,6))\n",
    "# get xs which are the values of the bin centres\n",
    "counts, bin_edges, _ = plt.hist(m, bins=100, color='orange', density=True, label='data')\n",
    "tot_bin_edges = np.array(bin_edges)\n",
    "half_bin_width = (tot_bin_edges[1] - tot_bin_edges[0]) / 2.\n",
    "xs = (tot_bin_edges + half_bin_width)[:-1]\n",
    "# plot the pdf given parameter best estimates on top of histogram\n",
    "plt.plot(xs, func_full(xs, lifetime_fit1, mean_fit1, F_fit1), label='exponential bgd fit')\n",
    "plt.ylabel('probability density')\n",
    "plt.xlabel('m')\n",
    "plt.legend(loc='best')\n",
    "plt.show()"
   ]
  },
  {
   "cell_type": "markdown",
   "id": "468a8d9a",
   "metadata": {},
   "source": [
    "Fit looks good as expected for assumed best model"
   ]
  },
  {
   "cell_type": "markdown",
   "id": "fde862aa",
   "metadata": {},
   "source": [
    "# Part 2"
   ]
  },
  {
   "cell_type": "code",
   "execution_count": 86,
   "id": "72b0d52d",
   "metadata": {},
   "outputs": [],
   "source": [
    "def poly_bgd_func(m, b, c, mean, F):\n",
    "    # evaluates sum of normalsied 2nd degree polynomial background and Gaussian signal given b and c polynomial coefficients\n",
    "\n",
    "    gaussian = np.exp(-0.5 * ((m - mean)/sigma)**2)\n",
    "    # fixing sigma to a small enough value such as 0.2 means it tails off to zero well within the range of interest\n",
    "    # so we can safely approximate our normalisation to the normalisation between +/- infinity\n",
    "    gaussian_norm = sigma*np.sqrt(2*np.pi)\n",
    "    gaussian = gaussian / gaussian_norm\n",
    "    \n",
    "    # polynomial background normalised analytically\n",
    "    # 'a' is set to one later as recommended in notes\n",
    "    poly = a + b*m + c*m**2\n",
    "    poly_norm = a*mmax + (b/2)*mmax**2 + (c/3)*mmax**3 - (a*mmin + (b/2)*mmin**2 + (c/3)*mmin**3)\n",
    "    poly = poly / poly_norm\n",
    "    # at high mass end, correct any negative predictions to a small positive value to prevent negative encountered in nll\n",
    "    for i in range(len(poly)):\n",
    "        if poly[i] < 0:\n",
    "            poly[i] = 1e-9\n",
    "    # expecting F between 0 and 1 means summing like this preserves normalisation after summing\n",
    "    return (1-F)*gaussian + F*poly"
   ]
  },
  {
   "cell_type": "code",
   "execution_count": 87,
   "id": "73e8da20",
   "metadata": {},
   "outputs": [],
   "source": [
    "def nll_poly(b, c, mean, F):\n",
    "    # nll for polynomial background and Gaussian signal model for fit parameters background b & c, gaussian mean and background fraction F\n",
    "    pdf = poly_bgd_func(m, b, c, mean, F)\n",
    "    nll = -1 * np.sum(np.log(pdf))\n",
    "    return nll"
   ]
  },
  {
   "cell_type": "code",
   "execution_count": 88,
   "id": "76e29906",
   "metadata": {},
   "outputs": [
    {
     "data": {
      "text/html": [
       "<table>\n",
       "    <tr>\n",
       "        <th colspan=\"5\" style=\"text-align:center\" title=\"Minimizer\"> Migrad </th>\n",
       "    </tr>\n",
       "    <tr>\n",
       "        <td colspan=\"2\" style=\"text-align:left\" title=\"Minimum value of function\"> FCN = 2.146e+05 </td>\n",
       "        <td colspan=\"3\" style=\"text-align:center\" title=\"No. of function evaluations in last call and total number\"> Nfcn = 184 </td>\n",
       "    </tr>\n",
       "    <tr>\n",
       "        <td colspan=\"2\" style=\"text-align:left\" title=\"Estimated distance to minimum and goal\"> EDM = 7.83e-06 (Goal: 0.0001) </td>\n",
       "        <td colspan=\"3\" style=\"text-align:center\" title=\"No. of gradient evaluations in last call and total number\">  </td>\n",
       "    </tr>\n",
       "    <tr>\n",
       "        <td colspan=\"2\" style=\"text-align:center;background-color:#92CCA6;color:black\"> Valid Minimum </td>\n",
       "        <td colspan=\"3\" style=\"text-align:center;background-color:#92CCA6;color:black\"> No Parameters at limit </td>\n",
       "    </tr>\n",
       "    <tr>\n",
       "        <td colspan=\"2\" style=\"text-align:center;background-color:#92CCA6;color:black\"> Below EDM threshold (goal x 10) </td>\n",
       "        <td colspan=\"3\" style=\"text-align:center;background-color:#92CCA6;color:black\"> Below call limit </td>\n",
       "    </tr>\n",
       "    <tr>\n",
       "        <td style=\"text-align:center;background-color:#92CCA6;color:black\"> Covariance </td>\n",
       "        <td style=\"text-align:center;background-color:#92CCA6;color:black\"> Hesse ok </td>\n",
       "        <td style=\"text-align:center;background-color:#92CCA6;color:black\" title=\"Is covariance matrix accurate?\"> Accurate </td>\n",
       "        <td style=\"text-align:center;background-color:#92CCA6;color:black\" title=\"Is covariance matrix positive definite?\"> Pos. def. </td>\n",
       "        <td style=\"text-align:center;background-color:#92CCA6;color:black\" title=\"Was positive definiteness enforced by Minuit?\"> Not forced </td>\n",
       "    </tr>\n",
       "</table><table>\n",
       "    <tr>\n",
       "        <td></td>\n",
       "        <th title=\"Variable name\"> Name </th>\n",
       "        <th title=\"Value of parameter\"> Value </th>\n",
       "        <th title=\"Hesse error\"> Hesse Error </th>\n",
       "        <th title=\"Minos lower error\"> Minos Error- </th>\n",
       "        <th title=\"Minos upper error\"> Minos Error+ </th>\n",
       "        <th title=\"Lower limit of the parameter\"> Limit- </th>\n",
       "        <th title=\"Upper limit of the parameter\"> Limit+ </th>\n",
       "        <th title=\"Is the parameter fixed in the fit\"> Fixed </th>\n",
       "    </tr>\n",
       "    <tr>\n",
       "        <th> 0 </th>\n",
       "        <td> b </td>\n",
       "        <td> -0.1578 </td>\n",
       "        <td> 0.0011 </td>\n",
       "        <td>  </td>\n",
       "        <td>  </td>\n",
       "        <td>  </td>\n",
       "        <td>  </td>\n",
       "        <td>  </td>\n",
       "    </tr>\n",
       "    <tr>\n",
       "        <th> 1 </th>\n",
       "        <td> c </td>\n",
       "        <td> 7.30e-3 </td>\n",
       "        <td> 0.12e-3 </td>\n",
       "        <td>  </td>\n",
       "        <td>  </td>\n",
       "        <td>  </td>\n",
       "        <td>  </td>\n",
       "        <td>  </td>\n",
       "    </tr>\n",
       "    <tr>\n",
       "        <th> 2 </th>\n",
       "        <td> mean </td>\n",
       "        <td> 2.494 </td>\n",
       "        <td> 0.016 </td>\n",
       "        <td>  </td>\n",
       "        <td>  </td>\n",
       "        <td>  </td>\n",
       "        <td>  </td>\n",
       "        <td>  </td>\n",
       "    </tr>\n",
       "    <tr>\n",
       "        <th> 3 </th>\n",
       "        <td> F </td>\n",
       "        <td> 0.9820 </td>\n",
       "        <td> 0.0012 </td>\n",
       "        <td>  </td>\n",
       "        <td>  </td>\n",
       "        <td>  </td>\n",
       "        <td>  </td>\n",
       "        <td>  </td>\n",
       "    </tr>\n",
       "</table><table>\n",
       "    <tr>\n",
       "        <td></td>\n",
       "        <th> b </th>\n",
       "        <th> c </th>\n",
       "        <th> mean </th>\n",
       "        <th> F </th>\n",
       "    </tr>\n",
       "    <tr>\n",
       "        <th> b </th>\n",
       "        <td> 1.14e-06 </td>\n",
       "        <td style=\"background-color:rgb(123,123,250);color:black\"> -1.23e-07 <strong>(-0.978)</strong> </td>\n",
       "        <td style=\"background-color:rgb(246,246,250);color:black\"> -5.72e-07 <strong>(-0.034)</strong> </td>\n",
       "        <td style=\"background-color:rgb(246,246,250);color:black\"> -3.44e-08 <strong>(-0.028)</strong> </td>\n",
       "    </tr>\n",
       "    <tr>\n",
       "        <th> c </th>\n",
       "        <td style=\"background-color:rgb(123,123,250);color:black\"> -1.23e-07 <strong>(-0.978)</strong> </td>\n",
       "        <td> 1.4e-08 </td>\n",
       "        <td style=\"background-color:rgb(250,245,245);color:black\"> 5.73e-08 <strong>(0.031)</strong> </td>\n",
       "        <td style=\"background-color:rgb(249,249,250);color:black\"> -6.65e-10 <strong>(-0.005)</strong> </td>\n",
       "    </tr>\n",
       "    <tr>\n",
       "        <th> mean </th>\n",
       "        <td style=\"background-color:rgb(246,246,250);color:black\"> -5.72e-07 <strong>(-0.034)</strong> </td>\n",
       "        <td style=\"background-color:rgb(250,245,245);color:black\"> 5.73e-08 <strong>(0.031)</strong> </td>\n",
       "        <td> 0.000244 </td>\n",
       "        <td style=\"background-color:rgb(250,244,244);color:black\"> 7.02e-07 <strong>(0.039)</strong> </td>\n",
       "    </tr>\n",
       "    <tr>\n",
       "        <th> F </th>\n",
       "        <td style=\"background-color:rgb(246,246,250);color:black\"> -3.44e-08 <strong>(-0.028)</strong> </td>\n",
       "        <td style=\"background-color:rgb(249,249,250);color:black\"> -6.65e-10 <strong>(-0.005)</strong> </td>\n",
       "        <td style=\"background-color:rgb(250,244,244);color:black\"> 7.02e-07 <strong>(0.039)</strong> </td>\n",
       "        <td> 1.35e-06 </td>\n",
       "    </tr>\n",
       "</table>"
      ],
      "text/plain": [
       "┌─────────────────────────────────────────────────────────────────────────┐\n",
       "│                                Migrad                                   │\n",
       "├──────────────────────────────────┬──────────────────────────────────────┤\n",
       "│ FCN = 2.146e+05                  │              Nfcn = 184              │\n",
       "│ EDM = 7.83e-06 (Goal: 0.0001)    │                                      │\n",
       "├──────────────────────────────────┼──────────────────────────────────────┤\n",
       "│          Valid Minimum           │        No Parameters at limit        │\n",
       "├──────────────────────────────────┼──────────────────────────────────────┤\n",
       "│ Below EDM threshold (goal x 10)  │           Below call limit           │\n",
       "├───────────────┬──────────────────┼───────────┬─────────────┬────────────┤\n",
       "│  Covariance   │     Hesse ok     │ Accurate  │  Pos. def.  │ Not forced │\n",
       "└───────────────┴──────────────────┴───────────┴─────────────┴────────────┘\n",
       "┌───┬──────┬───────────┬───────────┬────────────┬────────────┬─────────┬─────────┬───────┐\n",
       "│   │ Name │   Value   │ Hesse Err │ Minos Err- │ Minos Err+ │ Limit-  │ Limit+  │ Fixed │\n",
       "├───┼──────┼───────────┼───────────┼────────────┼────────────┼─────────┼─────────┼───────┤\n",
       "│ 0 │ b    │  -0.1578  │  0.0011   │            │            │         │         │       │\n",
       "│ 1 │ c    │  7.30e-3  │  0.12e-3  │            │            │         │         │       │\n",
       "│ 2 │ mean │   2.494   │   0.016   │            │            │         │         │       │\n",
       "│ 3 │ F    │  0.9820   │  0.0012   │            │            │         │         │       │\n",
       "└───┴──────┴───────────┴───────────┴────────────┴────────────┴─────────┴─────────┴───────┘\n",
       "┌──────┬─────────────────────────────────────────┐\n",
       "│      │         b         c      mean         F │\n",
       "├──────┼─────────────────────────────────────────┤\n",
       "│    b │  1.14e-06 -1.23e-07 -5.72e-07 -3.44e-08 │\n",
       "│    c │ -1.23e-07   1.4e-08  5.73e-08 -6.65e-10 │\n",
       "│ mean │ -5.72e-07  5.73e-08  0.000244  7.02e-07 │\n",
       "│    F │ -3.44e-08 -6.65e-10  7.02e-07  1.35e-06 │\n",
       "└──────┴─────────────────────────────────────────┘"
      ]
     },
     "execution_count": 88,
     "metadata": {},
     "output_type": "execute_result"
    }
   ],
   "source": [
    "# set polynomial 'a' to one as recommended in notes\n",
    "a = 1.\n",
    "fit2 = Minuit(nll_poly, b=-0.016, c=0.007, mean=3., F=0.9)\n",
    "fit2.errordef = 0.5\n",
    "fit2.migrad()"
   ]
  },
  {
   "cell_type": "markdown",
   "id": "835bf83b",
   "metadata": {},
   "source": [
    "All green so fit was successful."
   ]
  },
  {
   "cell_type": "code",
   "execution_count": 89,
   "id": "cd2cf54d",
   "metadata": {},
   "outputs": [],
   "source": [
    "# best estimates\n",
    "b_fit2 = fit2.values[\"b\"]\n",
    "c_fit2 = fit2.values[\"c\"]\n",
    "mean_fit2 = fit2.values[\"mean\"]\n",
    "F_fit2 = fit2.values[\"F\"]"
   ]
  },
  {
   "cell_type": "code",
   "execution_count": 90,
   "id": "8c68d313",
   "metadata": {},
   "outputs": [
    {
     "data": {
      "image/png": "[encoded data removed]",
      "text/plain": [
       "<Figure size 576x432 with 1 Axes>"
      ]
     },
     "metadata": {
      "needs_background": "light"
     },
     "output_type": "display_data"
    }
   ],
   "source": [
    "# plot histogram to inspect fit\n",
    "plt.figure(figsize=(8,6))\n",
    "counts, bin_edges, _ = plt.hist(m, bins=100, color='orange', density=True, label='data')\n",
    "tot_bin_edges = np.array(bin_edges)\n",
    "half_bin_width = (tot_bin_edges[1] - tot_bin_edges[0]) / 2.\n",
    "xs = (tot_bin_edges + half_bin_width)[:-1]\n",
    "plt.plot(xs, poly_bgd_func(xs, b_fit2, c_fit2, mean_fit2, F_fit2), label='polynomial bgd fit')\n",
    "plt.ylabel('probability density')\n",
    "plt.xlabel('m')\n",
    "plt.legend(loc='best')\n",
    "plt.show()"
   ]
  },
  {
   "cell_type": "markdown",
   "id": "c75e9a2b",
   "metadata": {},
   "source": [
    "Fit looks good"
   ]
  },
  {
   "cell_type": "code",
   "execution_count": 91,
   "id": "03bcb9df",
   "metadata": {},
   "outputs": [
    {
     "data": {
      "text/plain": [
       "0.0042"
      ]
     },
     "execution_count": 91,
     "metadata": {},
     "output_type": "execute_result"
    }
   ],
   "source": [
    "# systematic error in Gaussian mean given by difference in estimate of both part 1 and part 2 fits called 'shift' method\n",
    "sys_error = abs(mean_fit2 - mean_fit1)\n",
    "# round value to 2 significant figures\n",
    "sys_error = round(sys_error, 2 - int(math.floor(math.log10(abs(sys_error)))) - 1)\n",
    "sys_error"
   ]
  },
  {
   "cell_type": "markdown",
   "id": "06c3844e",
   "metadata": {},
   "source": [
    "For primary best estimate for Gaussian mean found in part 1:\n",
    "\n",
    "$Value\\pm E_{stat}\\pm E_{syst}$\n",
    "- M $= 5.008\\pm 0.031\\pm 0.004$\n",
    "\n",
    "$Value\\pm E_{tot}$ given by adding statistical and sytematic errors in quadrature.\n",
    "- M $= 5.008\\pm 0.031$\n",
    "\n",
    "Polynomial background fit is a close enough model to the original that the systematic error in the Gaussian mean is insignificant in comparison to the statisitcal error. If we assume these two are the only possibilities for modeling the background, we claim the systematic error in the signal mean is unimportant and could be discarded."
   ]
  },
  {
   "cell_type": "markdown",
   "id": "90437a3e",
   "metadata": {},
   "source": [
    "# Part 3"
   ]
  },
  {
   "cell_type": "code",
   "execution_count": 92,
   "id": "867625c3",
   "metadata": {},
   "outputs": [],
   "source": [
    "def lin_bgd_func(m, b, mean, F):\n",
    "    # evaluates sum of normalsied linear background and Gaussian signal\n",
    "    \n",
    "    gaussian = np.exp(-0.5 * ((m - mean)/sigma)**2)\n",
    "    gaussian_norm = sigma*np.sqrt(2*np.pi)\n",
    "    gaussian = gaussian / gaussian_norm\n",
    "    \n",
    "    # linear background normalised analytically\n",
    "    linear = a + b*m\n",
    "    linear_norm = a*mmax + (b/2)*mmax**2 - (a*mmin + (b/2)*mmin**2)\n",
    "    linear = linear / linear_norm\n",
    "    # at high mass end, correct any negative predictions to a small positive value to prevent negative encountered in nll\n",
    "    for i in range(len(linear)):\n",
    "        if linear[i] < 0:\n",
    "            linear[i] = 1e-9\n",
    "    # expecting F between 0 and 1 means summing like this preserves normalisation after summing\n",
    "    return (1-F)*gaussian + F*linear"
   ]
  },
  {
   "cell_type": "code",
   "execution_count": 93,
   "id": "b58a9656",
   "metadata": {},
   "outputs": [],
   "source": [
    "def nll_lin(b, mean, F):\n",
    "    # nll for linear background and Gaussian signal model for fit parameters linear gradient b, gaussian mean and background fraction F\n",
    "    pdf = lin_bgd_func(m, b, mean, F)\n",
    "    nll = -1 * np.sum(np.log(pdf))\n",
    "    return nll"
   ]
  },
  {
   "cell_type": "code",
   "execution_count": 94,
   "id": "e2d454db",
   "metadata": {},
   "outputs": [
    {
     "data": {
      "text/html": [
       "<table>\n",
       "    <tr>\n",
       "        <th colspan=\"5\" style=\"text-align:center\" title=\"Minimizer\"> Migrad </th>\n",
       "    </tr>\n",
       "    <tr>\n",
       "        <td colspan=\"2\" style=\"text-align:left\" title=\"Minimum value of function\"> FCN = 2.155e+05 </td>\n",
       "        <td colspan=\"3\" style=\"text-align:center\" title=\"No. of function evaluations in last call and total number\"> Nfcn = 93 </td>\n",
       "    </tr>\n",
       "    <tr>\n",
       "        <td colspan=\"2\" style=\"text-align:left\" title=\"Estimated distance to minimum and goal\"> EDM = 1.21e-06 (Goal: 0.0001) </td>\n",
       "        <td colspan=\"3\" style=\"text-align:center\" title=\"No. of gradient evaluations in last call and total number\">  </td>\n",
       "    </tr>\n",
       "    <tr>\n",
       "        <td colspan=\"2\" style=\"text-align:center;background-color:#92CCA6;color:black\"> Valid Minimum </td>\n",
       "        <td colspan=\"3\" style=\"text-align:center;background-color:#92CCA6;color:black\"> No Parameters at limit </td>\n",
       "    </tr>\n",
       "    <tr>\n",
       "        <td colspan=\"2\" style=\"text-align:center;background-color:#92CCA6;color:black\"> Below EDM threshold (goal x 10) </td>\n",
       "        <td colspan=\"3\" style=\"text-align:center;background-color:#92CCA6;color:black\"> Below call limit </td>\n",
       "    </tr>\n",
       "    <tr>\n",
       "        <td style=\"text-align:center;background-color:#92CCA6;color:black\"> Covariance </td>\n",
       "        <td style=\"text-align:center;background-color:#92CCA6;color:black\"> Hesse ok </td>\n",
       "        <td style=\"text-align:center;background-color:#92CCA6;color:black\" title=\"Is covariance matrix accurate?\"> Accurate </td>\n",
       "        <td style=\"text-align:center;background-color:#92CCA6;color:black\" title=\"Is covariance matrix positive definite?\"> Pos. def. </td>\n",
       "        <td style=\"text-align:center;background-color:#92CCA6;color:black\" title=\"Was positive definiteness enforced by Minuit?\"> Not forced </td>\n",
       "    </tr>\n",
       "</table><table>\n",
       "    <tr>\n",
       "        <td></td>\n",
       "        <th title=\"Variable name\"> Name </th>\n",
       "        <th title=\"Value of parameter\"> Value </th>\n",
       "        <th title=\"Hesse error\"> Hesse Error </th>\n",
       "        <th title=\"Minos lower error\"> Minos Error- </th>\n",
       "        <th title=\"Minos upper error\"> Minos Error+ </th>\n",
       "        <th title=\"Lower limit of the parameter\"> Limit- </th>\n",
       "        <th title=\"Upper limit of the parameter\"> Limit+ </th>\n",
       "        <th title=\"Is the parameter fixed in the fit\"> Fixed </th>\n",
       "    </tr>\n",
       "    <tr>\n",
       "        <th> 0 </th>\n",
       "        <td> b </td>\n",
       "        <td> -90.40e-3 </td>\n",
       "        <td> 0.22e-3 </td>\n",
       "        <td>  </td>\n",
       "        <td>  </td>\n",
       "        <td>  </td>\n",
       "        <td>  </td>\n",
       "        <td>  </td>\n",
       "    </tr>\n",
       "    <tr>\n",
       "        <th> 1 </th>\n",
       "        <td> mean </td>\n",
       "        <td> 2.465 </td>\n",
       "        <td> 0.015 </td>\n",
       "        <td>  </td>\n",
       "        <td>  </td>\n",
       "        <td>  </td>\n",
       "        <td>  </td>\n",
       "        <td>  </td>\n",
       "    </tr>\n",
       "    <tr>\n",
       "        <th> 2 </th>\n",
       "        <td> F </td>\n",
       "        <td> 0.9801 </td>\n",
       "        <td> 0.0012 </td>\n",
       "        <td>  </td>\n",
       "        <td>  </td>\n",
       "        <td>  </td>\n",
       "        <td>  </td>\n",
       "        <td>  </td>\n",
       "    </tr>\n",
       "</table><table>\n",
       "    <tr>\n",
       "        <td></td>\n",
       "        <th> b </th>\n",
       "        <th> mean </th>\n",
       "        <th> F </th>\n",
       "    </tr>\n",
       "    <tr>\n",
       "        <th> b </th>\n",
       "        <td> 4.97e-08 </td>\n",
       "        <td style=\"background-color:rgb(248,248,250);color:black\"> -5.1e-08 <strong>(-0.015)</strong> </td>\n",
       "        <td style=\"background-color:rgb(233,233,250);color:black\"> -3.36e-08 <strong>(-0.130)</strong> </td>\n",
       "    </tr>\n",
       "    <tr>\n",
       "        <th> mean </th>\n",
       "        <td style=\"background-color:rgb(248,248,250);color:black\"> -5.1e-08 <strong>(-0.015)</strong> </td>\n",
       "        <td> 0.000229 </td>\n",
       "        <td style=\"background-color:rgb(250,245,245);color:black\"> 6.02e-07 <strong>(0.034)</strong> </td>\n",
       "    </tr>\n",
       "    <tr>\n",
       "        <th> F </th>\n",
       "        <td style=\"background-color:rgb(233,233,250);color:black\"> -3.36e-08 <strong>(-0.130)</strong> </td>\n",
       "        <td style=\"background-color:rgb(250,245,245);color:black\"> 6.02e-07 <strong>(0.034)</strong> </td>\n",
       "        <td> 1.35e-06 </td>\n",
       "    </tr>\n",
       "</table>"
      ],
      "text/plain": [
       "┌─────────────────────────────────────────────────────────────────────────┐\n",
       "│                                Migrad                                   │\n",
       "├──────────────────────────────────┬──────────────────────────────────────┤\n",
       "│ FCN = 2.155e+05                  │              Nfcn = 93               │\n",
       "│ EDM = 1.21e-06 (Goal: 0.0001)    │                                      │\n",
       "├──────────────────────────────────┼──────────────────────────────────────┤\n",
       "│          Valid Minimum           │        No Parameters at limit        │\n",
       "├──────────────────────────────────┼──────────────────────────────────────┤\n",
       "│ Below EDM threshold (goal x 10)  │           Below call limit           │\n",
       "├───────────────┬──────────────────┼───────────┬─────────────┬────────────┤\n",
       "│  Covariance   │     Hesse ok     │ Accurate  │  Pos. def.  │ Not forced │\n",
       "└───────────────┴──────────────────┴───────────┴─────────────┴────────────┘\n",
       "┌───┬──────┬───────────┬───────────┬────────────┬────────────┬─────────┬─────────┬───────┐\n",
       "│   │ Name │   Value   │ Hesse Err │ Minos Err- │ Minos Err+ │ Limit-  │ Limit+  │ Fixed │\n",
       "├───┼──────┼───────────┼───────────┼────────────┼────────────┼─────────┼─────────┼───────┤\n",
       "│ 0 │ b    │ -90.40e-3 │  0.22e-3  │            │            │         │         │       │\n",
       "│ 1 │ mean │   2.465   │   0.015   │            │            │         │         │       │\n",
       "│ 2 │ F    │  0.9801   │  0.0012   │            │            │         │         │       │\n",
       "└───┴──────┴───────────┴───────────┴────────────┴────────────┴─────────┴─────────┴───────┘\n",
       "┌──────┬───────────────────────────────┐\n",
       "│      │         b      mean         F │\n",
       "├──────┼───────────────────────────────┤\n",
       "│    b │  4.97e-08  -5.1e-08 -3.36e-08 │\n",
       "│ mean │  -5.1e-08  0.000229  6.02e-07 │\n",
       "│    F │ -3.36e-08  6.02e-07  1.35e-06 │\n",
       "└──────┴───────────────────────────────┘"
      ]
     },
     "execution_count": 94,
     "metadata": {},
     "output_type": "execute_result"
    }
   ],
   "source": [
    "fit3 = Minuit(nll_lin, b=-0.09, mean=3., F=0.9)\n",
    "fit3.errordef = 0.5\n",
    "fit3.migrad()"
   ]
  },
  {
   "cell_type": "markdown",
   "id": "c63ff84d",
   "metadata": {},
   "source": [
    "All green so fit was successful."
   ]
  },
  {
   "cell_type": "code",
   "execution_count": 95,
   "id": "66be0983",
   "metadata": {},
   "outputs": [],
   "source": [
    "# best estimates\n",
    "b_fit3 = fit3.values[\"b\"]\n",
    "mean_fit3 = fit3.values[\"mean\"]\n",
    "F_fit3 = fit3.values[\"F\"]"
   ]
  },
  {
   "cell_type": "code",
   "execution_count": 96,
   "id": "84b44df5",
   "metadata": {},
   "outputs": [
    {
     "data": {
      "image/png": "[encoded data removed]",
      "text/plain": [
       "<Figure size 576x432 with 1 Axes>"
      ]
     },
     "metadata": {
      "needs_background": "light"
     },
     "output_type": "display_data"
    }
   ],
   "source": [
    "# plot histogram of second dataset\n",
    "plt.figure(figsize=(8,6))\n",
    "counts, bin_edges, _ = plt.hist(m, bins=100, color='orange', density=True, label='data')\n",
    "tot_bin_edges = np.array(bin_edges)\n",
    "half_bin_width = (tot_bin_edges[1] - tot_bin_edges[0]) / 2.\n",
    "xs = (tot_bin_edges + half_bin_width)[:-1]\n",
    "plt.plot(xs, lin_bgd_func(xs, b_fit3, mean_fit3, F_fit3), label='linear bgd fit')\n",
    "plt.ylabel('probability density')\n",
    "plt.xlabel('m')\n",
    "plt.legend(loc='best')\n",
    "plt.show()"
   ]
  },
  {
   "cell_type": "markdown",
   "id": "9aef01d5",
   "metadata": {},
   "source": [
    "Fit doesn't look great but this is expected for a linear background model so is acceptable."
   ]
  },
  {
   "cell_type": "code",
   "execution_count": 97,
   "id": "6b99bca3",
   "metadata": {},
   "outputs": [
    {
     "data": {
      "text/plain": [
       "array([2.49853324, 2.49429419, 2.46537811])"
      ]
     },
     "execution_count": 97,
     "metadata": {},
     "output_type": "execute_result"
    }
   ],
   "source": [
    "# array of all three best estimates for M\n",
    "mean_fits = np.array([mean_fit1, mean_fit2, mean_fit3])\n",
    "mean_fits"
   ]
  },
  {
   "cell_type": "code",
   "execution_count": 98,
   "id": "e83d64fc",
   "metadata": {},
   "outputs": [
    {
     "data": {
      "text/plain": [
       "0.033"
      ]
     },
     "execution_count": 98,
     "metadata": {},
     "output_type": "execute_result"
    }
   ],
   "source": [
    "# now considering all three background models, systematic error in M is greatest difference between pairs of best estimates\n",
    "sys_error = abs(np.max(mean_fits) - np.min(mean_fits))\n",
    "sys_error = round(sys_error, 2 - int(math.floor(math.log10(abs(sys_error)))) - 1)\n",
    "sys_error"
   ]
  },
  {
   "cell_type": "markdown",
   "id": "52c5347b",
   "metadata": {},
   "source": [
    "For primary best estimate for Gaussian mean found in part 1:\n",
    "\n",
    "$Value\\pm E_{stat}\\pm E_{syst}$\n",
    "- M $= 5.008\\pm 0.031\\pm 0.033$\n",
    "\n",
    "$Value\\pm E_{tot}$ given by adding statistical and systematic errors in quadrature\n",
    "- M $= 5.008\\pm 0.045$\n",
    "\n",
    "Linear background fit is a different enough model to the others that the systematic error in the Gaussian mean is comparable to the statistical error. If we believe that the linear background model is a real possibility as well as the other two models, the systematic error in the signal mean becomes important and cannot be discarded."
   ]
  }
 ],
 "metadata": {
  "kernelspec": {
   "display_name": "Python 3 (ipykernel)",
   "language": "python",
   "name": "python3"
  },
  "language_info": {
   "codemirror_mode": {
    "name": "ipython",
    "version": 3
   },
   "file_extension": ".py",
   "mimetype": "text/x-python",
   "name": "python",
   "nbconvert_exporter": "python",
   "pygments_lexer": "ipython3",
   "version": "3.7.11"
  }
 },
 "nbformat": 4,
 "nbformat_minor": 5
}
