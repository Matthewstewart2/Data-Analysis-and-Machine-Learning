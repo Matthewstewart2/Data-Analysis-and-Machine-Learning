{
 "cells": [
  {
   "cell_type": "markdown",
   "metadata": {},
   "source": [
    "# Checkpoint 1: Neural networks and deep learning\n",
    "---\n",
    "*Responsible:* Guillermo Hamity (<ghamity@ed.ac.uk>)\n",
    "\n",
    "In this checkpoint exercise, we will use neural networks to predict the **type** of weather *given* the available ground observations. You will be using observation data from **June 2019** across all UK Met Office weather stations.\n",
    "\n",
    "### Notes on the Dataset\n",
    "* You will be using weather observation data from the UK Met Office Datapoint service\n",
    "* Ground observations are made hourly at weather stations across the length of the UK \n",
    "* The data sample covers data from June 2019\n",
    "* Data collections for each day starts at 6.30pm. All observation data is listed in one day blocks\n",
    "* The time value column refers to the number of minutes after midnight \n",
    "* `Null` values for some features are expected (e.g. Wind Gust)\n",
    "* Data import and preparation is already provided \n",
    "\n",
    "\n",
    "This week, I am not providing example notebooks like `lecture2.ipynb` and `data-science-tools.ipynb` for Unit 2, though these may still be useful to you. Instead, I am **providing the imports for all of the modules and classes that you should need.** Think of these as LEGO blocks; you have the ones you need but may look up how to \"assemble\" them.\n",
    "\n",
    "### Notes on assessment\n",
    "* Try and calculate the answers to the exercises provided. If you are unable to complete the question, describe which approach you _would_ have taken to solve the problem\n",
    "* Code must be understandable and reproducible. Before grading the notebook kernel **may** be restarted and re-run, so make sure that your code can run from start to finish without any (unintentional) errors\n",
    "* If you are unsure on how to proceed please **ask one of the TAs** during the workshop\n",
    "- Notebooks should be submitted by **10am on Friday 9 October 2021** \n",
    "- This CP exercise sheet is divided into **6 sections**, corresponding to parts of the lecture, giving a maximum of **10 marks** in total:\n",
    "\n",
    "| <p align='left'> Title                         | <p align='left'> Exercise nos. | <p align='left'> Number of marks |\n",
    "| ------------------------------------- | ----- | --- |\n",
    "| <p align='left'> 1. Conceptual questions               | <p align='left'>  1–5  | <p align='left'> 2.5 |\n",
    "| <p align='left'> 2. Data preprocessing and RandomForest                | <p align='left'>  6–9  | <p align='left'> 2.5 |\n",
    "| <p align='left'> 3. Neural networks in `scikit-learn`  | <p align='left'>  10–11 | <p align='left'> 1.5 | \n",
    "| <p align='left'> 4. Neural networks in `Keras`         | <p align='left'> 12–13 | <p align='left'> 2 |\n",
    "| <p align='left'> 5. Regularisation                     | <p align='left'> 14–15 | <p align='left'> 1.5 |\n",
    "| <p align='left'> 6. Bonus: Hyperparameter optimisation | <p align='left'> 16 | <p align='left'> 1.0 (\\*bonus\\*) |\n",
    "| <p align='left'> **Total** | | <p align='left'> **10 + 1** |\n",
    "\n",
    "- The total number of marks allocated for this CP is 10,\n",
    "    - 1 additional mark can be given (maximimally up to 10 marks in total) for \"bonus\" exercise on hyperparameter optimisation. If you are pressed for time, focus on the first five sections; those are the core ones.\n",
    "    - Half marks may be deducted for code legibility (i.e. very difficult to tell what you are doing), or for badly formated plots (i.e. no legends, axis labels etc.). The TAs will use their discression for this so comment code when applicable and keep relevant information in your plots.\n",
    "\n",
    "_Note:_ You can suppress double-printing of plots from the `plot` module by either _(a)_ adding a semicolon after the function call (_i.e._ `plot.<method>(...);`), or _(b)_ by capturing the return `pyplot.Figure` object as a variable (_i.e._ `fig = plot.<method>(...)`)."
   ]
  },
  {
   "cell_type": "markdown",
   "metadata": {},
   "source": [
    "## Preamble"
   ]
  },
  {
   "cell_type": "code",
   "execution_count": 250,
   "metadata": {},
   "outputs": [],
   "source": [
    "# Standard import(s)\n",
    "import numpy as np\n",
    "import pandas as pd\n",
    "import random as rn\n",
    "import sklearn\n",
    "import tensorflow as tf\n",
    "import matplotlib.pyplot as plt\n",
    "import seaborn as sns\n",
    "import os\n",
    "%matplotlib inline\n",
    "\n",
    "# Suppress unnecessary ConvergenceWarnings and DeprecationWarnings\n",
    "import warnings\n",
    "from sklearn.exceptions import ConvergenceWarning\n",
    "warnings.filterwarnings(action='ignore', category=ConvergenceWarning)\n",
    "warnings.filterwarnings(action='ignore', category=DeprecationWarning)\n",
    "\n",
    "# Set a random seed variable to make workbook reproducible\n",
    "seed=5\n",
    "np.random.seed(seed)\n",
    "rn.seed(seed)\n",
    "os.environ['PYTHONHASHSEED']=str(seed)\n",
    "tf.compat.v1.set_random_seed(seed)\n",
    "\n",
    "# Switch off multi-threading for TensorFlow\n",
    "from tensorflow.python.keras import backend as K\n",
    "config = tf.compat.v1.ConfigProto(intra_op_parallelism_threads=1,\n",
    "                                  inter_op_parallelism_threads=1)\n",
    "sess = tf.compat.v1.Session(graph=tf.compat.v1.get_default_graph(), config=config)\n",
    "K.set_session(sess)"
   ]
  },
  {
   "cell_type": "code",
   "execution_count": 251,
   "metadata": {},
   "outputs": [
    {
     "data": {
      "text/html": [
       "<div>\n",
       "<style scoped>\n",
       "    .dataframe tbody tr th:only-of-type {\n",
       "        vertical-align: middle;\n",
       "    }\n",
       "\n",
       "    .dataframe tbody tr th {\n",
       "        vertical-align: top;\n",
       "    }\n",
       "\n",
       "    .dataframe thead th {\n",
       "        text-align: right;\n",
       "    }\n",
       "</style>\n",
       "<table border=\"1\" class=\"dataframe\">\n",
       "  <thead>\n",
       "    <tr style=\"text-align: right;\">\n",
       "      <th></th>\n",
       "      <th>StationID</th>\n",
       "      <th>StationName</th>\n",
       "      <th>Elevation</th>\n",
       "      <th>Latitude</th>\n",
       "      <th>Longitude</th>\n",
       "      <th>Date</th>\n",
       "      <th>Time</th>\n",
       "      <th>Gust</th>\n",
       "      <th>Temperature</th>\n",
       "      <th>Visibility</th>\n",
       "      <th>WindDirection</th>\n",
       "      <th>WindSpeed</th>\n",
       "      <th>Pressure</th>\n",
       "      <th>PressureTrend</th>\n",
       "      <th>DewPoint</th>\n",
       "      <th>Humidity</th>\n",
       "      <th>Type</th>\n",
       "    </tr>\n",
       "  </thead>\n",
       "  <tbody>\n",
       "    <tr>\n",
       "      <th>0</th>\n",
       "      <td>3002</td>\n",
       "      <td>BALTASOUND</td>\n",
       "      <td>15.0</td>\n",
       "      <td>60.749</td>\n",
       "      <td>-0.854</td>\n",
       "      <td>2018-05-31</td>\n",
       "      <td>1020</td>\n",
       "      <td>NaN</td>\n",
       "      <td>16.1</td>\n",
       "      <td>30000.0</td>\n",
       "      <td>E</td>\n",
       "      <td>8.0</td>\n",
       "      <td>1019.0</td>\n",
       "      <td>F</td>\n",
       "      <td>11.6</td>\n",
       "      <td>74.5</td>\n",
       "      <td>0</td>\n",
       "    </tr>\n",
       "    <tr>\n",
       "      <th>1</th>\n",
       "      <td>3002</td>\n",
       "      <td>BALTASOUND</td>\n",
       "      <td>15.0</td>\n",
       "      <td>60.749</td>\n",
       "      <td>-0.854</td>\n",
       "      <td>2018-05-31</td>\n",
       "      <td>1080</td>\n",
       "      <td>NaN</td>\n",
       "      <td>14.9</td>\n",
       "      <td>22000.0</td>\n",
       "      <td>E</td>\n",
       "      <td>8.0</td>\n",
       "      <td>1019.0</td>\n",
       "      <td>F</td>\n",
       "      <td>11.8</td>\n",
       "      <td>81.5</td>\n",
       "      <td>0</td>\n",
       "    </tr>\n",
       "    <tr>\n",
       "      <th>2</th>\n",
       "      <td>3002</td>\n",
       "      <td>BALTASOUND</td>\n",
       "      <td>15.0</td>\n",
       "      <td>60.749</td>\n",
       "      <td>-0.854</td>\n",
       "      <td>2018-05-31</td>\n",
       "      <td>1140</td>\n",
       "      <td>NaN</td>\n",
       "      <td>14.0</td>\n",
       "      <td>14000.0</td>\n",
       "      <td>E</td>\n",
       "      <td>6.0</td>\n",
       "      <td>1018.0</td>\n",
       "      <td>F</td>\n",
       "      <td>11.6</td>\n",
       "      <td>85.4</td>\n",
       "      <td>0</td>\n",
       "    </tr>\n",
       "    <tr>\n",
       "      <th>3</th>\n",
       "      <td>3002</td>\n",
       "      <td>BALTASOUND</td>\n",
       "      <td>15.0</td>\n",
       "      <td>60.749</td>\n",
       "      <td>-0.854</td>\n",
       "      <td>2018-05-31</td>\n",
       "      <td>1200</td>\n",
       "      <td>NaN</td>\n",
       "      <td>12.9</td>\n",
       "      <td>12000.0</td>\n",
       "      <td>ENE</td>\n",
       "      <td>2.0</td>\n",
       "      <td>1019.0</td>\n",
       "      <td>R</td>\n",
       "      <td>11.0</td>\n",
       "      <td>88.1</td>\n",
       "      <td>0</td>\n",
       "    </tr>\n",
       "    <tr>\n",
       "      <th>4</th>\n",
       "      <td>3002</td>\n",
       "      <td>BALTASOUND</td>\n",
       "      <td>15.0</td>\n",
       "      <td>60.749</td>\n",
       "      <td>-0.854</td>\n",
       "      <td>2018-05-31</td>\n",
       "      <td>1260</td>\n",
       "      <td>NaN</td>\n",
       "      <td>12.0</td>\n",
       "      <td>9000.0</td>\n",
       "      <td>E</td>\n",
       "      <td>2.0</td>\n",
       "      <td>1019.0</td>\n",
       "      <td>R</td>\n",
       "      <td>10.9</td>\n",
       "      <td>92.9</td>\n",
       "      <td>1</td>\n",
       "    </tr>\n",
       "  </tbody>\n",
       "</table>\n",
       "</div>"
      ],
      "text/plain": [
       "   StationID StationName  Elevation  Latitude  Longitude        Date  Time  \\\n",
       "0       3002  BALTASOUND       15.0    60.749     -0.854  2018-05-31  1020   \n",
       "1       3002  BALTASOUND       15.0    60.749     -0.854  2018-05-31  1080   \n",
       "2       3002  BALTASOUND       15.0    60.749     -0.854  2018-05-31  1140   \n",
       "3       3002  BALTASOUND       15.0    60.749     -0.854  2018-05-31  1200   \n",
       "4       3002  BALTASOUND       15.0    60.749     -0.854  2018-05-31  1260   \n",
       "\n",
       "   Gust  Temperature  Visibility WindDirection  WindSpeed  Pressure  \\\n",
       "0   NaN         16.1     30000.0             E        8.0    1019.0   \n",
       "1   NaN         14.9     22000.0             E        8.0    1019.0   \n",
       "2   NaN         14.0     14000.0             E        6.0    1018.0   \n",
       "3   NaN         12.9     12000.0           ENE        2.0    1019.0   \n",
       "4   NaN         12.0      9000.0             E        2.0    1019.0   \n",
       "\n",
       "  PressureTrend  DewPoint  Humidity  Type  \n",
       "0             F      11.6      74.5     0  \n",
       "1             F      11.8      81.5     0  \n",
       "2             F      11.6      85.4     0  \n",
       "3             R      11.0      88.1     0  \n",
       "4             R      10.9      92.9     1  "
      ]
     },
     "execution_count": 251,
     "metadata": {},
     "output_type": "execute_result"
    }
   ],
   "source": [
    "# Load in the prepared weather data\n",
    "obs = pd.read_csv('weather.csv')\n",
    "obs.head()"
   ]
  },
  {
   "cell_type": "code",
   "execution_count": 252,
   "metadata": {},
   "outputs": [
    {
     "data": {
      "text/plain": [
       "(106553, 17)"
      ]
     },
     "execution_count": 252,
     "metadata": {},
     "output_type": "execute_result"
    }
   ],
   "source": [
    "obs.shape"
   ]
  },
  {
   "cell_type": "code",
   "execution_count": 253,
   "metadata": {},
   "outputs": [
    {
     "data": {
      "text/html": [
       "<div>\n",
       "<style scoped>\n",
       "    .dataframe tbody tr th:only-of-type {\n",
       "        vertical-align: middle;\n",
       "    }\n",
       "\n",
       "    .dataframe tbody tr th {\n",
       "        vertical-align: top;\n",
       "    }\n",
       "\n",
       "    .dataframe thead th {\n",
       "        text-align: right;\n",
       "    }\n",
       "</style>\n",
       "<table border=\"1\" class=\"dataframe\">\n",
       "  <thead>\n",
       "    <tr style=\"text-align: right;\">\n",
       "      <th></th>\n",
       "      <th>StationID</th>\n",
       "      <th>Elevation</th>\n",
       "      <th>Latitude</th>\n",
       "      <th>Longitude</th>\n",
       "      <th>Time</th>\n",
       "      <th>Gust</th>\n",
       "      <th>Temperature</th>\n",
       "      <th>Visibility</th>\n",
       "      <th>WindSpeed</th>\n",
       "      <th>Pressure</th>\n",
       "      <th>DewPoint</th>\n",
       "      <th>Humidity</th>\n",
       "      <th>Type</th>\n",
       "    </tr>\n",
       "  </thead>\n",
       "  <tbody>\n",
       "    <tr>\n",
       "      <th>count</th>\n",
       "      <td>106553.000000</td>\n",
       "      <td>106553.000000</td>\n",
       "      <td>106553.000000</td>\n",
       "      <td>106553.000000</td>\n",
       "      <td>106553.000000</td>\n",
       "      <td>7703.000000</td>\n",
       "      <td>106442.000000</td>\n",
       "      <td>92662.000000</td>\n",
       "      <td>102060.000000</td>\n",
       "      <td>99530.000000</td>\n",
       "      <td>106402.000000</td>\n",
       "      <td>106397.000000</td>\n",
       "      <td>106553.00000</td>\n",
       "    </tr>\n",
       "    <tr>\n",
       "      <th>mean</th>\n",
       "      <td>6147.845636</td>\n",
       "      <td>114.466594</td>\n",
       "      <td>53.673022</td>\n",
       "      <td>-2.829034</td>\n",
       "      <td>702.914418</td>\n",
       "      <td>33.043749</td>\n",
       "      <td>14.958912</td>\n",
       "      <td>25698.164404</td>\n",
       "      <td>8.999510</td>\n",
       "      <td>1018.748337</td>\n",
       "      <td>10.348008</td>\n",
       "      <td>76.185240</td>\n",
       "      <td>0.99603</td>\n",
       "    </tr>\n",
       "    <tr>\n",
       "      <th>std</th>\n",
       "      <td>15821.503845</td>\n",
       "      <td>171.669120</td>\n",
       "      <td>2.466079</td>\n",
       "      <td>2.269594</td>\n",
       "      <td>412.057262</td>\n",
       "      <td>13.424855</td>\n",
       "      <td>4.294516</td>\n",
       "      <td>14263.873943</td>\n",
       "      <td>6.087882</td>\n",
       "      <td>6.327468</td>\n",
       "      <td>3.120565</td>\n",
       "      <td>17.208653</td>\n",
       "      <td>0.92971</td>\n",
       "    </tr>\n",
       "    <tr>\n",
       "      <th>min</th>\n",
       "      <td>3002.000000</td>\n",
       "      <td>2.000000</td>\n",
       "      <td>49.207900</td>\n",
       "      <td>-10.250000</td>\n",
       "      <td>0.000000</td>\n",
       "      <td>0.000000</td>\n",
       "      <td>-1.200000</td>\n",
       "      <td>20.000000</td>\n",
       "      <td>0.000000</td>\n",
       "      <td>976.000000</td>\n",
       "      <td>-28.200000</td>\n",
       "      <td>0.800000</td>\n",
       "      <td>0.00000</td>\n",
       "    </tr>\n",
       "    <tr>\n",
       "      <th>25%</th>\n",
       "      <td>3204.000000</td>\n",
       "      <td>20.000000</td>\n",
       "      <td>51.565000</td>\n",
       "      <td>-4.149000</td>\n",
       "      <td>360.000000</td>\n",
       "      <td>29.000000</td>\n",
       "      <td>12.000000</td>\n",
       "      <td>14000.000000</td>\n",
       "      <td>5.000000</td>\n",
       "      <td>1015.000000</td>\n",
       "      <td>8.400000</td>\n",
       "      <td>65.300000</td>\n",
       "      <td>0.00000</td>\n",
       "    </tr>\n",
       "    <tr>\n",
       "      <th>50%</th>\n",
       "      <td>3414.000000</td>\n",
       "      <td>65.000000</td>\n",
       "      <td>53.175000</td>\n",
       "      <td>-2.663000</td>\n",
       "      <td>720.000000</td>\n",
       "      <td>32.000000</td>\n",
       "      <td>14.500000</td>\n",
       "      <td>25000.000000</td>\n",
       "      <td>8.000000</td>\n",
       "      <td>1018.000000</td>\n",
       "      <td>10.500000</td>\n",
       "      <td>79.200000</td>\n",
       "      <td>1.00000</td>\n",
       "    </tr>\n",
       "    <tr>\n",
       "      <th>75%</th>\n",
       "      <td>3769.000000</td>\n",
       "      <td>132.000000</td>\n",
       "      <td>55.285000</td>\n",
       "      <td>-1.097000</td>\n",
       "      <td>1020.000000</td>\n",
       "      <td>39.000000</td>\n",
       "      <td>17.500000</td>\n",
       "      <td>35000.000000</td>\n",
       "      <td>11.000000</td>\n",
       "      <td>1024.000000</td>\n",
       "      <td>12.500000</td>\n",
       "      <td>90.000000</td>\n",
       "      <td>1.00000</td>\n",
       "    </tr>\n",
       "    <tr>\n",
       "      <th>max</th>\n",
       "      <td>99142.000000</td>\n",
       "      <td>1245.000000</td>\n",
       "      <td>60.749000</td>\n",
       "      <td>1.348000</td>\n",
       "      <td>1380.000000</td>\n",
       "      <td>105.000000</td>\n",
       "      <td>31.600000</td>\n",
       "      <td>75000.000000</td>\n",
       "      <td>81.000000</td>\n",
       "      <td>1036.000000</td>\n",
       "      <td>22.700000</td>\n",
       "      <td>100.000000</td>\n",
       "      <td>3.00000</td>\n",
       "    </tr>\n",
       "  </tbody>\n",
       "</table>\n",
       "</div>"
      ],
      "text/plain": [
       "           StationID      Elevation       Latitude      Longitude  \\\n",
       "count  106553.000000  106553.000000  106553.000000  106553.000000   \n",
       "mean     6147.845636     114.466594      53.673022      -2.829034   \n",
       "std     15821.503845     171.669120       2.466079       2.269594   \n",
       "min      3002.000000       2.000000      49.207900     -10.250000   \n",
       "25%      3204.000000      20.000000      51.565000      -4.149000   \n",
       "50%      3414.000000      65.000000      53.175000      -2.663000   \n",
       "75%      3769.000000     132.000000      55.285000      -1.097000   \n",
       "max     99142.000000    1245.000000      60.749000       1.348000   \n",
       "\n",
       "                Time         Gust    Temperature    Visibility      WindSpeed  \\\n",
       "count  106553.000000  7703.000000  106442.000000  92662.000000  102060.000000   \n",
       "mean      702.914418    33.043749      14.958912  25698.164404       8.999510   \n",
       "std       412.057262    13.424855       4.294516  14263.873943       6.087882   \n",
       "min         0.000000     0.000000      -1.200000     20.000000       0.000000   \n",
       "25%       360.000000    29.000000      12.000000  14000.000000       5.000000   \n",
       "50%       720.000000    32.000000      14.500000  25000.000000       8.000000   \n",
       "75%      1020.000000    39.000000      17.500000  35000.000000      11.000000   \n",
       "max      1380.000000   105.000000      31.600000  75000.000000      81.000000   \n",
       "\n",
       "           Pressure       DewPoint       Humidity          Type  \n",
       "count  99530.000000  106402.000000  106397.000000  106553.00000  \n",
       "mean    1018.748337      10.348008      76.185240       0.99603  \n",
       "std        6.327468       3.120565      17.208653       0.92971  \n",
       "min      976.000000     -28.200000       0.800000       0.00000  \n",
       "25%     1015.000000       8.400000      65.300000       0.00000  \n",
       "50%     1018.000000      10.500000      79.200000       1.00000  \n",
       "75%     1024.000000      12.500000      90.000000       1.00000  \n",
       "max     1036.000000      22.700000     100.000000       3.00000  "
      ]
     },
     "execution_count": 253,
     "metadata": {},
     "output_type": "execute_result"
    }
   ],
   "source": [
    "obs.describe()"
   ]
  },
  {
   "cell_type": "markdown",
   "metadata": {},
   "source": [
    "For this exercise we will use **8** input features (provided) and clean the data:"
   ]
  },
  {
   "cell_type": "code",
   "execution_count": 254,
   "metadata": {},
   "outputs": [],
   "source": [
    "# Define 8 input feature variables, 1 target variable data, and names of the 3 weather types\n",
    "features = ['Latitude', 'Elevation', 'Temperature', 'Visibility', 'WindSpeed', 'Pressure', 'Humidity', 'WindDirection']\n",
    "output   = ['Type']\n",
    "wtype    = ['Clear', 'Cloudy', 'Precip']"
   ]
  },
  {
   "cell_type": "markdown",
   "metadata": {},
   "source": [
    "Define derived dataset containing only the relevant columns and rows."
   ]
  },
  {
   "cell_type": "code",
   "execution_count": 255,
   "metadata": {},
   "outputs": [
    {
     "data": {
      "text/plain": [
       "(86313, 9)"
      ]
     },
     "execution_count": 255,
     "metadata": {},
     "output_type": "execute_result"
    }
   ],
   "source": [
    "# Reduce to feature and type columns\n",
    "dataset = obs[features + output]\n",
    "\n",
    "# Drop duplicates and null values \n",
    "dataset = dataset.drop_duplicates().dropna()\n",
    "\n",
    "# Drop unrecorded weather type\n",
    "dataset = dataset[dataset.Type != 3]\n",
    "\n",
    "# Check shape \n",
    "dataset.shape"
   ]
  },
  {
   "cell_type": "markdown",
   "metadata": {},
   "source": [
    "## 1. Conceptual questions (2.5 Marks)\n",
    "---\n",
    "This section covers **5** exercises on conceptual understanding of neural networks."
   ]
  },
  {
   "cell_type": "markdown",
   "metadata": {},
   "source": [
    "#### 1. Which are the most used activation functions and why do we (typically) need non-linear activation functions in neural networks? (0.5 mark)"
   ]
  },
  {
   "cell_type": "markdown",
   "metadata": {},
   "source": [
    "Most used activation functions are:\n",
    "-  sigmoid $f(a) = \\frac{1}{1+e^{a}}$\n",
    "-  tanh $f(a) = tanh(a)$\n",
    "-  softplus $f(a) = ln(1+e^{a})$\n",
    "-  Relu $f(a) = max(0, a)$\n",
    "\n",
    "Without non-linear activation functions, regardless of how many layers and nodes we use, the model will still be a linear fit. Therefore, non-linear activation functions add complexity to the model so we can model non-linear input data. Gradient descent cannot be used to train models using linear activation functions because there the derivative of the function is independent of the input so the weights cannot be learned."
   ]
  },
  {
   "cell_type": "markdown",
   "metadata": {},
   "source": [
    "#### 2. Why do we need deep neural networks and which are the main differences between deep and shallow learning? (0.5 Mark)"
   ]
  },
  {
   "cell_type": "markdown",
   "metadata": {},
   "source": [
    "Deep neural networks can not only make predictions on unseen inputs but actually understand basic features of the data. It extracts relevant features itself and does not require manual feature engineering like shallow learning which means it can learn from high dimentional data unlike shallow leanring where preprocessing is required to lower the dimensionality of data. "
   ]
  },
  {
   "cell_type": "markdown",
   "metadata": {},
   "source": [
    "#### 3. Discuss the Bias-variance trade-off and its relation to underfitting and overfitting of a model. Which are the caractheristics of an ideal model?  (0.5 mark)"
   ]
  },
  {
   "cell_type": "markdown",
   "metadata": {},
   "source": [
    "Bias and variance are two sources of error in the model. High bias refers to constraining the model based on assumptions between how input and output are related. High variance refers to oversensitivity to random fluctuations in the training data resulting in poor predictions on the test data.\n",
    "\n",
    "1. Underfitting, for example fitting a straight line to data that is quadratically distributed. Here, there is high bias as we have constrained the output to a function too simple to reflect the complexity of the input data. However, there is low variance, as the simplicity means it does not look closely enough mistake random noise for features.\n",
    "1. Overfitting, for example fitting a quartic to data that is quadratically distributed. Here, there is low bias as the model has enough free parameters to capure the complexity of the input. However, there is high variance as random noise from the training data is also captured like a feature so error arises in testing as the random noise in the testing data is different from the training data.\n",
    "\n",
    "An ideal model is one with enough complexity to capture the features and not be underfitted, but not so much that it cannot be generalised to apply to the test data."
   ]
  },
  {
   "cell_type": "markdown",
   "metadata": {},
   "source": [
    "#### 4. Given a neural network with 4 input nodes, 2 layers with 5 nodes each, and 1 output node, what is the total number of free (trainable) parameters in the network? Does it matter which activation function(s) are used?  (0.5 mark)"
   ]
  },
  {
   "cell_type": "markdown",
   "metadata": {},
   "source": [
    "61 trainable parameters including both weights and biases. The choice of activation functions does not change the number of trainable parameters as it only depends on the network architecture."
   ]
  },
  {
   "cell_type": "markdown",
   "metadata": {},
   "source": [
    "#### 5. What are appropriate choice for _(a)_ the number of output nodes and _(b)_ output activation function(s) for each of the following tasks, and why? (0.5 mark)"
   ]
  },
  {
   "cell_type": "markdown",
   "metadata": {},
   "source": [
    "1. Regression of the $x$, $y$, and $z$ coordinates of a single particle in an arbitrary coordinate system\n",
    "2. Regression of particle energy of a single particle\n",
    "3. Classification of two processes (signal vs. background)\n",
    "4. Classification among *N* classes (dog vs. cat vs. fish vs. ...)"
   ]
  },
  {
   "cell_type": "markdown",
   "metadata": {},
   "source": [
    "1. a) 3 output nodes, one for each coordinate b) Linear activation function as we would like coordinates to range from $\\pm \\infty$: $f(a) = ma$ where $m$ is a constant\n",
    "1. a) 1 output node b) Relu, to make sure energy is always positive\n",
    "1. a) 1 output node b) Sigmoid\n",
    "1. a) N output nodes, one probability score for each class b) Softmax so result can be interpreted as probability distribution"
   ]
  },
  {
   "cell_type": "markdown",
   "metadata": {},
   "source": [
    "## 2. Data preprocessing and RTs (2.5 mark)\n",
    "---\n",
    "This section covers **4** exercises on data preparation, feature standardisation, and dataset splitting."
   ]
  },
  {
   "cell_type": "code",
   "execution_count": 256,
   "metadata": {},
   "outputs": [],
   "source": [
    "# Relevant import(s) for this section\n",
    "from sklearn import tree\n",
    "from sklearn.tree import DecisionTreeClassifier, plot_tree\n",
    "from sklearn.tree import export_graphviz\n",
    "from sklearn.model_selection import train_test_split # Import train_test_split function\n",
    "from sklearn import metrics # Import scikit-learn metrics module for accuracy calculation\n",
    "from sklearn import preprocessing # Import preprocessing for String-Int conversion\n",
    "from sklearn.compose import ColumnTransformer\n",
    "from sklearn.preprocessing import OneHotEncoder, StandardScaler, MinMaxScaler\n",
    "from sklearn.model_selection import train_test_split"
   ]
  },
  {
   "cell_type": "markdown",
   "metadata": {},
   "source": [
    "---\n",
    "**_Comment on target format and one-hot encoding:_** By default, the target column (`Type`) contains one integer (0, 1, or 2) for each example, the integer specifying one of three possible types of weather. However, for doing multi-class classification (which this is), we want our neural network to have one output node per class (_i.e._ 3 output nodes in this case), such that the activation of each output node is interpreted as the likelihood for a given sample being of the type in question. Therefore, the target should also be a 3-element vector for each sample; this vector should be all zeros, except for a $1$ at the index corresponding to the type in question. This is called **one-hot encoding**, and a few examples are shown below:\n",
    "\n",
    "- type = 0 $\\to$ one-hot = $[1, 0, 0]$ for 3 classes\n",
    "- type = 1 $\\to$ one-hot = $[0, 1, 0]$ for 3 classes\n",
    "- type = 2 $\\to$ one-hot = $[0, 0, 1]$ for 3 classes\n",
    "\n",
    "This is the target towards which a neural network classifier is trained: That is, ideally, for an example of type 0, the network will output a large activation ($\\approx 1$) on the first output node (interpreted as a large likelihood for the first weather type), and very small activations ($\\ll 1$) on the two other output nodes (intepreted as small likelihoods for the two other weather types); and so on.\n",
    "\n",
    "The same type of one-hot encoding can be performed for any number of target classes $N_{c}$, which just results in $N_{c}$-element target vectors with a single non-zero entry each.\n",
    "\n",
    "To be user friendly, however, `scikit-learn` allows us to use integer targets for multi-class classification — it does the one-hot encoding for us \"under the hood.\" Similarly, `keras`, _can_ also allow us to use integer targets for multi-class classification, provided we use the appropropriate loss (`sparse_categorical_crossentropy`). Otherwise (if we use `categorical_crossentropy` loss), it expects one-hot encoded targets. Which approach you choose is up to you — but now you know what goes on.\n",
    "\n",
    "---"
   ]
  },
  {
   "cell_type": "markdown",
   "metadata": {},
   "source": [
    "#### 6. Prepare the feature and target arrays (0.5 mark)\n",
    "- Randomly sample **3,500** observations per weather type (**10,500** observations in total) from `dataset` into a new `pandas.DataFrame`; call it `sample`.\n",
    "- One-hot encode the **wind direction** variable (_i.e._ $N$ to $[1, 0, \\ldots, 0]$, $NNE$ to $[0, 1, \\ldots, 0]$, _etc._ ), to allow us to input it to the neural network. The exact order of the encoding (_i.e._ which direction corresponds to which index) doesn't matter. *Hint:*\n",
    "  - *Either:* Use the scikit-learn `ColumnTransformer` with the `OneHotEncoder` applied to the `WindDirection` column, and let the remainder of the features pass through un-transformed.\n",
    "  - *Or:* Use the `OneHotEncoder` class directly on the `WindDirection` column (use `sparse=False` in the `OneHotEncoder` constructor), and then concatenate with a `numpy.array` containing the remaining features.\n",
    "- Define `numpy.arrays` named `X` and `y` containing the training features (the 7 unmodified ones plus the one-hot encoded wind directions) and target, respectively.\n",
    "- Argue whether the shapes of `X` and `y` are as expected/as they should be."
   ]
  },
  {
   "cell_type": "code",
   "execution_count": 257,
   "metadata": {},
   "outputs": [
    {
     "data": {
      "text/html": [
       "<div>\n",
       "<style scoped>\n",
       "    .dataframe tbody tr th:only-of-type {\n",
       "        vertical-align: middle;\n",
       "    }\n",
       "\n",
       "    .dataframe tbody tr th {\n",
       "        vertical-align: top;\n",
       "    }\n",
       "\n",
       "    .dataframe thead th {\n",
       "        text-align: right;\n",
       "    }\n",
       "</style>\n",
       "<table border=\"1\" class=\"dataframe\">\n",
       "  <thead>\n",
       "    <tr style=\"text-align: right;\">\n",
       "      <th></th>\n",
       "      <th>0</th>\n",
       "      <th>1</th>\n",
       "      <th>2</th>\n",
       "      <th>3</th>\n",
       "      <th>4</th>\n",
       "      <th>5</th>\n",
       "      <th>6</th>\n",
       "      <th>7</th>\n",
       "      <th>8</th>\n",
       "      <th>9</th>\n",
       "      <th>...</th>\n",
       "      <th>14</th>\n",
       "      <th>15</th>\n",
       "      <th>Latitude</th>\n",
       "      <th>Elevation</th>\n",
       "      <th>Temperature</th>\n",
       "      <th>Visibility</th>\n",
       "      <th>WindSpeed</th>\n",
       "      <th>Pressure</th>\n",
       "      <th>Humidity</th>\n",
       "      <th>Type</th>\n",
       "    </tr>\n",
       "  </thead>\n",
       "  <tbody>\n",
       "    <tr>\n",
       "      <th>0</th>\n",
       "      <td>1.0</td>\n",
       "      <td>0.0</td>\n",
       "      <td>0.0</td>\n",
       "      <td>0.0</td>\n",
       "      <td>0.0</td>\n",
       "      <td>0.0</td>\n",
       "      <td>0.0</td>\n",
       "      <td>0.0</td>\n",
       "      <td>0.0</td>\n",
       "      <td>0.0</td>\n",
       "      <td>...</td>\n",
       "      <td>0.0</td>\n",
       "      <td>0.0</td>\n",
       "      <td>60.749</td>\n",
       "      <td>15.0</td>\n",
       "      <td>16.1</td>\n",
       "      <td>30000.0</td>\n",
       "      <td>8.0</td>\n",
       "      <td>1019.0</td>\n",
       "      <td>74.5</td>\n",
       "      <td>0.0</td>\n",
       "    </tr>\n",
       "    <tr>\n",
       "      <th>1</th>\n",
       "      <td>1.0</td>\n",
       "      <td>0.0</td>\n",
       "      <td>0.0</td>\n",
       "      <td>0.0</td>\n",
       "      <td>0.0</td>\n",
       "      <td>0.0</td>\n",
       "      <td>0.0</td>\n",
       "      <td>0.0</td>\n",
       "      <td>0.0</td>\n",
       "      <td>0.0</td>\n",
       "      <td>...</td>\n",
       "      <td>0.0</td>\n",
       "      <td>0.0</td>\n",
       "      <td>60.749</td>\n",
       "      <td>15.0</td>\n",
       "      <td>14.9</td>\n",
       "      <td>22000.0</td>\n",
       "      <td>8.0</td>\n",
       "      <td>1019.0</td>\n",
       "      <td>81.5</td>\n",
       "      <td>0.0</td>\n",
       "    </tr>\n",
       "    <tr>\n",
       "      <th>2</th>\n",
       "      <td>1.0</td>\n",
       "      <td>0.0</td>\n",
       "      <td>0.0</td>\n",
       "      <td>0.0</td>\n",
       "      <td>0.0</td>\n",
       "      <td>0.0</td>\n",
       "      <td>0.0</td>\n",
       "      <td>0.0</td>\n",
       "      <td>0.0</td>\n",
       "      <td>0.0</td>\n",
       "      <td>...</td>\n",
       "      <td>0.0</td>\n",
       "      <td>0.0</td>\n",
       "      <td>60.749</td>\n",
       "      <td>15.0</td>\n",
       "      <td>14.0</td>\n",
       "      <td>14000.0</td>\n",
       "      <td>6.0</td>\n",
       "      <td>1018.0</td>\n",
       "      <td>85.4</td>\n",
       "      <td>0.0</td>\n",
       "    </tr>\n",
       "    <tr>\n",
       "      <th>3</th>\n",
       "      <td>0.0</td>\n",
       "      <td>1.0</td>\n",
       "      <td>0.0</td>\n",
       "      <td>0.0</td>\n",
       "      <td>0.0</td>\n",
       "      <td>0.0</td>\n",
       "      <td>0.0</td>\n",
       "      <td>0.0</td>\n",
       "      <td>0.0</td>\n",
       "      <td>0.0</td>\n",
       "      <td>...</td>\n",
       "      <td>0.0</td>\n",
       "      <td>0.0</td>\n",
       "      <td>60.749</td>\n",
       "      <td>15.0</td>\n",
       "      <td>12.9</td>\n",
       "      <td>12000.0</td>\n",
       "      <td>2.0</td>\n",
       "      <td>1019.0</td>\n",
       "      <td>88.1</td>\n",
       "      <td>0.0</td>\n",
       "    </tr>\n",
       "    <tr>\n",
       "      <th>4</th>\n",
       "      <td>0.0</td>\n",
       "      <td>1.0</td>\n",
       "      <td>0.0</td>\n",
       "      <td>0.0</td>\n",
       "      <td>0.0</td>\n",
       "      <td>0.0</td>\n",
       "      <td>0.0</td>\n",
       "      <td>0.0</td>\n",
       "      <td>0.0</td>\n",
       "      <td>0.0</td>\n",
       "      <td>...</td>\n",
       "      <td>0.0</td>\n",
       "      <td>0.0</td>\n",
       "      <td>60.749</td>\n",
       "      <td>15.0</td>\n",
       "      <td>15.3</td>\n",
       "      <td>35000.0</td>\n",
       "      <td>7.0</td>\n",
       "      <td>1018.0</td>\n",
       "      <td>87.2</td>\n",
       "      <td>0.0</td>\n",
       "    </tr>\n",
       "  </tbody>\n",
       "</table>\n",
       "<p>5 rows × 24 columns</p>\n",
       "</div>"
      ],
      "text/plain": [
       "     0    1    2    3    4    5    6    7    8    9  ...   14   15  Latitude  \\\n",
       "0  1.0  0.0  0.0  0.0  0.0  0.0  0.0  0.0  0.0  0.0  ...  0.0  0.0    60.749   \n",
       "1  1.0  0.0  0.0  0.0  0.0  0.0  0.0  0.0  0.0  0.0  ...  0.0  0.0    60.749   \n",
       "2  1.0  0.0  0.0  0.0  0.0  0.0  0.0  0.0  0.0  0.0  ...  0.0  0.0    60.749   \n",
       "3  0.0  1.0  0.0  0.0  0.0  0.0  0.0  0.0  0.0  0.0  ...  0.0  0.0    60.749   \n",
       "4  0.0  1.0  0.0  0.0  0.0  0.0  0.0  0.0  0.0  0.0  ...  0.0  0.0    60.749   \n",
       "\n",
       "   Elevation  Temperature  Visibility  WindSpeed  Pressure  Humidity  Type  \n",
       "0       15.0         16.1     30000.0        8.0    1019.0      74.5   0.0  \n",
       "1       15.0         14.9     22000.0        8.0    1019.0      81.5   0.0  \n",
       "2       15.0         14.0     14000.0        6.0    1018.0      85.4   0.0  \n",
       "3       15.0         12.9     12000.0        2.0    1019.0      88.1   0.0  \n",
       "4       15.0         15.3     35000.0        7.0    1018.0      87.2   0.0  \n",
       "\n",
       "[5 rows x 24 columns]"
      ]
     },
     "execution_count": 257,
     "metadata": {},
     "output_type": "execute_result"
    }
   ],
   "source": [
    "# Get first 3500 observations for each class\n",
    "frames = [dataset[dataset.Type == 0].head(3500), \n",
    "          dataset[dataset.Type == 1].head(3500),\n",
    "          dataset[dataset.Type == 2].head(3500)]\n",
    "\n",
    "# Concat into one dataframe\n",
    "sample = pd.concat(frames)\n",
    "sample.head()\n",
    "\n",
    "#features = ['Latitude', 'Elevation', 'Temperature', 'Visibility', 'WindSpeed', 'Pressure', 'Humidity', 'WindDirection']\n",
    "#target = ['Type']\n",
    "\n",
    "ct = ColumnTransformer([(\"one_hot_encoder\", OneHotEncoder(), ['WindDirection'])], remainder='passthrough')\n",
    "sample = pd.DataFrame(ct.fit_transform(sample))\n",
    "sample.columns = list(range(16)) + features[:-1] + output\n",
    "sample.head()"
   ]
  },
  {
   "cell_type": "code",
   "execution_count": 258,
   "metadata": {},
   "outputs": [
    {
     "data": {
      "text/plain": [
       "((10500, 23), (10500,))"
      ]
     },
     "execution_count": 258,
     "metadata": {},
     "output_type": "execute_result"
    }
   ],
   "source": [
    "X = sample.iloc[:, :-1].values\n",
    "y = sample.iloc[:, -1].values.flatten()\n",
    "X.shape, y.shape"
   ]
  },
  {
   "cell_type": "code",
   "execution_count": 259,
   "metadata": {},
   "outputs": [
    {
     "data": {
      "text/plain": [
       "'# Get first 3500 observations for each class\\nframes = [dataset[dataset.Type == 0].head(3500), \\n          dataset[dataset.Type == 1].head(3500),\\n          dataset[dataset.Type == 2].head(3500)]\\n\\n# Concat into one dataframe\\nsample = pd.concat(frames)\\nsample.head()\\n\\nfeatures = [\\'Latitude\\', \\'Elevation\\', \\'Temperature\\', \\'Visibility\\', \\'WindSpeed\\', \\'Pressure\\', \\'Humidity\\', \\'WindDirection\\']\\ntarget = [\\'Type\\']\\n\\nct = ColumnTransformer([(\"one_hot_encoder\", OneHotEncoder(), [\\'WindDirection\\'])], remainder=\\'passthrough\\')\\nsample = pd.DataFrame(ct.fit_transform(sample))\\nsample[\\'WindDirection\\'] = sample.iloc[:, :16].values.tolist()\\nsample = sample.drop(sample.columns[:16], axis=1)\\ncols = sample.columns.tolist()\\ncols = cols[:7] + [cols[8]] + [cols[7]]\\nsample = sample[cols]\\nsample.columns = features + target\\nsample.head()'"
      ]
     },
     "execution_count": 259,
     "metadata": {},
     "output_type": "execute_result"
    }
   ],
   "source": [
    "\"\"\"# Get first 3500 observations for each class\n",
    "frames = [dataset[dataset.Type == 0].head(3500), \n",
    "          dataset[dataset.Type == 1].head(3500),\n",
    "          dataset[dataset.Type == 2].head(3500)]\n",
    "\n",
    "# Concat into one dataframe\n",
    "sample = pd.concat(frames)\n",
    "sample.head()\n",
    "\n",
    "features = ['Latitude', 'Elevation', 'Temperature', 'Visibility', 'WindSpeed', 'Pressure', 'Humidity', 'WindDirection']\n",
    "target = ['Type']\n",
    "\n",
    "ct = ColumnTransformer([(\"one_hot_encoder\", OneHotEncoder(), ['WindDirection'])], remainder='passthrough')\n",
    "sample = pd.DataFrame(ct.fit_transform(sample))\n",
    "sample['WindDirection'] = sample.iloc[:, :16].values.tolist()\n",
    "sample = sample.drop(sample.columns[:16], axis=1)\n",
    "cols = sample.columns.tolist()\n",
    "cols = cols[:7] + [cols[8]] + [cols[7]]\n",
    "sample = sample[cols]\n",
    "sample.columns = features + target\n",
    "sample.head()\"\"\""
   ]
  },
  {
   "cell_type": "code",
   "execution_count": 260,
   "metadata": {},
   "outputs": [
    {
     "data": {
      "text/plain": [
       "'X = sample[features].values\\ny = sample[target].values.flatten()\\nX.shape, y.shape'"
      ]
     },
     "execution_count": 260,
     "metadata": {},
     "output_type": "execute_result"
    }
   ],
   "source": [
    "\"\"\"X = sample[features].values\n",
    "y = sample[target].values.flatten()\n",
    "X.shape, y.shape\"\"\""
   ]
  },
  {
   "cell_type": "markdown",
   "metadata": {},
   "source": [
    "#### 7. Train a Random Forest and evaluate the performance (1 mark)\n",
    "\n",
    "Decision trees work well with a mixture of features (of different scales, and bot binary and continuos), so we will train a random forest to do the job of categorisation.\n",
    "\n",
    "You are given the train test split:"
   ]
  },
  {
   "cell_type": "code",
   "execution_count": 261,
   "metadata": {},
   "outputs": [
    {
     "name": "stdout",
     "output_type": "stream",
     "text": [
      "(7350, 23) (3150, 23)\n"
     ]
    }
   ],
   "source": [
    "#Import random fosets and confusion matrix metric\n",
    "from sklearn.ensemble import RandomForestClassifier\n",
    "from sklearn.metrics import confusion_matrix\n",
    "\n",
    "# split dataset into training set and test set\n",
    "x_train, x_test, y_train, y_test = train_test_split(X, y, test_size=0.3, random_state=1) # 70% training and 30% test\n",
    "print(x_train.shape,x_test.shape)"
   ]
  },
  {
   "cell_type": "markdown",
   "metadata": {},
   "source": [
    "1. Train a RandomForestClassifier with 1000 estimators, `gini` seperation criteria, and max depth 4.\n",
    "2. Check the overal accuaracy on the testing set"
   ]
  },
  {
   "cell_type": "markdown",
   "metadata": {},
   "source": [
    "3. Use the confusion_matrix method to return the confusion matrix normalised over the true lables, i.e. sum over rows should sum to 100%. Use the given colormap to plot the confusion matrix in a heatmap.\n",
    "    - Define the axis tick names to represent Clear, Cloudy or Precip\n",
    "    - Use suitable x and y axis labels\n",
    "    \n",
    "4. What are the true positive rates for clear, cloudy and perp? What is the probability that rain is forcast given that the day is clear?\n",
    "5. Which features does the random forest deem the most important?"
   ]
  },
  {
   "cell_type": "code",
   "execution_count": 262,
   "metadata": {},
   "outputs": [
    {
     "name": "stdout",
     "output_type": "stream",
     "text": [
      "Accuracy Training: 0.7531972789115646\n",
      "Accuracy Testing: 0.7590476190476191\n"
     ]
    }
   ],
   "source": [
    "# Fit a random forest classifier\n",
    "rf = RandomForestClassifier(n_estimators=1000, criterion = 'gini', max_depth=4,random_state=1)\n",
    "rf.fit(x_train, y_train)\n",
    "y_pred = rf.predict(x_train)\n",
    "print(\"Accuracy Training:\",metrics.accuracy_score(y_train, y_pred))\n",
    "y_pred = rf.predict(x_test)\n",
    "print(\"Accuracy Testing:\",metrics.accuracy_score(y_test, y_pred))"
   ]
  },
  {
   "cell_type": "code",
   "execution_count": 263,
   "metadata": {},
   "outputs": [
    {
     "data": {
      "image/png": "[encoded data removed]",
      "text/plain": [
       "<Figure size 720x720 with 2 Axes>"
      ]
     },
     "metadata": {
      "needs_background": "light"
     },
     "output_type": "display_data"
    }
   ],
   "source": [
    "conf_matrix = confusion_matrix(y_test, y_pred, normalize='true')\n",
    "\n",
    "colormap = sns.diverging_palette(220, 10, as_cmap=True)\n",
    "fig, ax = plt.subplots(figsize=(10, 10))\n",
    "# Generate Heat Map, allow annotations and place floats in map\n",
    "sns.heatmap(conf_matrix, cmap=plt.cm.Blues, annot=True, fmt=\".2f\")\n",
    "ax.set_ylabel('True Weather');\n",
    "ax.set_xlabel('Predicted Weather');\n",
    "ax.set_xticklabels(wtype);\n",
    "ax.set_yticklabels(wtype);\n",
    "plt.show()"
   ]
  },
  {
   "cell_type": "code",
   "execution_count": 264,
   "metadata": {},
   "outputs": [
    {
     "name": "stdout",
     "output_type": "stream",
     "text": [
      "True positive rate for Clear is 0.8607954545454546\n",
      "True positive rate for Cloudy is 0.7497603068072867\n",
      "True positive rate for Precip is 0.6660323501427212\n",
      "\n",
      "Probability of predicting rain, given true weather is clear, is 0.010416666666666666\n"
     ]
    }
   ],
   "source": [
    "for i in range(len(wtype)):\n",
    "    print('True positive rate for ' + wtype[i] + ' is ' + str(conf_matrix[i][i]))\n",
    "print('')\n",
    "print('Probability of predicting rain, given true weather is clear, is ' + str(conf_matrix[0][2]))"
   ]
  },
  {
   "cell_type": "code",
   "execution_count": 265,
   "metadata": {},
   "outputs": [
    {
     "data": {
      "text/plain": [
       "([<matplotlib.axis.YTick at 0x231c53b2f88>,\n",
       "  <matplotlib.axis.YTick at 0x231bee75208>,\n",
       "  <matplotlib.axis.YTick at 0x231c144dbc8>,\n",
       "  <matplotlib.axis.YTick at 0x231cbdceac8>,\n",
       "  <matplotlib.axis.YTick at 0x231c6e20e48>,\n",
       "  <matplotlib.axis.YTick at 0x231c74f2f88>,\n",
       "  <matplotlib.axis.YTick at 0x231ca055948>,\n",
       "  <matplotlib.axis.YTick at 0x231c74fc348>,\n",
       "  <matplotlib.axis.YTick at 0x231c74fc048>,\n",
       "  <matplotlib.axis.YTick at 0x231cbdb4d88>,\n",
       "  <matplotlib.axis.YTick at 0x231cbda3d08>,\n",
       "  <matplotlib.axis.YTick at 0x231cbd99848>,\n",
       "  <matplotlib.axis.YTick at 0x231ca05b188>,\n",
       "  <matplotlib.axis.YTick at 0x231cbd93988>,\n",
       "  <matplotlib.axis.YTick at 0x231cbdaa108>,\n",
       "  <matplotlib.axis.YTick at 0x231cbdb8a48>,\n",
       "  <matplotlib.axis.YTick at 0x231c6e014c8>,\n",
       "  <matplotlib.axis.YTick at 0x231cbdbca88>,\n",
       "  <matplotlib.axis.YTick at 0x231cbdbcbc8>,\n",
       "  <matplotlib.axis.YTick at 0x231c74db208>,\n",
       "  <matplotlib.axis.YTick at 0x231c74cb688>,\n",
       "  <matplotlib.axis.YTick at 0x231c6dfc488>,\n",
       "  <matplotlib.axis.YTick at 0x231cbdbcf08>],\n",
       " [Text(0, 0, '0'),\n",
       "  Text(0, 1, '1'),\n",
       "  Text(0, 2, '2'),\n",
       "  Text(0, 3, '3'),\n",
       "  Text(0, 4, '4'),\n",
       "  Text(0, 5, '5'),\n",
       "  Text(0, 6, '6'),\n",
       "  Text(0, 7, '7'),\n",
       "  Text(0, 8, '8'),\n",
       "  Text(0, 9, '9'),\n",
       "  Text(0, 10, '10'),\n",
       "  Text(0, 11, '11'),\n",
       "  Text(0, 12, '12'),\n",
       "  Text(0, 13, '13'),\n",
       "  Text(0, 14, '14'),\n",
       "  Text(0, 15, '15'),\n",
       "  Text(0, 16, 'Latitude'),\n",
       "  Text(0, 17, 'Elevation'),\n",
       "  Text(0, 18, 'Temperature'),\n",
       "  Text(0, 19, 'Visibility'),\n",
       "  Text(0, 20, 'WindSpeed'),\n",
       "  Text(0, 21, 'Pressure'),\n",
       "  Text(0, 22, 'Humidity')])"
      ]
     },
     "execution_count": 265,
     "metadata": {},
     "output_type": "execute_result"
    },
    {
     "data": {
      "image/png": "[encoded data removed]",
      "text/plain": [
       "<Figure size 432x288 with 1 Axes>"
      ]
     },
     "metadata": {
      "needs_background": "light"
     },
     "output_type": "display_data"
    }
   ],
   "source": [
    "#Given plotting example for feature importance\n",
    "plt.barh(range(23), rf.feature_importances_)\n",
    "plt.yticks(range(23), list(range(16))+features[:-1])"
   ]
  },
  {
   "cell_type": "markdown",
   "metadata": {},
   "source": [
    "#### 8. Standardise the relevant features (0.5 mark)\n",
    "\n",
    "_Note:_ You shouldn't standardise the one-hot encoded wind directions; they already have the desired format. Perform a sanity check to make sure that the resulting features have the expected distributional properties (mean and standard deviation; or minimum and maximum value).\n",
    "- Hint:\n",
    "\n",
    "    - Use the scikit-learn `StandardScaler`\n",
    "    - Or use the scikit-learn `MinMaxScaler`\n",
    "\n",
    "- Perform a sanity check to make sure that the resulting features have the expected distributional properties (mean and standard deviation; or minimum and maximum value).\n",
    "    - The number of columns should match, and depending on the choice of standardisation, the last 7 columns should either have:\n",
    "      - (Using `StandardScaler`) means = 0 and standard deviations = 1; or\n",
    "      - (Using `MinMaxScaler`) min = 0, max = 1"
   ]
  },
  {
   "cell_type": "code",
   "execution_count": 266,
   "metadata": {},
   "outputs": [
    {
     "name": "stderr",
     "output_type": "stream",
     "text": [
      "C:\\Users\\Matthew\\Anaconda3\\envs\\daml\\lib\\site-packages\\sklearn\\utils\\validation.py:1677: FutureWarning: Feature names only support names that are all strings. Got feature names with dtypes: ['int', 'str']. An error will be raised in 1.2.\n",
      "  FutureWarning,\n"
     ]
    },
    {
     "data": {
      "text/html": [
       "<div>\n",
       "<style scoped>\n",
       "    .dataframe tbody tr th:only-of-type {\n",
       "        vertical-align: middle;\n",
       "    }\n",
       "\n",
       "    .dataframe tbody tr th {\n",
       "        vertical-align: top;\n",
       "    }\n",
       "\n",
       "    .dataframe thead th {\n",
       "        text-align: right;\n",
       "    }\n",
       "</style>\n",
       "<table border=\"1\" class=\"dataframe\">\n",
       "  <thead>\n",
       "    <tr style=\"text-align: right;\">\n",
       "      <th></th>\n",
       "      <th>Latitude</th>\n",
       "      <th>Elevation</th>\n",
       "      <th>Temperature</th>\n",
       "      <th>Visibility</th>\n",
       "      <th>WindSpeed</th>\n",
       "      <th>Pressure</th>\n",
       "      <th>Humidity</th>\n",
       "      <th>0</th>\n",
       "      <th>1</th>\n",
       "      <th>2</th>\n",
       "      <th>...</th>\n",
       "      <th>7</th>\n",
       "      <th>8</th>\n",
       "      <th>9</th>\n",
       "      <th>10</th>\n",
       "      <th>11</th>\n",
       "      <th>12</th>\n",
       "      <th>13</th>\n",
       "      <th>14</th>\n",
       "      <th>15</th>\n",
       "      <th>Type</th>\n",
       "    </tr>\n",
       "  </thead>\n",
       "  <tbody>\n",
       "    <tr>\n",
       "      <th>count</th>\n",
       "      <td>1.050000e+04</td>\n",
       "      <td>1.050000e+04</td>\n",
       "      <td>1.050000e+04</td>\n",
       "      <td>1.050000e+04</td>\n",
       "      <td>1.050000e+04</td>\n",
       "      <td>1.050000e+04</td>\n",
       "      <td>1.050000e+04</td>\n",
       "      <td>10500.000000</td>\n",
       "      <td>10500.000000</td>\n",
       "      <td>10500.000000</td>\n",
       "      <td>...</td>\n",
       "      <td>10500.000000</td>\n",
       "      <td>10500.000000</td>\n",
       "      <td>10500.000000</td>\n",
       "      <td>10500.000000</td>\n",
       "      <td>10500.000000</td>\n",
       "      <td>10500.000000</td>\n",
       "      <td>10500.000000</td>\n",
       "      <td>10500.000000</td>\n",
       "      <td>10500.000000</td>\n",
       "      <td>10500.000000</td>\n",
       "    </tr>\n",
       "    <tr>\n",
       "      <th>mean</th>\n",
       "      <td>2.045280e-13</td>\n",
       "      <td>-4.330927e-17</td>\n",
       "      <td>-9.917823e-15</td>\n",
       "      <td>-7.579123e-17</td>\n",
       "      <td>-8.661854e-17</td>\n",
       "      <td>-2.338701e-15</td>\n",
       "      <td>-4.304942e-14</td>\n",
       "      <td>0.078190</td>\n",
       "      <td>0.070571</td>\n",
       "      <td>0.043524</td>\n",
       "      <td>...</td>\n",
       "      <td>0.040762</td>\n",
       "      <td>0.091524</td>\n",
       "      <td>0.042571</td>\n",
       "      <td>0.049048</td>\n",
       "      <td>0.078762</td>\n",
       "      <td>0.071429</td>\n",
       "      <td>0.079905</td>\n",
       "      <td>0.039524</td>\n",
       "      <td>0.067143</td>\n",
       "      <td>1.000000</td>\n",
       "    </tr>\n",
       "    <tr>\n",
       "      <th>std</th>\n",
       "      <td>1.000048e+00</td>\n",
       "      <td>1.000048e+00</td>\n",
       "      <td>1.000048e+00</td>\n",
       "      <td>1.000048e+00</td>\n",
       "      <td>1.000048e+00</td>\n",
       "      <td>1.000048e+00</td>\n",
       "      <td>1.000048e+00</td>\n",
       "      <td>0.268484</td>\n",
       "      <td>0.256120</td>\n",
       "      <td>0.204043</td>\n",
       "      <td>...</td>\n",
       "      <td>0.197748</td>\n",
       "      <td>0.288366</td>\n",
       "      <td>0.201898</td>\n",
       "      <td>0.215978</td>\n",
       "      <td>0.269380</td>\n",
       "      <td>0.257552</td>\n",
       "      <td>0.271159</td>\n",
       "      <td>0.194847</td>\n",
       "      <td>0.250281</td>\n",
       "      <td>0.816535</td>\n",
       "    </tr>\n",
       "    <tr>\n",
       "      <th>min</th>\n",
       "      <td>-1.886305e+00</td>\n",
       "      <td>-1.029889e+00</td>\n",
       "      <td>-3.648023e+00</td>\n",
       "      <td>-1.213670e+00</td>\n",
       "      <td>-1.303933e+00</td>\n",
       "      <td>-7.475503e+00</td>\n",
       "      <td>-4.002378e+00</td>\n",
       "      <td>0.000000</td>\n",
       "      <td>0.000000</td>\n",
       "      <td>0.000000</td>\n",
       "      <td>...</td>\n",
       "      <td>0.000000</td>\n",
       "      <td>0.000000</td>\n",
       "      <td>0.000000</td>\n",
       "      <td>0.000000</td>\n",
       "      <td>0.000000</td>\n",
       "      <td>0.000000</td>\n",
       "      <td>0.000000</td>\n",
       "      <td>0.000000</td>\n",
       "      <td>0.000000</td>\n",
       "      <td>0.000000</td>\n",
       "    </tr>\n",
       "    <tr>\n",
       "      <th>25%</th>\n",
       "      <td>-8.601435e-01</td>\n",
       "      <td>-8.210833e-01</td>\n",
       "      <td>-7.002490e-01</td>\n",
       "      <td>-8.295090e-01</td>\n",
       "      <td>-7.921979e-01</td>\n",
       "      <td>-6.320814e-02</td>\n",
       "      <td>-5.664767e-01</td>\n",
       "      <td>0.000000</td>\n",
       "      <td>0.000000</td>\n",
       "      <td>0.000000</td>\n",
       "      <td>...</td>\n",
       "      <td>0.000000</td>\n",
       "      <td>0.000000</td>\n",
       "      <td>0.000000</td>\n",
       "      <td>0.000000</td>\n",
       "      <td>0.000000</td>\n",
       "      <td>0.000000</td>\n",
       "      <td>0.000000</td>\n",
       "      <td>0.000000</td>\n",
       "      <td>0.000000</td>\n",
       "      <td>0.000000</td>\n",
       "    </tr>\n",
       "    <tr>\n",
       "      <th>50%</th>\n",
       "      <td>-6.332517e-02</td>\n",
       "      <td>-3.222686e-01</td>\n",
       "      <td>-9.335442e-02</td>\n",
       "      <td>-2.895243e-01</td>\n",
       "      <td>-1.098849e-01</td>\n",
       "      <td>3.169095e-01</td>\n",
       "      <td>2.868350e-01</td>\n",
       "      <td>0.000000</td>\n",
       "      <td>0.000000</td>\n",
       "      <td>0.000000</td>\n",
       "      <td>...</td>\n",
       "      <td>0.000000</td>\n",
       "      <td>0.000000</td>\n",
       "      <td>0.000000</td>\n",
       "      <td>0.000000</td>\n",
       "      <td>0.000000</td>\n",
       "      <td>0.000000</td>\n",
       "      <td>0.000000</td>\n",
       "      <td>0.000000</td>\n",
       "      <td>0.000000</td>\n",
       "      <td>1.000000</td>\n",
       "    </tr>\n",
       "    <tr>\n",
       "      <th>75%</th>\n",
       "      <td>6.558707e-01</td>\n",
       "      <td>4.897554e-01</td>\n",
       "      <td>6.291391e-01</td>\n",
       "      <td>6.361636e-01</td>\n",
       "      <td>4.018499e-01</td>\n",
       "      <td>5.069684e-01</td>\n",
       "      <td>8.154352e-01</td>\n",
       "      <td>0.000000</td>\n",
       "      <td>0.000000</td>\n",
       "      <td>0.000000</td>\n",
       "      <td>...</td>\n",
       "      <td>0.000000</td>\n",
       "      <td>0.000000</td>\n",
       "      <td>0.000000</td>\n",
       "      <td>0.000000</td>\n",
       "      <td>0.000000</td>\n",
       "      <td>0.000000</td>\n",
       "      <td>0.000000</td>\n",
       "      <td>0.000000</td>\n",
       "      <td>0.000000</td>\n",
       "      <td>2.000000</td>\n",
       "    </tr>\n",
       "    <tr>\n",
       "      <th>max</th>\n",
       "      <td>2.684352e+00</td>\n",
       "      <td>3.123033e+00</td>\n",
       "      <td>3.374615e+00</td>\n",
       "      <td>4.570338e+00</td>\n",
       "      <td>6.883823e+00</td>\n",
       "      <td>2.027439e+00</td>\n",
       "      <td>1.102390e+00</td>\n",
       "      <td>1.000000</td>\n",
       "      <td>1.000000</td>\n",
       "      <td>1.000000</td>\n",
       "      <td>...</td>\n",
       "      <td>1.000000</td>\n",
       "      <td>1.000000</td>\n",
       "      <td>1.000000</td>\n",
       "      <td>1.000000</td>\n",
       "      <td>1.000000</td>\n",
       "      <td>1.000000</td>\n",
       "      <td>1.000000</td>\n",
       "      <td>1.000000</td>\n",
       "      <td>1.000000</td>\n",
       "      <td>2.000000</td>\n",
       "    </tr>\n",
       "  </tbody>\n",
       "</table>\n",
       "<p>8 rows × 24 columns</p>\n",
       "</div>"
      ],
      "text/plain": [
       "           Latitude     Elevation   Temperature    Visibility     WindSpeed  \\\n",
       "count  1.050000e+04  1.050000e+04  1.050000e+04  1.050000e+04  1.050000e+04   \n",
       "mean   2.045280e-13 -4.330927e-17 -9.917823e-15 -7.579123e-17 -8.661854e-17   \n",
       "std    1.000048e+00  1.000048e+00  1.000048e+00  1.000048e+00  1.000048e+00   \n",
       "min   -1.886305e+00 -1.029889e+00 -3.648023e+00 -1.213670e+00 -1.303933e+00   \n",
       "25%   -8.601435e-01 -8.210833e-01 -7.002490e-01 -8.295090e-01 -7.921979e-01   \n",
       "50%   -6.332517e-02 -3.222686e-01 -9.335442e-02 -2.895243e-01 -1.098849e-01   \n",
       "75%    6.558707e-01  4.897554e-01  6.291391e-01  6.361636e-01  4.018499e-01   \n",
       "max    2.684352e+00  3.123033e+00  3.374615e+00  4.570338e+00  6.883823e+00   \n",
       "\n",
       "           Pressure      Humidity             0             1             2  \\\n",
       "count  1.050000e+04  1.050000e+04  10500.000000  10500.000000  10500.000000   \n",
       "mean  -2.338701e-15 -4.304942e-14      0.078190      0.070571      0.043524   \n",
       "std    1.000048e+00  1.000048e+00      0.268484      0.256120      0.204043   \n",
       "min   -7.475503e+00 -4.002378e+00      0.000000      0.000000      0.000000   \n",
       "25%   -6.320814e-02 -5.664767e-01      0.000000      0.000000      0.000000   \n",
       "50%    3.169095e-01  2.868350e-01      0.000000      0.000000      0.000000   \n",
       "75%    5.069684e-01  8.154352e-01      0.000000      0.000000      0.000000   \n",
       "max    2.027439e+00  1.102390e+00      1.000000      1.000000      1.000000   \n",
       "\n",
       "       ...             7             8             9            10  \\\n",
       "count  ...  10500.000000  10500.000000  10500.000000  10500.000000   \n",
       "mean   ...      0.040762      0.091524      0.042571      0.049048   \n",
       "std    ...      0.197748      0.288366      0.201898      0.215978   \n",
       "min    ...      0.000000      0.000000      0.000000      0.000000   \n",
       "25%    ...      0.000000      0.000000      0.000000      0.000000   \n",
       "50%    ...      0.000000      0.000000      0.000000      0.000000   \n",
       "75%    ...      0.000000      0.000000      0.000000      0.000000   \n",
       "max    ...      1.000000      1.000000      1.000000      1.000000   \n",
       "\n",
       "                 11            12            13            14            15  \\\n",
       "count  10500.000000  10500.000000  10500.000000  10500.000000  10500.000000   \n",
       "mean       0.078762      0.071429      0.079905      0.039524      0.067143   \n",
       "std        0.269380      0.257552      0.271159      0.194847      0.250281   \n",
       "min        0.000000      0.000000      0.000000      0.000000      0.000000   \n",
       "25%        0.000000      0.000000      0.000000      0.000000      0.000000   \n",
       "50%        0.000000      0.000000      0.000000      0.000000      0.000000   \n",
       "75%        0.000000      0.000000      0.000000      0.000000      0.000000   \n",
       "max        1.000000      1.000000      1.000000      1.000000      1.000000   \n",
       "\n",
       "               Type  \n",
       "count  10500.000000  \n",
       "mean       1.000000  \n",
       "std        0.816535  \n",
       "min        0.000000  \n",
       "25%        0.000000  \n",
       "50%        1.000000  \n",
       "75%        2.000000  \n",
       "max        2.000000  \n",
       "\n",
       "[8 rows x 24 columns]"
      ]
     },
     "execution_count": 266,
     "metadata": {},
     "output_type": "execute_result"
    }
   ],
   "source": [
    "ct = ColumnTransformer([(\"scale\", StandardScaler(), features[:-1])], remainder='passthrough')\n",
    "sample_scaled = pd.DataFrame(ct.fit_transform(sample))\n",
    "sample_scaled.columns = features[:-1] + list(range(16)) + output\n",
    "sample_scaled.describe()"
   ]
  },
  {
   "cell_type": "code",
   "execution_count": 267,
   "metadata": {},
   "outputs": [],
   "source": [
    "X = sample_scaled.iloc[:, :-1].values\n",
    "y = sample_scaled.iloc[:, -1].values.flatten()"
   ]
  },
  {
   "cell_type": "markdown",
   "metadata": {},
   "source": [
    "#### 9. Split the dataset into a training and a testing part (0.5)\n",
    "\n",
    "Reserve **30%** of data for testing. Check whether the resulting arrays have the expected shapes."
   ]
  },
  {
   "cell_type": "code",
   "execution_count": 268,
   "metadata": {},
   "outputs": [
    {
     "name": "stdout",
     "output_type": "stream",
     "text": [
      "(7350, 23) (3150, 23) (7350,) (3150,)\n"
     ]
    }
   ],
   "source": [
    "X_train, X_test, y_train, y_test = train_test_split(X, y, test_size=0.3, random_state=1)\n",
    "print(X_train.shape, X_test.shape, y_train.shape, y_test.shape)"
   ]
  },
  {
   "cell_type": "markdown",
   "metadata": {},
   "source": [
    "## 3. Neural networks in `scikit-learn` (1.5 mark)\n",
    "---\n",
    "This section covers **2** exercises on constructing and training neural networks using the `scikit-learn` library, as well as evaluating neural network performance. `scikit-learn` provide many, very easy to use ML algorithms, including neural networks. These are called `MLPClassifier` (MLP = multi-layer perceptron; a historic name for densely connected, feed-forward neural networks) when used for classification, and `MLPRegressor` when used for regression. We will focus on the former for now."
   ]
  },
  {
   "cell_type": "code",
   "execution_count": 269,
   "metadata": {},
   "outputs": [],
   "source": [
    "# Relevant import(s) for this section\n",
    "from sklearn.neural_network import MLPClassifier\n"
   ]
  },
  {
   "cell_type": "markdown",
   "metadata": {},
   "source": [
    "#### 10. Construct and train a neural network  (1 mark)\n",
    "\n",
    "- Create an `MLPClassifier` which\n",
    "    - has **1 hidden layer of 50 neurons** \n",
    "    - has **no regularization term**\n",
    "    - trains for a maximum of **100 epochs** \n",
    "    - uses a batch size of **32**\n",
    "- Fit the classifier using the standard `.fit()` member method.\n",
    "- Plot the loss function value as a function of number of epochs (0.5 of mark).\n",
    "  You can access the loss history through the `.loss_curve_` attribute of the `MLPClassifier` instance. "
   ]
  },
  {
   "cell_type": "code",
   "execution_count": 270,
   "metadata": {},
   "outputs": [
    {
     "data": {
      "text/plain": [
       "MLPClassifier(alpha=0, batch_size=32, hidden_layer_sizes=(50,), max_iter=100)"
      ]
     },
     "execution_count": 270,
     "metadata": {},
     "output_type": "execute_result"
    }
   ],
   "source": [
    "clf = MLPClassifier(max_iter=100, alpha=0, hidden_layer_sizes=(50,), batch_size=32)\n",
    "clf.fit(X_train, y_train)"
   ]
  },
  {
   "cell_type": "code",
   "execution_count": 271,
   "metadata": {},
   "outputs": [
    {
     "data": {
      "image/png": "[encoded data removed]",
      "text/plain": [
       "<Figure size 432x288 with 1 Axes>"
      ]
     },
     "metadata": {
      "needs_background": "light"
     },
     "output_type": "display_data"
    }
   ],
   "source": [
    "plt.plot(range(len(clf.loss_curve_)), clf.loss_curve_, '-ok')\n",
    "plt.ylabel('Loss')\n",
    "plt.xlabel('Epoch')\n",
    "plt.show()"
   ]
  },
  {
   "cell_type": "markdown",
   "metadata": {},
   "source": [
    "#### 11. Performance evaluation (0.5 mark)\n",
    "\n",
    "- Using the testing dataset: \n",
    "    - Compute the overall accuracy for the classifier using the `MLPClassifier`'s `.score()` member method for both testing and training datasets.\n",
    "    - Compute the confusion matrix (normalised in true labels), and plot it \n",
    "- Discuss the results"
   ]
  },
  {
   "cell_type": "code",
   "execution_count": 272,
   "metadata": {},
   "outputs": [
    {
     "name": "stdout",
     "output_type": "stream",
     "text": [
      "Accuracy Training: 0.8668027210884354\n",
      "Accuracy Testing: 0.8238095238095238\n"
     ]
    }
   ],
   "source": [
    "print(\"Accuracy Training:\",clf.score(X_train, y_train))\n",
    "print(\"Accuracy Testing:\",clf.score(X_test, y_test))"
   ]
  },
  {
   "cell_type": "markdown",
   "metadata": {},
   "source": [
    "## 4. Neural networks in `Keras` (2 marks)\n",
    "---\n",
    "This section covers **2** exercises on constructing and training neural networks using the `Keras` library. `scikit-learn` is very easy to use, but libraries like `Keras` provide a lot more flexibility, which is why we will be using these extensively in the last two units of the _'Data science tools and machine learning'_ track."
   ]
  },
  {
   "cell_type": "code",
   "execution_count": 273,
   "metadata": {},
   "outputs": [],
   "source": [
    "# Relevant import(s) for this section\n",
    "from tensorflow.python.keras.models import Model\n",
    "from tensorflow.python.keras.layers import Input, Dense"
   ]
  },
  {
   "cell_type": "markdown",
   "metadata": {},
   "source": [
    "#### 12. Construct a neural network in `Keras` (1 mark)\n",
    "\n",
    "- Create a `keras.Model` using the **Keras functional API**. The network should have:\n",
    "    - An input layer with the same number of nodes as the number of features in `X`.\n",
    "    - A single, densely connected hidden layer with **50 nodes** equipped with **ReLU activation**.\n",
    "    - A densely connected output layer with **3 nodes** (the number of types of weather we're classifying) equipped with **softmax activation**.\n",
    "- Compile the model the using the **Adam optimiser**, add `'accuracy'` as metric, and use either:\n",
    "    - `categorical_crossentropy` loss, if you have one-hot encoded the targets `y`, or\n",
    "    - `sparse_categorical_crossentropy` loss if you hare using integer-valued targets.\n",
    "- Use the `.summary()` member method to print an overview of the model you have created, explain the output."
   ]
  },
  {
   "cell_type": "code",
   "execution_count": 274,
   "metadata": {},
   "outputs": [
    {
     "name": "stdout",
     "output_type": "stream",
     "text": [
      "Model: \"model_6\"\n",
      "_________________________________________________________________\n",
      "Layer (type)                 Output Shape              Param #   \n",
      "=================================================================\n",
      "input_7 (InputLayer)         [(None, 23)]              0         \n",
      "_________________________________________________________________\n",
      "dense_12 (Dense)             (None, 50)                1200      \n",
      "_________________________________________________________________\n",
      "dense_13 (Dense)             (None, 3)                 153       \n",
      "=================================================================\n",
      "Total params: 1,353\n",
      "Trainable params: 1,353\n",
      "Non-trainable params: 0\n",
      "_________________________________________________________________\n"
     ]
    }
   ],
   "source": [
    "input = Input(shape=(len(X_train[0]),))\n",
    "h = Dense(50, activation='relu')(input)\n",
    "output = Dense(3, activation='softmax')(h)\n",
    "model = Model(input, output)\n",
    "model.compile('adam', loss='sparse_categorical_crossentropy', metrics=['accuracy'])\n",
    "model.summary()"
   ]
  },
  {
   "cell_type": "markdown",
   "metadata": {},
   "source": [
    "The first column displays the input, hidden (dense) and output (dense) layers as were defined. The middle column shows (None, 50) meaning the hidden layer accepts sequences of any batch size in length but fixed 50 dimensional vectors corresponding to the 50 nodes in that layer. The last column is the number of trainable parameters by layer, for the output layer this is the $3 \\times 50$ weights plus $3$ biases $= 150$. Finally, also displayed is the total number of trainable parameters of all layers. "
   ]
  },
  {
   "cell_type": "markdown",
   "metadata": {},
   "source": [
    "#### 13. Train a `Keras` neural network (1 mark)\n",
    "\n",
    "- Use the `.fit()` member method to train the network on the **training dataset** for **100 epochs** with a **batch size of 32**. Use **20% of the data for validation** and make sure to have `Keras` **shuffle** the training data between epochs. Save the fit history by doing `history_mld = .....`\n",
    "- Print the classification accuracy using the `.evaluate()` member method, for both the training and testing dataset. Comment on the results.\n",
    "- Plot val_loss and loss functions from the fit history. On the same plot, plot the sklearn curve from the excercise above. Note the sklearn NN does not provide a complementary validation loss history, so only plot the training loss.\n",
    "- Comment on the results of the overall accuracy compared to the scikit-learn method."
   ]
  },
  {
   "cell_type": "code",
   "execution_count": 275,
   "metadata": {},
   "outputs": [
    {
     "name": "stdout",
     "output_type": "stream",
     "text": [
      "Train on 5880 samples, validate on 1470 samples\n",
      "Epoch 1/100\n",
      "5880/5880 [==============================] - 0s 56us/sample - loss: 0.8057 - acc: 0.6459 - val_loss: 0.6514 - val_acc: 0.7456\n",
      "Epoch 2/100\n",
      "5880/5880 [==============================] - 0s 43us/sample - loss: 0.5990 - acc: 0.7675 - val_loss: 0.5844 - val_acc: 0.7667\n",
      "Epoch 3/100\n",
      "5880/5880 [==============================] - 0s 40us/sample - loss: 0.5518 - acc: 0.7806 - val_loss: 0.5547 - val_acc: 0.7755\n",
      "Epoch 4/100\n",
      "5880/5880 [==============================] - 0s 39us/sample - loss: 0.5280 - acc: 0.7927 - val_loss: 0.5321 - val_acc: 0.7830\n",
      "Epoch 5/100\n",
      "5880/5880 [==============================] - 0s 46us/sample - loss: 0.5112 - acc: 0.8009 - val_loss: 0.5201 - val_acc: 0.7959\n",
      "Epoch 6/100\n",
      "5880/5880 [==============================] - 0s 42us/sample - loss: 0.4979 - acc: 0.8044 - val_loss: 0.5065 - val_acc: 0.8000\n",
      "Epoch 7/100\n",
      "5880/5880 [==============================] - 0s 46us/sample - loss: 0.4870 - acc: 0.8099 - val_loss: 0.4955 - val_acc: 0.8007\n",
      "Epoch 8/100\n",
      "5880/5880 [==============================] - 0s 41us/sample - loss: 0.4780 - acc: 0.8145 - val_loss: 0.4905 - val_acc: 0.7986\n",
      "Epoch 9/100\n",
      "5880/5880 [==============================] - 0s 45us/sample - loss: 0.4704 - acc: 0.8126 - val_loss: 0.4804 - val_acc: 0.7993\n",
      "Epoch 10/100\n",
      "5880/5880 [==============================] - 0s 34us/sample - loss: 0.4624 - acc: 0.8179 - val_loss: 0.4760 - val_acc: 0.8041\n",
      "Epoch 11/100\n",
      "5880/5880 [==============================] - 0s 51us/sample - loss: 0.4565 - acc: 0.8209 - val_loss: 0.4722 - val_acc: 0.8000\n",
      "Epoch 12/100\n",
      "5880/5880 [==============================] - 0s 43us/sample - loss: 0.4508 - acc: 0.8233 - val_loss: 0.4672 - val_acc: 0.8048\n",
      "Epoch 13/100\n",
      "5880/5880 [==============================] - 0s 37us/sample - loss: 0.4459 - acc: 0.8240 - val_loss: 0.4654 - val_acc: 0.8041\n",
      "Epoch 14/100\n",
      "5880/5880 [==============================] - 0s 39us/sample - loss: 0.4406 - acc: 0.8260 - val_loss: 0.4649 - val_acc: 0.8082\n",
      "Epoch 15/100\n",
      "5880/5880 [==============================] - 0s 38us/sample - loss: 0.4368 - acc: 0.8276 - val_loss: 0.4606 - val_acc: 0.8109\n",
      "Epoch 16/100\n",
      "5880/5880 [==============================] - 0s 37us/sample - loss: 0.4325 - acc: 0.8301 - val_loss: 0.4571 - val_acc: 0.8082\n",
      "Epoch 17/100\n",
      "5880/5880 [==============================] - 0s 37us/sample - loss: 0.4293 - acc: 0.8291 - val_loss: 0.4593 - val_acc: 0.8088\n",
      "Epoch 18/100\n",
      "5880/5880 [==============================] - 0s 37us/sample - loss: 0.4256 - acc: 0.8323 - val_loss: 0.4520 - val_acc: 0.8088\n",
      "Epoch 19/100\n",
      "5880/5880 [==============================] - 0s 39us/sample - loss: 0.4232 - acc: 0.8347 - val_loss: 0.4532 - val_acc: 0.8068\n",
      "Epoch 20/100\n",
      "5880/5880 [==============================] - 0s 37us/sample - loss: 0.4196 - acc: 0.8332 - val_loss: 0.4547 - val_acc: 0.8082\n",
      "Epoch 21/100\n",
      "5880/5880 [==============================] - 0s 37us/sample - loss: 0.4173 - acc: 0.8345 - val_loss: 0.4516 - val_acc: 0.8088\n",
      "Epoch 22/100\n",
      "5880/5880 [==============================] - 0s 37us/sample - loss: 0.4141 - acc: 0.8352 - val_loss: 0.4504 - val_acc: 0.8122\n",
      "Epoch 23/100\n",
      "5880/5880 [==============================] - 0s 37us/sample - loss: 0.4113 - acc: 0.8381 - val_loss: 0.4535 - val_acc: 0.8088\n",
      "Epoch 24/100\n",
      "5880/5880 [==============================] - 0s 38us/sample - loss: 0.4093 - acc: 0.8393 - val_loss: 0.4514 - val_acc: 0.8122\n",
      "Epoch 25/100\n",
      "5880/5880 [==============================] - 0s 39us/sample - loss: 0.4068 - acc: 0.8420 - val_loss: 0.4488 - val_acc: 0.8116\n",
      "Epoch 26/100\n",
      "5880/5880 [==============================] - 0s 37us/sample - loss: 0.4043 - acc: 0.8413 - val_loss: 0.4460 - val_acc: 0.8116\n",
      "Epoch 27/100\n",
      "5880/5880 [==============================] - 0s 37us/sample - loss: 0.4019 - acc: 0.8444 - val_loss: 0.4463 - val_acc: 0.8075\n",
      "Epoch 28/100\n",
      "5880/5880 [==============================] - 0s 37us/sample - loss: 0.4001 - acc: 0.8432 - val_loss: 0.4470 - val_acc: 0.8116\n",
      "Epoch 29/100\n",
      "5880/5880 [==============================] - 0s 37us/sample - loss: 0.3984 - acc: 0.8435 - val_loss: 0.4494 - val_acc: 0.8122\n",
      "Epoch 30/100\n",
      "5880/5880 [==============================] - 0s 37us/sample - loss: 0.3963 - acc: 0.8469 - val_loss: 0.4486 - val_acc: 0.8136\n",
      "Epoch 31/100\n",
      "5880/5880 [==============================] - 0s 37us/sample - loss: 0.3950 - acc: 0.8490 - val_loss: 0.4457 - val_acc: 0.8143\n",
      "Epoch 32/100\n",
      "5880/5880 [==============================] - 0s 37us/sample - loss: 0.3930 - acc: 0.8461 - val_loss: 0.4444 - val_acc: 0.8197\n",
      "Epoch 33/100\n",
      "5880/5880 [==============================] - 0s 38us/sample - loss: 0.3911 - acc: 0.8498 - val_loss: 0.4437 - val_acc: 0.8170\n",
      "Epoch 34/100\n",
      "5880/5880 [==============================] - 0s 39us/sample - loss: 0.3899 - acc: 0.8493 - val_loss: 0.4459 - val_acc: 0.8170\n",
      "Epoch 35/100\n",
      "5880/5880 [==============================] - 0s 39us/sample - loss: 0.3883 - acc: 0.8481 - val_loss: 0.4438 - val_acc: 0.8177\n",
      "Epoch 36/100\n",
      "5880/5880 [==============================] - 0s 41us/sample - loss: 0.3862 - acc: 0.8514 - val_loss: 0.4468 - val_acc: 0.8150\n",
      "Epoch 37/100\n",
      "5880/5880 [==============================] - 0s 37us/sample - loss: 0.3846 - acc: 0.8515 - val_loss: 0.4455 - val_acc: 0.8197\n",
      "Epoch 38/100\n",
      "5880/5880 [==============================] - 0s 37us/sample - loss: 0.3826 - acc: 0.8517 - val_loss: 0.4438 - val_acc: 0.8211\n",
      "Epoch 39/100\n",
      "5880/5880 [==============================] - 0s 39us/sample - loss: 0.3819 - acc: 0.8524 - val_loss: 0.4455 - val_acc: 0.8184\n",
      "Epoch 40/100\n",
      "5880/5880 [==============================] - 0s 41us/sample - loss: 0.3802 - acc: 0.8527 - val_loss: 0.4418 - val_acc: 0.8170\n",
      "Epoch 41/100\n",
      "5880/5880 [==============================] - 0s 37us/sample - loss: 0.3794 - acc: 0.8529 - val_loss: 0.4467 - val_acc: 0.8218\n",
      "Epoch 42/100\n",
      "5880/5880 [==============================] - 0s 37us/sample - loss: 0.3780 - acc: 0.8526 - val_loss: 0.4439 - val_acc: 0.8190\n",
      "Epoch 43/100\n",
      "5880/5880 [==============================] - 0s 37us/sample - loss: 0.3766 - acc: 0.8543 - val_loss: 0.4460 - val_acc: 0.8204\n",
      "Epoch 44/100\n",
      "5880/5880 [==============================] - 0s 41us/sample - loss: 0.3756 - acc: 0.8526 - val_loss: 0.4420 - val_acc: 0.8184\n",
      "Epoch 45/100\n",
      "5880/5880 [==============================] - 0s 39us/sample - loss: 0.3739 - acc: 0.8536 - val_loss: 0.4452 - val_acc: 0.8218\n",
      "Epoch 46/100\n",
      "5880/5880 [==============================] - 0s 34us/sample - loss: 0.3727 - acc: 0.8551 - val_loss: 0.4460 - val_acc: 0.8170\n",
      "Epoch 47/100\n",
      "5880/5880 [==============================] - 0s 39us/sample - loss: 0.3715 - acc: 0.8537 - val_loss: 0.4426 - val_acc: 0.8224\n",
      "Epoch 48/100\n",
      "5880/5880 [==============================] - 0s 35us/sample - loss: 0.3698 - acc: 0.8563 - val_loss: 0.4474 - val_acc: 0.8211\n",
      "Epoch 49/100\n",
      "5880/5880 [==============================] - 0s 39us/sample - loss: 0.3698 - acc: 0.8534 - val_loss: 0.4431 - val_acc: 0.8224\n",
      "Epoch 50/100\n",
      "5880/5880 [==============================] - 0s 34us/sample - loss: 0.3686 - acc: 0.8532 - val_loss: 0.4446 - val_acc: 0.8190\n",
      "Epoch 51/100\n",
      "5880/5880 [==============================] - 0s 39us/sample - loss: 0.3670 - acc: 0.8549 - val_loss: 0.4467 - val_acc: 0.8218\n",
      "Epoch 52/100\n",
      "5880/5880 [==============================] - 0s 39us/sample - loss: 0.3667 - acc: 0.8556 - val_loss: 0.4398 - val_acc: 0.8218\n",
      "Epoch 53/100\n",
      "5880/5880 [==============================] - 0s 63us/sample - loss: 0.3657 - acc: 0.8560 - val_loss: 0.4392 - val_acc: 0.8204\n",
      "Epoch 54/100\n",
      "5880/5880 [==============================] - 0s 58us/sample - loss: 0.3637 - acc: 0.8573 - val_loss: 0.4383 - val_acc: 0.8197\n",
      "Epoch 55/100\n",
      "5880/5880 [==============================] - 0s 51us/sample - loss: 0.3631 - acc: 0.8568 - val_loss: 0.4399 - val_acc: 0.8190\n",
      "Epoch 56/100\n",
      "5880/5880 [==============================] - 0s 47us/sample - loss: 0.3623 - acc: 0.8580 - val_loss: 0.4418 - val_acc: 0.8197\n",
      "Epoch 57/100\n",
      "5880/5880 [==============================] - 0s 38us/sample - loss: 0.3614 - acc: 0.8561 - val_loss: 0.4396 - val_acc: 0.8218\n",
      "Epoch 58/100\n",
      "5880/5880 [==============================] - 0s 37us/sample - loss: 0.3603 - acc: 0.8612 - val_loss: 0.4427 - val_acc: 0.8211\n",
      "Epoch 59/100\n"
     ]
    },
    {
     "name": "stdout",
     "output_type": "stream",
     "text": [
      "5880/5880 [==============================] - 0s 37us/sample - loss: 0.3593 - acc: 0.8585 - val_loss: 0.4392 - val_acc: 0.8197\n",
      "Epoch 60/100\n",
      "5880/5880 [==============================] - 0s 34us/sample - loss: 0.3585 - acc: 0.8592 - val_loss: 0.4439 - val_acc: 0.8190\n",
      "Epoch 61/100\n",
      "5880/5880 [==============================] - 0s 37us/sample - loss: 0.3580 - acc: 0.8600 - val_loss: 0.4433 - val_acc: 0.8218\n",
      "Epoch 62/100\n",
      "5880/5880 [==============================] - 0s 38us/sample - loss: 0.3563 - acc: 0.8622 - val_loss: 0.4405 - val_acc: 0.8197\n",
      "Epoch 63/100\n",
      "5880/5880 [==============================] - 0s 47us/sample - loss: 0.3548 - acc: 0.8619 - val_loss: 0.4401 - val_acc: 0.8177\n",
      "Epoch 64/100\n",
      "5880/5880 [==============================] - 0s 34us/sample - loss: 0.3549 - acc: 0.8609 - val_loss: 0.4403 - val_acc: 0.8197\n",
      "Epoch 65/100\n",
      "5880/5880 [==============================] - 0s 34us/sample - loss: 0.3537 - acc: 0.8607 - val_loss: 0.4390 - val_acc: 0.8238\n",
      "Epoch 66/100\n",
      "5880/5880 [==============================] - 0s 48us/sample - loss: 0.3527 - acc: 0.8646 - val_loss: 0.4413 - val_acc: 0.8224\n",
      "Epoch 67/100\n",
      "5880/5880 [==============================] - 0s 35us/sample - loss: 0.3517 - acc: 0.8631 - val_loss: 0.4395 - val_acc: 0.8238\n",
      "Epoch 68/100\n",
      "5880/5880 [==============================] - 0s 36us/sample - loss: 0.3507 - acc: 0.8628 - val_loss: 0.4405 - val_acc: 0.8190\n",
      "Epoch 69/100\n",
      "5880/5880 [==============================] - 0s 34us/sample - loss: 0.3504 - acc: 0.8612 - val_loss: 0.4414 - val_acc: 0.8163\n",
      "Epoch 70/100\n",
      "5880/5880 [==============================] - 0s 42us/sample - loss: 0.3485 - acc: 0.8634 - val_loss: 0.4422 - val_acc: 0.8156\n",
      "Epoch 71/100\n",
      "5880/5880 [==============================] - 0s 37us/sample - loss: 0.3489 - acc: 0.8629 - val_loss: 0.4401 - val_acc: 0.8204\n",
      "Epoch 72/100\n",
      "5880/5880 [==============================] - 0s 37us/sample - loss: 0.3473 - acc: 0.8639 - val_loss: 0.4416 - val_acc: 0.8204\n",
      "Epoch 73/100\n",
      "5880/5880 [==============================] - 0s 34us/sample - loss: 0.3461 - acc: 0.8638 - val_loss: 0.4395 - val_acc: 0.8224\n",
      "Epoch 74/100\n",
      "5880/5880 [==============================] - 0s 43us/sample - loss: 0.3456 - acc: 0.8651 - val_loss: 0.4388 - val_acc: 0.8231\n",
      "Epoch 75/100\n",
      "5880/5880 [==============================] - 0s 37us/sample - loss: 0.3448 - acc: 0.8660 - val_loss: 0.4381 - val_acc: 0.8190\n",
      "Epoch 76/100\n",
      "5880/5880 [==============================] - 0s 37us/sample - loss: 0.3446 - acc: 0.8646 - val_loss: 0.4419 - val_acc: 0.8177\n",
      "Epoch 77/100\n",
      "5880/5880 [==============================] - 0s 43us/sample - loss: 0.3427 - acc: 0.8673 - val_loss: 0.4387 - val_acc: 0.8197\n",
      "Epoch 78/100\n",
      "5880/5880 [==============================] - 0s 39us/sample - loss: 0.3423 - acc: 0.8651 - val_loss: 0.4398 - val_acc: 0.8211\n",
      "Epoch 79/100\n",
      "5880/5880 [==============================] - 0s 38us/sample - loss: 0.3419 - acc: 0.8663 - val_loss: 0.4427 - val_acc: 0.8190\n",
      "Epoch 80/100\n",
      "5880/5880 [==============================] - 0s 47us/sample - loss: 0.3405 - acc: 0.8646 - val_loss: 0.4413 - val_acc: 0.8197\n",
      "Epoch 81/100\n",
      "5880/5880 [==============================] - 0s 41us/sample - loss: 0.3406 - acc: 0.8645 - val_loss: 0.4429 - val_acc: 0.8218\n",
      "Epoch 82/100\n",
      "5880/5880 [==============================] - 0s 45us/sample - loss: 0.3385 - acc: 0.8668 - val_loss: 0.4419 - val_acc: 0.8211\n",
      "Epoch 83/100\n",
      "5880/5880 [==============================] - 0s 51us/sample - loss: 0.3390 - acc: 0.8677 - val_loss: 0.4391 - val_acc: 0.8245\n",
      "Epoch 84/100\n",
      "5880/5880 [==============================] - 0s 41us/sample - loss: 0.3377 - acc: 0.8672 - val_loss: 0.4431 - val_acc: 0.8190\n",
      "Epoch 85/100\n",
      "5880/5880 [==============================] - 0s 39us/sample - loss: 0.3370 - acc: 0.8662 - val_loss: 0.4396 - val_acc: 0.8224\n",
      "Epoch 86/100\n",
      "5880/5880 [==============================] - 0s 43us/sample - loss: 0.3363 - acc: 0.8663 - val_loss: 0.4387 - val_acc: 0.8231\n",
      "Epoch 87/100\n",
      "5880/5880 [==============================] - 0s 42us/sample - loss: 0.3356 - acc: 0.8690 - val_loss: 0.4402 - val_acc: 0.8224\n",
      "Epoch 88/100\n",
      "5880/5880 [==============================] - 0s 41us/sample - loss: 0.3364 - acc: 0.8711 - val_loss: 0.4471 - val_acc: 0.8184\n",
      "Epoch 89/100\n",
      "5880/5880 [==============================] - 0s 45us/sample - loss: 0.3341 - acc: 0.8675 - val_loss: 0.4427 - val_acc: 0.8184\n",
      "Epoch 90/100\n",
      "5880/5880 [==============================] - 0s 38us/sample - loss: 0.3341 - acc: 0.8675 - val_loss: 0.4431 - val_acc: 0.8184\n",
      "Epoch 91/100\n",
      "5880/5880 [==============================] - 0s 51us/sample - loss: 0.3330 - acc: 0.8721 - val_loss: 0.4428 - val_acc: 0.8204\n",
      "Epoch 92/100\n",
      "5880/5880 [==============================] - 0s 42us/sample - loss: 0.3321 - acc: 0.8713 - val_loss: 0.4460 - val_acc: 0.8156\n",
      "Epoch 93/100\n",
      "5880/5880 [==============================] - 0s 39us/sample - loss: 0.3323 - acc: 0.8667 - val_loss: 0.4447 - val_acc: 0.8211\n",
      "Epoch 94/100\n",
      "5880/5880 [==============================] - 0s 38us/sample - loss: 0.3308 - acc: 0.8680 - val_loss: 0.4426 - val_acc: 0.8204\n",
      "Epoch 95/100\n",
      "5880/5880 [==============================] - 0s 47us/sample - loss: 0.3311 - acc: 0.8689 - val_loss: 0.4430 - val_acc: 0.8197\n",
      "Epoch 96/100\n",
      "5880/5880 [==============================] - 0s 38us/sample - loss: 0.3296 - acc: 0.8685 - val_loss: 0.4422 - val_acc: 0.8204\n",
      "Epoch 97/100\n",
      "5880/5880 [==============================] - 0s 45us/sample - loss: 0.3298 - acc: 0.8689 - val_loss: 0.4457 - val_acc: 0.8204\n",
      "Epoch 98/100\n",
      "5880/5880 [==============================] - 0s 41us/sample - loss: 0.3282 - acc: 0.8679 - val_loss: 0.4453 - val_acc: 0.8224\n",
      "Epoch 99/100\n",
      "5880/5880 [==============================] - 0s 45us/sample - loss: 0.3280 - acc: 0.8701 - val_loss: 0.4457 - val_acc: 0.8170\n",
      "Epoch 100/100\n",
      "5880/5880 [==============================] - 0s 41us/sample - loss: 0.3278 - acc: 0.8675 - val_loss: 0.4429 - val_acc: 0.8218\n"
     ]
    }
   ],
   "source": [
    "model_history = model.fit(X_train, y_train, epochs=100, batch_size=32, shuffle=True, validation_split=0.2)"
   ]
  },
  {
   "cell_type": "code",
   "execution_count": 276,
   "metadata": {},
   "outputs": [
    {
     "name": "stdout",
     "output_type": "stream",
     "text": [
      "7350/7350 [==============================] - 0s 34us/sample - loss: 0.3444 - acc: 0.8645\n",
      "3150/3150 [==============================] - 0s 27us/sample - loss: 0.4417 - acc: 0.8219\n",
      "Accuracy Training: 0.8644898\n",
      "Accuracy Testing: 0.8219048\n"
     ]
    }
   ],
   "source": [
    "res_loss_train, accuracy_train = model.evaluate(X_train, y_train)\n",
    "res_loss_test, accuracy_test = model.evaluate(X_test, y_test)\n",
    "print(\"Accuracy Training:\",accuracy_train)\n",
    "print(\"Accuracy Testing:\",accuracy_test)"
   ]
  },
  {
   "cell_type": "markdown",
   "metadata": {},
   "source": [
    "## 5. Regularisation (1.5 marks)\n",
    "---\n",
    "This section covers **2** exercises on the impact of weight regularisaton. Note that $L_{1}$- and $L_{2}$-regularisation may also be applied to the activation of intermediate layers. Also, a similar regularising effect could be achieved using **dropout** regularisation, which you are encouraged to try out, but which we won't study in this CP exercise."
   ]
  },
  {
   "cell_type": "code",
   "execution_count": 32,
   "metadata": {},
   "outputs": [],
   "source": [
    "# Relevant import(s) for this section\n",
    "from tensorflow.python.keras.regularizers import l1_l2"
   ]
  },
  {
   "cell_type": "markdown",
   "metadata": {},
   "source": [
    "#### 14. Define `Keras` model factory method (0.5 mark)\n",
    "\n",
    "- Define a python function called `big_model_fn` which takes the followng three arguments:\n",
    "    - `l1`: A float specifying the $L_{1}$ regularisation factor (default value: 0)\n",
    "    - `l2`: A float specifying the $L_{2}$ regularisation factor (default value: 0)\n",
    "    - `name`: A string, specifying the name of the model (default value: None)\n",
    "- Indside the function, you should:\n",
    "    - Construct a `Keras` model using the functional API, which has:\n",
    "        - An input layer with the same number of nodes as the number of features in `X`.\n",
    "        - **Two** densely connected hidden layer with **100 nodes** each, both equipped with **ReLU activation**.\n",
    "        - Both hidden layers should be subject to kernel regularisation (_i.e._ weight regularisation) with the regularisation factors specified as an input.\n",
    "        - A densely connected output layer with **3 nodes** (the number of types of weather we're classifying) equipped with **softmax activation**.\n",
    "        - A name given by the corresponding argument.\n",
    "    - Compile the model in the same way as in **Exercise 14.**\n",
    "- The function should return the compiled `Keras` model. \n",
    "\n",
    "The method will provide a convenient way of constructing and compiling a number of \"big\"/deep `Keras` models which differ only by their regularisation and name."
   ]
  },
  {
   "cell_type": "code",
   "execution_count": null,
   "metadata": {},
   "outputs": [],
   "source": []
  },
  {
   "cell_type": "markdown",
   "metadata": {},
   "source": [
    "#### 15. Train \"big\" models with and without regularisation (1 mark)\n",
    "\n",
    "- Construct three \"big\" model using the factory method:\n",
    "     - One with default parameters\n",
    "     - One with `l1=0.0003` and  `name='Big model (L1-regularised)'`\n",
    "     - One with `l2=0.003`  and `name='Big model (L2-regularised)'`\n",
    "- Train each one as in **Exercise 15.**\n",
    "- Compare first the loss history of the un-regularised \"big\" model to that of the small model from **Exercise 15** using the `plot.loss()` method.\n",
    "- Then, compare the loss histories of all three \"big\" models with that of the small model.\n",
    "- Plot the loss and val loss of all 4 models and discuss the results. Target these points:\n",
    "    - Compare the performance of deep vs shallow models on the testing sets\n",
    "    - Compare the level of ovetraining (training vs testing loss)\n",
    "    - Note: Don't be alarmed if the shallow network performs slightly better that the deeper ones, this is dataset dependant."
   ]
  },
  {
   "cell_type": "markdown",
   "metadata": {},
   "source": [
    "## 6. Bonus: Hyperparameter optimisation (1\\*bonus\\* mark)\n",
    "---"
   ]
  },
  {
   "cell_type": "markdown",
   "metadata": {},
   "source": [
    "This section covers **1** exercise on the on hyperparameter optimisation. "
   ]
  },
  {
   "cell_type": "code",
   "execution_count": 38,
   "metadata": {},
   "outputs": [],
   "source": [
    "# Relevant import(s) for this section\n",
    "from sklearn.model_selection import GridSearchCV, cross_val_score"
   ]
  },
  {
   "cell_type": "markdown",
   "metadata": {},
   "source": [
    "---\n",
    "_**Comment on simplified hyperparameter optimisation example:**_ You will try to perform a simple optimisation using a grid search\n",
    "\n",
    "For convenience, we will be using the `scikit-learn` `MLPClassifier` as our base class, but the same principles apply to just about any ML model constructed in any framework. Just as in the examples in the lecture, we will restrict the hyperparameter space to just two dimensions:\n",
    "\n",
    "* the number of hidden layers, `nb_layers`, and\n",
    "* the number of nodes per hidden layer, `nb_nodes_per_layer`, which is taken to be the same for all hidden layers for simplicity.\n",
    "\n",
    "Since the `scikit-learn` neural network classifier class doesn't support these two hyperparameters by default, provided is a simple wrapper class, that works exactly like `MLPClassifier`, it just takes the two parameters above as arguments in the constructor. Don't worry about understanding it in detail. This allows us to call "
   ]
  },
  {
   "cell_type": "code",
   "execution_count": 39,
   "metadata": {},
   "outputs": [],
   "source": [
    "class MLPClassifierWrapper(MLPClassifier):\n",
    "    \"\"\"\n",
    "    Wrapper around `sklearn.neural_network.MLPClassifier` with a convenient set \n",
    "    of properties (nb_layers and nb_nodes_per_layer) suitable for hyperparameter \n",
    "    optimisation exercises.\n",
    "    \n",
    "    Arguments:\n",
    "        nb_layers: Integer, number of hidden layers\n",
    "        nb_nodes_per_layer: Number of nodes per hidden layer, taken to be the \n",
    "            same for all for convenience.\n",
    "    \"\"\"\n",
    "\n",
    "    def __init__ (self, nb_layers=1, nb_nodes_per_layer=100, **kwargs):\n",
    "        \n",
    "        # Member variables\n",
    "        self._nb_layers = nb_layers\n",
    "        self._nb_nodes_per_layer = nb_nodes_per_layer  \n",
    "        \n",
    "        # Call base class (`MLPClassifier`) constructor\n",
    "        super(MLPClassifierWrapper, self).__init__(**kwargs)\n",
    "        \n",
    "        # Trigger `_set_architecture`\n",
    "        self._set_architecture()\n",
    "        return\n",
    "\n",
    "    @property\n",
    "    def nb_layers(self):\n",
    "        return self._nb_layers\n",
    "    \n",
    "    @property\n",
    "    def nb_nodes_per_layer(self):\n",
    "        return self._nb_nodes_per_layer \n",
    "\n",
    "    @nb_layers.setter\n",
    "    def nb_layers(self, value):\n",
    "        self._nb_layers = value\n",
    "        self._set_architecture()\n",
    "        return\n",
    "    \n",
    "    @nb_nodes_per_layer.setter\n",
    "    def nb_nodes_per_layer(self, value):\n",
    "        self._nb_nodes_per_layer = value\n",
    "        self._set_architecture()\n",
    "        return\n",
    "    \n",
    "    def _set_architecture (self):\n",
    "        \"\"\"\n",
    "        Sets the `hidden_layer_sizes` parameter of the base `MLPClassifier` \n",
    "        class, based on the two custom parameters we have chosen.\n",
    "        \"\"\"\n",
    "        \n",
    "        self.hidden_layer_sizes = tuple([self._nb_nodes_per_layer for _ in range(self._nb_layers)])\n",
    "        return\n",
    "    pass"
   ]
  },
  {
   "cell_type": "markdown",
   "metadata": {},
   "source": [
    "---"
   ]
  },
  {
   "cell_type": "markdown",
   "metadata": {},
   "source": [
    "#### 16. Perform a grid search (1 mark)\n",
    "\n",
    "- Construct a python `dict` called `param_grid` which specifies the hyperparameter configurations to try for each parameter dimension. That is, it should have\n",
    "    - `\"nb_layers\"` and `\"nb_nodes_per_layer\"` as keys, and\n",
    "    - lists of integers as values, corresponding to the values of each parameter you want to try out (_e.g._ [1, 2, ...])\n",
    "- Choose a reasonable set of values for each parameter; about a handful for each.\n",
    "- Use the `GridSearchCV` class to perform _**3**_**-fold** cross validation (CV) optimisation of the validation **accuracy**\n",
    "    - Hint: You can use the `n_jobs=...` argument to enable multi-processing, thereby speeding up the optimisation, at the expense of reproducibility.\n",
    "- The base classifier should be an instance of `MLPClassifierWrapper` set to train for **100 epochs**.\n",
    "- Present the results:\n",
    "    - Print the best parameter configuration found. GridSearchCV has a public member which stores this. Read doc.\n",
    "    - Print the mean and standard deviation of the test scores for the best configuration found. (_Hint:_ These can be found in the `.cv_results_` attribute)\n",
    "    - Plot the optimisation results using the `plot.optimisation` method.\n",
    "- Discuss the results. What would happen if the best result is foundon the edge of the parameter grid?"
   ]
  }
 ],
 "metadata": {
  "kernelspec": {
   "display_name": "Python 3 (ipykernel)",
   "language": "python",
   "name": "python3"
  },
  "language_info": {
   "codemirror_mode": {
    "name": "ipython",
    "version": 3
   },
   "file_extension": ".py",
   "mimetype": "text/x-python",
   "name": "python",
   "nbconvert_exporter": "python",
   "pygments_lexer": "ipython3",
   "version": "3.7.10"
  }
 },
 "nbformat": 4,
 "nbformat_minor": 2
}
