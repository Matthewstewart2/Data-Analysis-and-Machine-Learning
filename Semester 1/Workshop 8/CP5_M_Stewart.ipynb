{
 "cells": [
  {
   "cell_type": "markdown",
   "id": "63af062d",
   "metadata": {},
   "source": [
    "## CP5: Data selection, p-values, hypothesis testing and significance interpretation"
   ]
  },
  {
   "cell_type": "code",
   "execution_count": 60,
   "id": "4b271a4f",
   "metadata": {},
   "outputs": [],
   "source": [
    "# imports\n",
    "import numpy as np\n",
    "import matplotlib.pyplot as plt\n",
    "import scipy.stats\n",
    "from scipy.special import erfinv\n",
    "from scipy.integrate import quad\n",
    "from scipy.stats import norm\n",
    "from scipy.optimize import minimize"
   ]
  },
  {
   "cell_type": "code",
   "execution_count": 61,
   "id": "316f0742",
   "metadata": {},
   "outputs": [],
   "source": [
    "class Linear:\n",
    "    # Class for linear background function\n",
    "    def __init__(self, intercept=20., slope=-1., XMIN=0., XMAX=20., NBINS=100):\n",
    "        # background parameters\n",
    "        self.XMIN = XMIN\n",
    "        self.XMAX = XMAX\n",
    "        self.intercept = intercept\n",
    "        self.slope = slope\n",
    "        # chose number of bins that is appropriate for the size of the statistics sample\n",
    "        self.NBINS = NBINS\n",
    "        self.mass = []\n",
    "        \n",
    "    def evaluate(self , t):\n",
    "        # evaluate the expected value of function for a given t\n",
    "        return self.intercept + self.slope * t\n",
    "    \n",
    "    def maxval(self):\n",
    "        # get the maximum value of funciton ie the y intercept as negative gradient\n",
    "        # would normally just use self.intercept but code template called a method named maxval\n",
    "        return self.intercept + self.slope * self.XMIN\n",
    "\n",
    "    def next(self):\n",
    "        # returns one linearly distributed random number in the XMIN to XMAX range\n",
    "        doLoop = True\n",
    "        # keep trying until one is accepted\n",
    "        while(doLoop ):\n",
    "            # start with uniform random number in [lolimit , hilimit)\n",
    "            #x = np.random.uniform(self.lolimit , self.hilimit)\n",
    "            x = np.random.uniform(self.XMIN ,self.XMAX)\n",
    "            y1 = self.evaluate(x)\n",
    "            y2 = np.random.uniform(0, self.maxval())\n",
    "            # use box method to accept x when a second uniform random number < the function value at x\n",
    "            if (y2 < y1):\n",
    "                filtered_x = x\n",
    "                self.mass.append(filtered_x)\n",
    "                return filtered_x\n",
    "        \n",
    "    def integral(self, x1, x2):\n",
    "        # integrate linear function with limits x1 to x2\n",
    "        return quad(self.evaluate, x1, x2)"
   ]
  },
  {
   "cell_type": "code",
   "execution_count": 62,
   "id": "7ec28277",
   "metadata": {},
   "outputs": [],
   "source": [
    "class Gaussian:\n",
    "    # class for Gaussian signal function\n",
    "    def __init__(self, mean=10., sigma=0.5, NBINS=100):\n",
    "        # signal parameters\n",
    "        self.mean = mean\n",
    "        self.sigma = sigma\n",
    "        # chose number of bins that is appropriate for the size of the statistics sample\n",
    "        self.NBINS = NBINS\n",
    "        self.mass = []\n",
    "    \n",
    "    def next(self):\n",
    "        # returns one Gaussian distributed random number from gaussian with given mean and sigma\n",
    "        x = np.random.normal(self.mean, self.sigma)\n",
    "        self.mass.append(x)\n",
    "        return x\n",
    "    \n",
    "    def func(self, x):\n",
    "        # evaluate the expected value of function for a given x\n",
    "        return norm.pdf(x, self.mean, self.sigma)\n",
    "    \n",
    "    def integral(self, x1, x2):\n",
    "        # integrate Gaussian function with limits x1 to x2\n",
    "        return quad(self.func, x1, x2)"
   ]
  },
  {
   "cell_type": "code",
   "execution_count": 63,
   "id": "23da3d74",
   "metadata": {},
   "outputs": [],
   "source": [
    "class SignalWithBackground:\n",
    "    # class to generate either a signal or background count\n",
    "    def __init__(self, mean, sigma, sig_fraction, intercept, slope, XMIN, XMAX):\n",
    "        # make linear background and Gaussian signal objects\n",
    "        self.sig_fraction = sig_fraction\n",
    "        self.signal = Gaussian(mean, sigma)\n",
    "        self.background = Linear(intercept, slope, XMIN, XMAX)\n",
    "        # empty lists for separate sig and bgd as well as combined list\n",
    "        self.mass_sig = []\n",
    "        self.mass_bgd = []\n",
    "        self.mass = []\n",
    "        \n",
    "    def next(self):\n",
    "        # add one count of signal or background with probability given by the expected signal fraction\n",
    "        q = np.random.uniform ()\n",
    "        if( q < self.sig_fraction ):\n",
    "            # if here , we will draw x from signal distribution\n",
    "            filtered_x = self.signal.next()\n",
    "            self.mass_sig.append(filtered_x)\n",
    "        else:\n",
    "            # if here , we will draw x from background distribuion\n",
    "            filtered_x = self.background.next()\n",
    "            self.mass_bgd.append(filtered_x)\n",
    "            \n",
    "        self.mass.append(filtered_x)\n",
    "        return filtered_x "
   ]
  },
  {
   "cell_type": "code",
   "execution_count": 165,
   "id": "952ab272",
   "metadata": {},
   "outputs": [],
   "source": [
    "def singleToy(nevents_sig = 300, nevents_bgd = 10000, show = True, fit = False, fit_ax_i = 2):\n",
    "        # one run of a toy experiment\n",
    "        sig_fraction = nevents_sig /( nevents_bgd + nevents_sig)\n",
    "        # background parameters\n",
    "        XMIN = 0.\n",
    "        XMAX = 20.\n",
    "        intercept = 20.\n",
    "        slope = -1.\n",
    "        # signal parameters\n",
    "        mean = 10.\n",
    "        sigma = 0.5\n",
    "        # chose number of bins that is appropriate for the size of the statistics sample\n",
    "        NBINS = 100\n",
    "        #Create the pdf\n",
    "        pdf = SignalWithBackground(mean, sigma, sig_fraction, intercept, slope, XMIN, XMAX)\n",
    "        \n",
    "        # populates sig, bgd and combined lists with the given number of total points\n",
    "        for i in range( nevents_sig + nevents_bgd ): pdf.next()\n",
    "\n",
    "        # retrieve the mass values for signal , background and their sum\n",
    "        data = pdf.mass\n",
    "        sig_data = pdf.mass_sig\n",
    "        bgd_data = pdf.mass_bgd\n",
    "        \n",
    "        # plot things on same page\n",
    "        myRange = (XMIN , XMAX)\n",
    "        fig , axs = plt.subplots(3,1, sharex='col', figsize=(8, 12))\n",
    "        \n",
    "        axs[0].set_title(\"Signal distribution (\" + str(len(sig_data )) + \" entries)\")\n",
    "        axs[1].set_title(\"Background distribution (\" + str(len(bgd_data )) + \" entries)\")\n",
    "        axs[2].set_title(\"Total distribution (\" + str(len(data)) + \" entries)\")\n",
    "        axs[2].set_xlabel('X')\n",
    "        \n",
    "        axs[0].hist(sig_data , bins=NBINS , range=myRange, density=fit)\n",
    "        # keep the counts and bin edges of second and third hists for fitting\n",
    "        bgd_N_obs, bgd_bin_edges, _ = axs[1].hist(bgd_data , bins = NBINS, density = fit)\n",
    "        tot_N_obs, tot_bin_edges, _ = axs[2].hist(data , bins = NBINS, density = fit)\n",
    "        \n",
    "        N_obs_list = [bgd_N_obs, tot_N_obs]\n",
    "                \n",
    "        if fit:\n",
    "            # passing fit=True means fits for H0 and H1 are carried out on normalised hists\n",
    "            tot_bin_edges = np.array(tot_bin_edges)\n",
    "            half_bin_width = (tot_bin_edges[1] - tot_bin_edges[0]) / 2\n",
    "            xs = (tot_bin_edges + half_bin_width)[:-1]\n",
    "            \n",
    "            # rough initial guess hard coded from trial and error\n",
    "            initial_guess = [-4e-3, 0.12]\n",
    "            # H0 fit using mininize, Nelder-mead worked fine when not worried about parameter errors\n",
    "            optimize_result1 = minimize(H0_chi2_equiv, initial_guess, args=(xs, N_obs_list[fit_ax_i - 1]), method = 'Nelder-Mead')\n",
    "            if show:\n",
    "                # print details of fit if requested\n",
    "                print('H0 fit result:')\n",
    "                print(optimize_result1)\n",
    "                print('')\n",
    "            best_m, best_c = optimize_result1.x\n",
    "            # plot best fitting line on top of hist\n",
    "            axs[fit_ax_i].plot(xs, H0_func(xs, best_m, best_c), 'r', label='H0 fit')\n",
    "\n",
    "            initial_guess = [-0.02, 0.6, 0.04]\n",
    "            # H1 fit using minimize\n",
    "            optimize_result2 = minimize(H1_chi2_equiv, initial_guess, args=(xs, N_obs_list[fit_ax_i - 1]), method = 'Nelder-Mead')\n",
    "            if show:\n",
    "                print('H1 fit result:')\n",
    "                print(optimize_result2)\n",
    "                print('')\n",
    "            best_m, best_c, best_A = optimize_result2.x\n",
    "            axs[fit_ax_i].plot(xs, H1_func(xs, best_m, best_c, best_A), label='H1 fit')\n",
    "            axs[fit_ax_i].legend(loc='best')\n",
    "        \n",
    "        if not show:\n",
    "            # won't show plots if requested, ie for when we repeat 1000 times\n",
    "            plt.close(fig)\n",
    "            \n",
    "        if fit:\n",
    "            # return minimum chi2 for H0 and H1\n",
    "            return optimize_result1.fun, optimize_result2.fun"
   ]
  },
  {
   "cell_type": "code",
   "execution_count": 65,
   "id": "23ec96fb",
   "metadata": {},
   "outputs": [],
   "source": [
    "def H0_func(xs, m, c):\n",
    "    # evaluate linear function, this time for a whole list of bin positions so can return an array\n",
    "    return m * xs + c"
   ]
  },
  {
   "cell_type": "code",
   "execution_count": 66,
   "id": "50f1412f",
   "metadata": {},
   "outputs": [],
   "source": [
    "def H1_func(xs, m, c, A):\n",
    "    # evaluate linear background + Gaussian signal for list of bin positions\n",
    "    mean = 10.0\n",
    "    sigma = 0.5\n",
    "    signal = norm.pdf(xs, mean, sigma)\n",
    "    bgd = m * xs + c\n",
    "    bgd = bgd / quad(H0_func, xs[0], xs[-1], args=(m, c))[0]\n",
    "    # Both terms are normalised separately so signal strength A (between 0 and 1 for no signal to all signal) keeps sum normalised\n",
    "    N_expect = A * signal + (1 - A) * bgd\n",
    "    return N_expect"
   ]
  },
  {
   "cell_type": "code",
   "execution_count": 157,
   "id": "ae408ad1",
   "metadata": {},
   "outputs": [],
   "source": [
    "def H0_chi2_equiv(params, xs, N_obs):\n",
    "    # chi2 equivalent to log-likelihood for H0, returns value of chi2 for given gradient m and intercept c\n",
    "    m, c = params\n",
    "    N_expect = m * xs + c\n",
    "    # normalise to be safe even though using a normalised histogram anyway\n",
    "    N_expect = N_expect / quad(H0_func, xs[0], xs[-1], args=(m, c))[0]\n",
    "    # occasionally zero observed counts in high x bins or negative counts predicted, so force to be tiny instead of < 0\n",
    "    for i,N in enumerate(N_expect):\n",
    "        if N <= 0:\n",
    "            N_expect[i] = 1e-6\n",
    "    for i,N in enumerate(N_obs):\n",
    "        if N <= 0:\n",
    "            N_obs[i] = 1e-6\n",
    "    # expression [4] from notes\n",
    "    chi2 = 2 * np.sum(N_expect - N_obs + N_obs * np.log(N_obs / N_expect))\n",
    "    return chi2"
   ]
  },
  {
   "cell_type": "code",
   "execution_count": 158,
   "id": "ad601cbe",
   "metadata": {},
   "outputs": [],
   "source": [
    "def H1_chi2_equiv(params, xs, N_obs):\n",
    "    # chi2 equivalent to log-likelihood for H1, returns value of chi2 for given background gradient m intercept c and signal strength A\n",
    "    # H1 allows background m and c to vary but is defined with fixed signal mean and sigma\n",
    "    mean = 10.0\n",
    "    sigma = 0.5\n",
    "    m, c, A = params\n",
    "    signal = norm.pdf(xs, mean, sigma)\n",
    "    bgd = m * xs + c\n",
    "    bgd = bgd / quad(H0_func, xs[0], xs[-1], args=(m, c))[0]\n",
    "    N_expect = A * signal + (1 - A) * bgd\n",
    "    for i,N in enumerate(N_expect):\n",
    "        if N <= 0:\n",
    "            N_expect[i] = 1e-6\n",
    "    for i,N in enumerate(N_obs):\n",
    "        if N <= 0:\n",
    "            N_obs[i] = 1e-6\n",
    "    chi2 = 2 * np.sum(N_expect - N_obs + N_obs * np.log(N_obs / N_expect))\n",
    "    return chi2"
   ]
  },
  {
   "cell_type": "markdown",
   "id": "5d323a58",
   "metadata": {},
   "source": [
    "# Problem 1"
   ]
  },
  {
   "cell_type": "code",
   "execution_count": 166,
   "id": "ceed1286",
   "metadata": {},
   "outputs": [
    {
     "data": {
      "image/png": "[encoded data removed]",
      "text/plain": [
       "<Figure size 576x864 with 3 Axes>"
      ]
     },
     "metadata": {
      "needs_background": "light"
     },
     "output_type": "display_data"
    }
   ],
   "source": [
    "# single toy experiment\n",
    "singleToy()"
   ]
  },
  {
   "cell_type": "markdown",
   "id": "fd88c2a1",
   "metadata": {},
   "source": [
    "# Problem 2"
   ]
  },
  {
   "cell_type": "code",
   "execution_count": 203,
   "id": "b3253d03",
   "metadata": {},
   "outputs": [
    {
     "name": "stdout",
     "output_type": "stream",
     "text": [
      "pvalue is:  0.0013498980319969402\n",
      "n_sigmas is:  3.2051549205206973\n"
     ]
    }
   ],
   "source": [
    "# lambda\n",
    "lam = 10000\n",
    "# k\n",
    "k = lam + 300\n",
    "\n",
    "# Poisson tends to Gaussian with mean=lambda sigma=sqrt(lambda) from notes\n",
    "nb_pts_gaussian = Gaussian(mean = lam, sigma = (lam)**0.5)\n",
    "# haven't divided by entire integral for normalisation, instead used normalised Gaussian pdf\n",
    "pvalue = nb_pts_gaussian.integral(k, np.inf)[0]\n",
    "n_sigmas = erfinv (1 - pvalue) * np.sqrt (2)\n",
    "print('pvalue is: ', pvalue)\n",
    "print('n_sigmas is: ', n_sigmas)"
   ]
  },
  {
   "cell_type": "markdown",
   "id": "51b94663",
   "metadata": {},
   "source": [
    "10300 is roughly 3.2 sigma from the mean with a probability of ~0.001 of seeing 10300 or greater counts appear randomly from the background alone. Therefore, we reject the null hypothesis that there is no signal."
   ]
  },
  {
   "cell_type": "markdown",
   "id": "2c8836b4",
   "metadata": {},
   "source": [
    "# Problem 3"
   ]
  },
  {
   "cell_type": "code",
   "execution_count": 114,
   "id": "920062e8",
   "metadata": {},
   "outputs": [
    {
     "name": "stdout",
     "output_type": "stream",
     "text": [
      "0.5\n"
     ]
    }
   ],
   "source": [
    "xmin = 0.0\n",
    "xmax = 20.0\n",
    "new_xmin = 5.0\n",
    "new_xmax = 15.0\n",
    "\n",
    "bgd = Linear()\n",
    "\n",
    "# calculate area under linear function for original region (x=1 to x=20)\n",
    "orig_area = bgd.integral(xmin, xmax)[0]\n",
    "# calculate area under linear function for new region (x=5 to x=15)\n",
    "new_area = bgd.integral(new_xmin, new_xmax)[0]\n",
    "\n",
    "new_area_frac = (new_area / orig_area)\n",
    "print(new_area_frac)"
   ]
  },
  {
   "cell_type": "markdown",
   "id": "ee1320cb",
   "metadata": {},
   "source": [
    "The number of expected background events in the region is half of the number expected from the full range as expected."
   ]
  },
  {
   "cell_type": "code",
   "execution_count": 217,
   "id": "728e9c6a",
   "metadata": {},
   "outputs": [
    {
     "name": "stdout",
     "output_type": "stream",
     "text": [
      "new pvalue is:  1.1045248513590364e-05\n",
      "new n_sigmas is:  4.39562892080614\n"
     ]
    }
   ],
   "source": [
    "lam = 5000\n",
    "k = lam + 300\n",
    "\n",
    "nb_pts_gaussian = Gaussian(mean = lam, sigma = (lam)**0.5)\n",
    "pvalue = nb_pts_gaussian.integral(k, np.inf)[0]\n",
    "# Z-Score is given by distance from mean in units of sigma\n",
    "n_sigmas = erfinv (1 - pvalue) * np.sqrt (2)\n",
    "print('new pvalue is: ', pvalue)\n",
    "print('new n_sigmas is: ', n_sigmas)"
   ]
  },
  {
   "cell_type": "markdown",
   "id": "1717546f",
   "metadata": {},
   "source": [
    "Now the probability of this occuring randomly from just the background is even smaller than in problem 2. This is because we are not just asking how likely is it to see an extra 300 events than expected, but specifically an extra 300 that all fall in a smaller range of x=5 to x=15. The deviation of about 4.4 sigma is more significant than in problem 2 as expected."
   ]
  },
  {
   "cell_type": "markdown",
   "id": "acb7faec",
   "metadata": {},
   "source": [
    "# Probem 4"
   ]
  },
  {
   "cell_type": "code",
   "execution_count": 194,
   "id": "03a5a610",
   "metadata": {},
   "outputs": [
    {
     "name": "stdout",
     "output_type": "stream",
     "text": [
      "H0 fit result:\n",
      " final_simplex: (array([[-0.00475662,  0.0954624 ],\n",
      "       [-0.00475416,  0.0954137 ],\n",
      "       [-0.00476088,  0.09554875]]), array([0.05427754, 0.05427754, 0.05427754]))\n",
      "           fun: 0.05427753504304673\n",
      "       message: 'Optimization terminated successfully.'\n",
      "          nfev: 51\n",
      "           nit: 27\n",
      "        status: 0\n",
      "       success: True\n",
      "             x: array([-0.00475662,  0.0954624 ])\n",
      "\n",
      "H1 fit result:\n",
      " final_simplex: (array([[-0.02185492,  0.43855523,  0.01920379],\n",
      "       [-0.02185159,  0.43849268,  0.01915131],\n",
      "       [-0.02185531,  0.43858958,  0.01919837],\n",
      "       [-0.02186027,  0.43865228,  0.01913074]]), array([0.03678155, 0.03678158, 0.03678161, 0.03678167]))\n",
      "           fun: 0.03678154693079716\n",
      "       message: 'Optimization terminated successfully.'\n",
      "          nfev: 95\n",
      "           nit: 50\n",
      "        status: 0\n",
      "       success: True\n",
      "             x: array([-0.02185492,  0.43855523,  0.01920379])\n",
      "\n"
     ]
    },
    {
     "data": {
      "image/png": "[encoded data removed]",
      "text/plain": [
       "<Figure size 576x864 with 3 Axes>"
      ]
     },
     "metadata": {
      "needs_background": "light"
     },
     "output_type": "display_data"
    }
   ],
   "source": [
    "# single toy experiment\n",
    "# arguments are (150 signal events, 10000 bgd events,  yes show plots, yes do a fit, fit to the third graph (index=2) ie the combined signal and background data) \n",
    "single_chi2_bgd, single_chi2_tot = singleToy(150, 10000, True, True, 2)"
   ]
  },
  {
   "cell_type": "code",
   "execution_count": 214,
   "id": "c266055e",
   "metadata": {},
   "outputs": [
    {
     "name": "stdout",
     "output_type": "stream",
     "text": [
      "delta_chi2 is:  0.017495988112249568\n",
      "p_value is:  0.10523116378303153\n",
      "n_sigmas is:  0.13227240117367478\n"
     ]
    }
   ],
   "source": [
    "single_delta_chi2 = single_chi2_bgd - single_chi2_tot\n",
    "p_value = scipy.stats.chi2.cdf(single_delta_chi2, df=1)\n",
    "# didn't use 1-p in error function this time because cdf gives probability of a chi2 value as extreme or less so flipped it to just p_value \n",
    "n_sigmas = erfinv(p_value) * np.sqrt(2)\n",
    "print('delta_chi2 is: ', single_delta_chi2)\n",
    "print('p_value is: ', p_value)\n",
    "print('n_sigmas is: ', n_sigmas)"
   ]
  },
  {
   "cell_type": "markdown",
   "id": "16eef412",
   "metadata": {},
   "source": [
    "# Problem 5"
   ]
  },
  {
   "cell_type": "code",
   "execution_count": 169,
   "id": "b8a38b8f",
   "metadata": {},
   "outputs": [],
   "source": [
    "# for 1000 toy experiments\n",
    "nb_toys = 1000\n",
    "# make list of delta chi2's\n",
    "delta_chi2s = []\n",
    "for i in range(nb_toys):\n",
    "    # number of signal events irrelevant as just fitting to background\n",
    "    # don't plot, yes to fitting, fit to graph index 1 ie the linear background only \n",
    "    chi2_bgd, chi2_tot = singleToy(150, 10000, False, True, 1)\n",
    "    delta_chi2s.append(chi2_bgd - chi2_tot)"
   ]
  },
  {
   "cell_type": "code",
   "execution_count": 200,
   "id": "b728e800",
   "metadata": {},
   "outputs": [
    {
     "data": {
      "image/png": "[encoded data removed]",
      "text/plain": [
       "<Figure size 504x504 with 1 Axes>"
      ]
     },
     "metadata": {
      "needs_background": "light"
     },
     "output_type": "display_data"
    }
   ],
   "source": [
    "plt.figure(figsize=(7, 7))\n",
    "# histogram of delta chi2's\n",
    "pts_per_bin, bin_lefts, _ = plt.hist(delta_chi2s, bins=50, density=True)\n",
    "plt.title(r'$\\Delta \\chi ^{2}$' + ' Distribution')\n",
    "plt.xlabel(r'$\\Delta \\chi ^{2}$')\n",
    "plt.show()"
   ]
  },
  {
   "cell_type": "markdown",
   "id": "ec593f4f",
   "metadata": {},
   "source": [
    "This looks like a chi2 distribution for one degree of freedom. This is expected because when fitting to the background only histogram, both H0 and H1 are equally good nested models (the Gaussian part of H1 will go to ~0) which is consistent with Wilk's theorem as there is one degree of freedom difference between the two models.\n",
    "\n",
    "If I assume that both H0 and H1 are equally good when fitting to the signal + background data, I can roughly use the above plot to check how likely I am to get different values of delta chi2. The obtained value was about 0.017 for one particular toy experiment, which is way beyond the tail of the above plot so is almost impossible to obtain randomly assuming H0 and H1 are equally good. Therefore, this is evidence that H1 should be the preferred model for fitting to the signal + background data."
   ]
  }
 ],
 "metadata": {
  "kernelspec": {
   "display_name": "Python 3 (ipykernel)",
   "language": "python",
   "name": "python3"
  },
  "language_info": {
   "codemirror_mode": {
    "name": "ipython",
    "version": 3
   },
   "file_extension": ".py",
   "mimetype": "text/x-python",
   "name": "python",
   "nbconvert_exporter": "python",
   "pygments_lexer": "ipython3",
   "version": "3.7.11"
  }
 },
 "nbformat": 4,
 "nbformat_minor": 5
}
