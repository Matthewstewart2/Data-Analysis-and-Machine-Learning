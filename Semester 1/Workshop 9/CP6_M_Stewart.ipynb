{
 "cells": [
  {
   "cell_type": "markdown",
   "id": "5f26992d",
   "metadata": {},
   "source": [
    "## CP6: Maximum Likelihood fitting"
   ]
  },
  {
   "cell_type": "code",
   "execution_count": 51,
   "id": "0f09692f",
   "metadata": {},
   "outputs": [],
   "source": [
    "# imports\n",
    "import numpy as np\n",
    "import matplotlib.pyplot as plt\n",
    "from iminuit import Minuit"
   ]
  },
  {
   "cell_type": "code",
   "execution_count": 52,
   "id": "e1f9910b",
   "metadata": {},
   "outputs": [],
   "source": [
    "# load in data from first file\n",
    "x = np.loadtxt('datafile-exp.txt')\n",
    "# told data was cutoff up to 10 microseconds so range is used for normalisation later\n",
    "xmin = 0.\n",
    "xmax = 10."
   ]
  },
  {
   "cell_type": "code",
   "execution_count": 53,
   "id": "4b8fbd4d",
   "metadata": {},
   "outputs": [
    {
     "data": {
      "image/png": "[encoded data removed]",
      "text/plain": [
       "<Figure size 576x432 with 1 Axes>"
      ]
     },
     "metadata": {
      "needs_background": "light"
     },
     "output_type": "display_data"
    }
   ],
   "source": [
    "# plot hitogram of raw data\n",
    "plt.figure(figsize=(8,6))\n",
    "plt.hist(x , bins=100, color='orange')\n",
    "plt.xlabel('Lifetime')\n",
    "plt.show()"
   ]
  },
  {
   "cell_type": "markdown",
   "id": "51ddce0b",
   "metadata": {},
   "source": [
    "Looks like an exponential distribution as expected."
   ]
  },
  {
   "cell_type": "code",
   "execution_count": 54,
   "id": "8708b53e",
   "metadata": {},
   "outputs": [],
   "source": [
    "def func_exp(x, tau):\n",
    "    # evaluates normalised exponential function for given tau using analytical expression from notes\n",
    "    norm = tau * (np.exp(-xmin/tau) - np.exp(-xmax/tau))\n",
    "    pdf = (1./norm) * np.exp(-x/tau)\n",
    "    return pdf"
   ]
  },
  {
   "cell_type": "code",
   "execution_count": 55,
   "id": "f9cbb439",
   "metadata": {},
   "outputs": [],
   "source": [
    "def nll_exp(tau):\n",
    "    # returns negative log likelihood (nll) for exponential model for fit parameter tau\n",
    "    # minimising nll is prefered over equivalently maximising joint likelihood because sum is more stable than product Minuit is a minimiser\n",
    "    # get pdf for curent tau\n",
    "    pdf = func_exp(x, tau)\n",
    "    nll = -1 * np.sum(np.log(pdf))\n",
    "    return nll"
   ]
  },
  {
   "cell_type": "code",
   "execution_count": 56,
   "id": "7cb5663e",
   "metadata": {},
   "outputs": [
    {
     "data": {
      "text/html": [
       "<table>\n",
       "    <tr>\n",
       "        <th colspan=\"5\" style=\"text-align:center\" title=\"Minimizer\"> Migrad </th>\n",
       "    </tr>\n",
       "    <tr>\n",
       "        <td colspan=\"2\" style=\"text-align:left\" title=\"Minimum value of function\"> FCN = 1.731e+04 </td>\n",
       "        <td colspan=\"3\" style=\"text-align:center\" title=\"No. of function evaluations in last call and total number\"> Nfcn = 19 </td>\n",
       "    </tr>\n",
       "    <tr>\n",
       "        <td colspan=\"2\" style=\"text-align:left\" title=\"Estimated distance to minimum and goal\"> EDM = 1.01e-07 (Goal: 0.0001) </td>\n",
       "        <td colspan=\"3\" style=\"text-align:center\" title=\"No. of gradient evaluations in last call and total number\">  </td>\n",
       "    </tr>\n",
       "    <tr>\n",
       "        <td colspan=\"2\" style=\"text-align:center;background-color:#92CCA6;color:black\"> Valid Minimum </td>\n",
       "        <td colspan=\"3\" style=\"text-align:center;background-color:#92CCA6;color:black\"> No Parameters at limit </td>\n",
       "    </tr>\n",
       "    <tr>\n",
       "        <td colspan=\"2\" style=\"text-align:center;background-color:#92CCA6;color:black\"> Below EDM threshold (goal x 10) </td>\n",
       "        <td colspan=\"3\" style=\"text-align:center;background-color:#92CCA6;color:black\"> Below call limit </td>\n",
       "    </tr>\n",
       "    <tr>\n",
       "        <td style=\"text-align:center;background-color:#92CCA6;color:black\"> Covariance </td>\n",
       "        <td style=\"text-align:center;background-color:#92CCA6;color:black\"> Hesse ok </td>\n",
       "        <td style=\"text-align:center;background-color:#92CCA6;color:black\" title=\"Is covariance matrix accurate?\"> Accurate </td>\n",
       "        <td style=\"text-align:center;background-color:#92CCA6;color:black\" title=\"Is covariance matrix positive definite?\"> Pos. def. </td>\n",
       "        <td style=\"text-align:center;background-color:#92CCA6;color:black\" title=\"Was positive definiteness enforced by Minuit?\"> Not forced </td>\n",
       "    </tr>\n",
       "</table><table>\n",
       "    <tr>\n",
       "        <td></td>\n",
       "        <th title=\"Variable name\"> Name </th>\n",
       "        <th title=\"Value of parameter\"> Value </th>\n",
       "        <th title=\"Hesse error\"> Hesse Error </th>\n",
       "        <th title=\"Minos lower error\"> Minos Error- </th>\n",
       "        <th title=\"Minos upper error\"> Minos Error+ </th>\n",
       "        <th title=\"Lower limit of the parameter\"> Limit- </th>\n",
       "        <th title=\"Upper limit of the parameter\"> Limit+ </th>\n",
       "        <th title=\"Is the parameter fixed in the fit\"> Fixed </th>\n",
       "    </tr>\n",
       "    <tr>\n",
       "        <th> 0 </th>\n",
       "        <td> tau </td>\n",
       "        <td> 2.204 </td>\n",
       "        <td> 0.025 </td>\n",
       "        <td>  </td>\n",
       "        <td>  </td>\n",
       "        <td>  </td>\n",
       "        <td>  </td>\n",
       "        <td>  </td>\n",
       "    </tr>\n",
       "</table><table>\n",
       "    <tr>\n",
       "        <td></td>\n",
       "        <th> tau </th>\n",
       "    </tr>\n",
       "    <tr>\n",
       "        <th> tau </th>\n",
       "        <td> 0.000627 </td>\n",
       "    </tr>\n",
       "</table>"
      ],
      "text/plain": [
       "┌─────────────────────────────────────────────────────────────────────────┐\n",
       "│                                Migrad                                   │\n",
       "├──────────────────────────────────┬──────────────────────────────────────┤\n",
       "│ FCN = 1.731e+04                  │              Nfcn = 19               │\n",
       "│ EDM = 1.01e-07 (Goal: 0.0001)    │                                      │\n",
       "├──────────────────────────────────┼──────────────────────────────────────┤\n",
       "│          Valid Minimum           │        No Parameters at limit        │\n",
       "├──────────────────────────────────┼──────────────────────────────────────┤\n",
       "│ Below EDM threshold (goal x 10)  │           Below call limit           │\n",
       "├───────────────┬──────────────────┼───────────┬─────────────┬────────────┤\n",
       "│  Covariance   │     Hesse ok     │ Accurate  │  Pos. def.  │ Not forced │\n",
       "└───────────────┴──────────────────┴───────────┴─────────────┴────────────┘\n",
       "┌───┬──────┬───────────┬───────────┬────────────┬────────────┬─────────┬─────────┬───────┐\n",
       "│   │ Name │   Value   │ Hesse Err │ Minos Err- │ Minos Err+ │ Limit-  │ Limit+  │ Fixed │\n",
       "├───┼──────┼───────────┼───────────┼────────────┼────────────┼─────────┼─────────┼───────┤\n",
       "│ 0 │ tau  │   2.204   │   0.025   │            │            │         │         │       │\n",
       "└───┴──────┴───────────┴───────────┴────────────┴────────────┴─────────┴─────────┴───────┘\n",
       "┌─────┬──────────┐\n",
       "│     │      tau │\n",
       "├─────┼──────────┤\n",
       "│ tau │ 0.000627 │\n",
       "└─────┴──────────┘"
      ]
     },
     "execution_count": 56,
     "metadata": {},
     "output_type": "execute_result"
    }
   ],
   "source": [
    "# use Minuit to minimise nll with initial guess for tau\n",
    "m1 = Minuit(nll_exp, tau=2.0)\n",
    "# error defintion for nll is up to next contour +0.5 from best param values\n",
    "m1.errordef = 0.5\n",
    "# carry out minimisation and display full results\n",
    "m1.migrad()"
   ]
  },
  {
   "cell_type": "markdown",
   "id": "cf4b72ef",
   "metadata": {},
   "source": [
    "Important conclusions from printout:\n",
    "- All green so fit was successful\n",
    "- Best estimate for tau ('Value') was about 2.2 as expected (2.204 this time)\n",
    "- Error on best estimate ('Hesse Error') was about 0.025"
   ]
  },
  {
   "cell_type": "code",
   "execution_count": 57,
   "id": "7225e791",
   "metadata": {},
   "outputs": [],
   "source": [
    "# load second dataset\n",
    "t = np.loadtxt('datafile-expresonance.txt')\n",
    "tmin = 0.\n",
    "tmax = 10."
   ]
  },
  {
   "cell_type": "code",
   "execution_count": 58,
   "id": "db7bebf4",
   "metadata": {},
   "outputs": [
    {
     "data": {
      "image/png": "[encoded data removed]",
      "text/plain": [
       "<Figure size 576x432 with 1 Axes>"
      ]
     },
     "metadata": {
      "needs_background": "light"
     },
     "output_type": "display_data"
    }
   ],
   "source": [
    "# plot histogram of second dataset\n",
    "plt.figure(figsize=(8,6))\n",
    "plt.hist(t , bins=100, color='orange')\n",
    "plt.xlabel('Lifetime')\n",
    "plt.show()"
   ]
  },
  {
   "cell_type": "markdown",
   "id": "2f5215ed",
   "metadata": {},
   "source": [
    "Looks like exponential background with Gaussian signal centred on a lifetime of ~2.5 as expected."
   ]
  },
  {
   "cell_type": "code",
   "execution_count": 59,
   "id": "02069f43",
   "metadata": {},
   "outputs": [],
   "source": [
    "def func_full(t, lifetime, mean, F):\n",
    "    # evaluates sum of normalsied exponential background and Gaussian signal\n",
    "    gaussian = np.exp(-0.5 * ((t - mean)/sigma)**2)\n",
    "    # fixing sigma to a small enough value such as 0.2 means it tails off to zero well within the range of interest\n",
    "    # so we can safely approximate our normalisation to the normalisation between +/- infinity\n",
    "    gaussian_norm = sigma*np.sqrt(2*np.pi)\n",
    "    gaussian = gaussian / gaussian_norm\n",
    "    \n",
    "    # exponential normalised same as before\n",
    "    expon = np.exp(-t/lifetime)\n",
    "    expon_norm = lifetime * (np.exp(-tmin/lifetime) - np.exp(-tmax/lifetime))\n",
    "    expon = expon / expon_norm\n",
    "    \n",
    "    # expecting F between 0 and 1 means summing like this preserves normalisation after summing\n",
    "    return (1-F)*gaussian + F*expon "
   ]
  },
  {
   "cell_type": "code",
   "execution_count": 60,
   "id": "d85a6ebb",
   "metadata": {},
   "outputs": [],
   "source": [
    "def nll_full(lifetime, mean, F):\n",
    "    # nll for exponential background and Gaussian signal model for fit parameters background 'lifetime', gaussian mean and background fraction F\n",
    "    pdf = func_full(t, lifetime, mean, F)\n",
    "    nll = -1 * np.sum(np.log(pdf))\n",
    "    return nll"
   ]
  },
  {
   "cell_type": "code",
   "execution_count": 61,
   "id": "213ca1f3",
   "metadata": {},
   "outputs": [
    {
     "data": {
      "text/html": [
       "<table>\n",
       "    <tr>\n",
       "        <th colspan=\"5\" style=\"text-align:center\" title=\"Minimizer\"> Migrad </th>\n",
       "    </tr>\n",
       "    <tr>\n",
       "        <td colspan=\"2\" style=\"text-align:left\" title=\"Minimum value of function\"> FCN = 2.102e+04 </td>\n",
       "        <td colspan=\"3\" style=\"text-align:center\" title=\"No. of function evaluations in last call and total number\"> Nfcn = 84 </td>\n",
       "    </tr>\n",
       "    <tr>\n",
       "        <td colspan=\"2\" style=\"text-align:left\" title=\"Estimated distance to minimum and goal\"> EDM = 1.07e-05 (Goal: 0.0001) </td>\n",
       "        <td colspan=\"3\" style=\"text-align:center\" title=\"No. of gradient evaluations in last call and total number\">  </td>\n",
       "    </tr>\n",
       "    <tr>\n",
       "        <td colspan=\"2\" style=\"text-align:center;background-color:#92CCA6;color:black\"> Valid Minimum </td>\n",
       "        <td colspan=\"3\" style=\"text-align:center;background-color:#92CCA6;color:black\"> No Parameters at limit </td>\n",
       "    </tr>\n",
       "    <tr>\n",
       "        <td colspan=\"2\" style=\"text-align:center;background-color:#92CCA6;color:black\"> Below EDM threshold (goal x 10) </td>\n",
       "        <td colspan=\"3\" style=\"text-align:center;background-color:#92CCA6;color:black\"> Below call limit </td>\n",
       "    </tr>\n",
       "    <tr>\n",
       "        <td style=\"text-align:center;background-color:#92CCA6;color:black\"> Covariance </td>\n",
       "        <td style=\"text-align:center;background-color:#92CCA6;color:black\"> Hesse ok </td>\n",
       "        <td style=\"text-align:center;background-color:#92CCA6;color:black\" title=\"Is covariance matrix accurate?\"> Accurate </td>\n",
       "        <td style=\"text-align:center;background-color:#92CCA6;color:black\" title=\"Is covariance matrix positive definite?\"> Pos. def. </td>\n",
       "        <td style=\"text-align:center;background-color:#92CCA6;color:black\" title=\"Was positive definiteness enforced by Minuit?\"> Not forced </td>\n",
       "    </tr>\n",
       "</table><table>\n",
       "    <tr>\n",
       "        <td></td>\n",
       "        <th title=\"Variable name\"> Name </th>\n",
       "        <th title=\"Value of parameter\"> Value </th>\n",
       "        <th title=\"Hesse error\"> Hesse Error </th>\n",
       "        <th title=\"Minos lower error\"> Minos Error- </th>\n",
       "        <th title=\"Minos upper error\"> Minos Error+ </th>\n",
       "        <th title=\"Lower limit of the parameter\"> Limit- </th>\n",
       "        <th title=\"Upper limit of the parameter\"> Limit+ </th>\n",
       "        <th title=\"Is the parameter fixed in the fit\"> Fixed </th>\n",
       "    </tr>\n",
       "    <tr>\n",
       "        <th> 0 </th>\n",
       "        <td> lifetime </td>\n",
       "        <td> 5.04 </td>\n",
       "        <td> 0.10 </td>\n",
       "        <td>  </td>\n",
       "        <td>  </td>\n",
       "        <td>  </td>\n",
       "        <td>  </td>\n",
       "        <td>  </td>\n",
       "    </tr>\n",
       "    <tr>\n",
       "        <th> 1 </th>\n",
       "        <td> mean </td>\n",
       "        <td> 2.500 </td>\n",
       "        <td> 0.012 </td>\n",
       "        <td>  </td>\n",
       "        <td>  </td>\n",
       "        <td>  </td>\n",
       "        <td>  </td>\n",
       "        <td>  </td>\n",
       "    </tr>\n",
       "    <tr>\n",
       "        <th> 2 </th>\n",
       "        <td> F </td>\n",
       "        <td> 0.903 </td>\n",
       "        <td> 0.005 </td>\n",
       "        <td>  </td>\n",
       "        <td>  </td>\n",
       "        <td>  </td>\n",
       "        <td>  </td>\n",
       "        <td>  </td>\n",
       "    </tr>\n",
       "</table><table>\n",
       "    <tr>\n",
       "        <td></td>\n",
       "        <th> lifetime </th>\n",
       "        <th> mean </th>\n",
       "        <th> F </th>\n",
       "    </tr>\n",
       "    <tr>\n",
       "        <th> lifetime </th>\n",
       "        <td> 0.0105 </td>\n",
       "        <td style=\"background-color:rgb(246,246,250);color:black\"> -4.19e-05 <strong>(-0.035)</strong> </td>\n",
       "        <td style=\"background-color:rgb(237,237,250);color:black\"> -4.49e-05 <strong>(-0.097)</strong> </td>\n",
       "    </tr>\n",
       "    <tr>\n",
       "        <th> mean </th>\n",
       "        <td style=\"background-color:rgb(246,246,250);color:black\"> -4.19e-05 <strong>(-0.035)</strong> </td>\n",
       "        <td> 0.000139 </td>\n",
       "        <td style=\"background-color:rgb(250,248,248);color:black\"> 8.51e-07 <strong>(0.016)</strong> </td>\n",
       "    </tr>\n",
       "    <tr>\n",
       "        <th> F </th>\n",
       "        <td style=\"background-color:rgb(237,237,250);color:black\"> -4.49e-05 <strong>(-0.097)</strong> </td>\n",
       "        <td style=\"background-color:rgb(250,248,248);color:black\"> 8.51e-07 <strong>(0.016)</strong> </td>\n",
       "        <td> 2.03e-05 </td>\n",
       "    </tr>\n",
       "</table>"
      ],
      "text/plain": [
       "┌─────────────────────────────────────────────────────────────────────────┐\n",
       "│                                Migrad                                   │\n",
       "├──────────────────────────────────┬──────────────────────────────────────┤\n",
       "│ FCN = 2.102e+04                  │              Nfcn = 84               │\n",
       "│ EDM = 1.07e-05 (Goal: 0.0001)    │                                      │\n",
       "├──────────────────────────────────┼──────────────────────────────────────┤\n",
       "│          Valid Minimum           │        No Parameters at limit        │\n",
       "├──────────────────────────────────┼──────────────────────────────────────┤\n",
       "│ Below EDM threshold (goal x 10)  │           Below call limit           │\n",
       "├───────────────┬──────────────────┼───────────┬─────────────┬────────────┤\n",
       "│  Covariance   │     Hesse ok     │ Accurate  │  Pos. def.  │ Not forced │\n",
       "└───────────────┴──────────────────┴───────────┴─────────────┴────────────┘\n",
       "┌───┬──────────┬───────────┬───────────┬────────────┬────────────┬─────────┬─────────┬───────┐\n",
       "│   │ Name     │   Value   │ Hesse Err │ Minos Err- │ Minos Err+ │ Limit-  │ Limit+  │ Fixed │\n",
       "├───┼──────────┼───────────┼───────────┼────────────┼────────────┼─────────┼─────────┼───────┤\n",
       "│ 0 │ lifetime │   5.04    │   0.10    │            │            │         │         │       │\n",
       "│ 1 │ mean     │   2.500   │   0.012   │            │            │         │         │       │\n",
       "│ 2 │ F        │   0.903   │   0.005   │            │            │         │         │       │\n",
       "└───┴──────────┴───────────┴───────────┴────────────┴────────────┴─────────┴─────────┴───────┘\n",
       "┌──────────┬───────────────────────────────┐\n",
       "│          │  lifetime      mean         F │\n",
       "├──────────┼───────────────────────────────┤\n",
       "│ lifetime │    0.0105 -4.19e-05 -4.49e-05 │\n",
       "│     mean │ -4.19e-05  0.000139  8.51e-07 │\n",
       "│        F │ -4.49e-05  8.51e-07  2.03e-05 │\n",
       "└──────────┴───────────────────────────────┘"
      ]
     },
     "execution_count": 61,
     "metadata": {},
     "output_type": "execute_result"
    }
   ],
   "source": [
    "# fix sigma to 0.2 as recommended in notes\n",
    "sigma = 0.2\n",
    "# fit with second model Minuit also, with initial guesses for background lifetime, signal mean and background fraction F\n",
    "m2 = Minuit(nll_full, lifetime=4., mean=3., F=0.8)\n",
    "m2.errordef = 0.5\n",
    "m2.migrad()"
   ]
  },
  {
   "cell_type": "markdown",
   "id": "6bdae1dd",
   "metadata": {},
   "source": [
    "Parameter best estimates:\n",
    "- Best estimate for background lifetime was about 5 (5.04 this time) as expected\n",
    "- Best estimate for signal mean was about 2.5 (2.500 this time) as expected\n",
    "- Best estimate for background fraction F was about 0.9 (0.903 this time) as expected\n",
    "\n",
    "Parameter errors:\n",
    "- Error on background lifetime was 0.10\n",
    "- Error on signal mean was 0.012\n",
    "- Error on background fraction F was 0.005"
   ]
  },
  {
   "cell_type": "code",
   "execution_count": 62,
   "id": "594d452d",
   "metadata": {},
   "outputs": [
    {
     "data": {
      "text/html": [
       "<table>\n",
       "    <tr>\n",
       "        <td></td>\n",
       "        <th> lifetime </th>\n",
       "        <th> mean </th>\n",
       "        <th> F </th>\n",
       "    </tr>\n",
       "    <tr>\n",
       "        <th> lifetime </th>\n",
       "        <td> 1 </td>\n",
       "        <td style=\"background-color:rgb(246,246,250);color:black\"> -0.0346 </td>\n",
       "        <td style=\"background-color:rgb(237,237,250);color:black\"> -0.0969 </td>\n",
       "    </tr>\n",
       "    <tr>\n",
       "        <th> mean </th>\n",
       "        <td style=\"background-color:rgb(246,246,250);color:black\"> -0.0346 </td>\n",
       "        <td> 1 </td>\n",
       "        <td style=\"background-color:rgb(250,248,248);color:black\"> 0.016 </td>\n",
       "    </tr>\n",
       "    <tr>\n",
       "        <th> F </th>\n",
       "        <td style=\"background-color:rgb(237,237,250);color:black\"> -0.0969 </td>\n",
       "        <td style=\"background-color:rgb(250,248,248);color:black\"> 0.016 </td>\n",
       "        <td> 1 </td>\n",
       "    </tr>\n",
       "</table>"
      ],
      "text/plain": [
       "┌──────────┬────────────────────────────┐\n",
       "│          │ lifetime     mean        F │\n",
       "├──────────┼────────────────────────────┤\n",
       "│ lifetime │        1  -0.0346  -0.0969 │\n",
       "│     mean │  -0.0346        1    0.016 │\n",
       "│        F │  -0.0969    0.016        1 │\n",
       "└──────────┴────────────────────────────┘"
      ]
     },
     "execution_count": 62,
     "metadata": {},
     "output_type": "execute_result"
    }
   ],
   "source": [
    "m2.covariance.correlation() "
   ]
  },
  {
   "cell_type": "markdown",
   "id": "a51b2045",
   "metadata": {},
   "source": [
    "By default migrad() displays the covariance matrix but above is the correlation matrix mentioned in the notes. The only somewhat significant correlation is between background lifetime and background fraction F which is about -0.1."
   ]
  }
 ],
 "metadata": {
  "kernelspec": {
   "display_name": "Python 3 (ipykernel)",
   "language": "python",
   "name": "python3"
  },
  "language_info": {
   "codemirror_mode": {
    "name": "ipython",
    "version": 3
   },
   "file_extension": ".py",
   "mimetype": "text/x-python",
   "name": "python",
   "nbconvert_exporter": "python",
   "pygments_lexer": "ipython3",
   "version": "3.7.11"
  }
 },
 "nbformat": 4,
 "nbformat_minor": 5
}
